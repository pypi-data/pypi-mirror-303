{
 "cells": [
  {
   "cell_type": "code",
   "execution_count": null,
   "metadata": {},
   "outputs": [],
   "source": [
    "#\n",
    "# Modified from Original Source:  https://www.geeksforgeeks.org/longest-common-substring-dp-29/\n",
    "# - now returns the indices for each of the strings\n",
    "#\n",
    "def longestCommonSubstr(s1, s2):\n",
    "    m = len(s1)\n",
    "    n = len(s2)\n",
    "    i_cap, j_cap = None, None\n",
    "\n",
    "    # Create a 1D array to store the previous row's results\n",
    "    prev = [0] * (n + 1)\n",
    "    \n",
    "    res = 0\n",
    "    for i in range(1, m + 1):\n",
    "      \n",
    "        # Create a temporary array to store the current row\n",
    "        curr = [0] * (n + 1)\n",
    "        for j in range(1, n + 1):\n",
    "            if s1[i - 1] == s2[j - 1]:\n",
    "                curr[j] = prev[j - 1] + 1\n",
    "                res_before = res\n",
    "                res = max(res, curr[j])\n",
    "                if res_before != res:\n",
    "                    i_cap, j_cap = i, j\n",
    "            else:\n",
    "                curr[j] = 0\n",
    "        \n",
    "        # Move the current row's data to the previous row\n",
    "        prev = curr\n",
    "    \n",
    "    if i_cap is None or j_cap is None: return 0, -1, -1\n",
    "    return res, i_cap - res, j_cap - res\n",
    "\n",
    "# iterativelyFindAllCommonSubstrings() - iteratively find the longest common substring that's left\n",
    "def iterativelyFindAllCommonSubstrings(_longer_, _shorter_, min_len=8):\n",
    "    shorter_indices = [x for x in range(len(_shorter_))]\n",
    "    results = []\n",
    "    _len_, i, j = longestCommonSubstr(_longer_, _shorter_)\n",
    "    while _len_ >= min_len:\n",
    "        results.append((_len_, i, shorter_indices[j]))\n",
    "        _shorter_       = _shorter_[:j]       + _shorter_[j+_len_:]\n",
    "        shorter_indices = shorter_indices[:j] + shorter_indices[j+_len_:]\n",
    "        _len_, i, j = longestCommonSubstr(_longer_, _shorter_)\n",
    "    return results, _shorter_\n",
    "\n",
    "# Driver Code\n",
    "s1 = \"geeksforgeeks\"\n",
    "s2 = \"ggeegeeksquizpracticegeeoksforasdasfgeeksasdfasdfeeksforasdfasdf\"\n",
    "_len_, _i_, _j_ = longestCommonSubstr(s1, s2)\n",
    "print(f'{_len_} : {_i_} \"{s1[_i_:_i_+_len_]}\" : {_j_} \"{s2[_j_:_j_+_len_]}\"')"
   ]
  },
  {
   "cell_type": "code",
   "execution_count": null,
   "metadata": {},
   "outputs": [],
   "source": [
    "my_results, my_leftovers = iterativelyFindAllCommonSubstrings(s2, s1, 4)\n",
    "for _tuple_ in my_results:\n",
    "    print(f'len={_tuple_[0]} @ {_tuple_[1]} \"{s2[_tuple_[1]:_tuple_[1]+_tuple_[0]]}\" @ {_tuple_[2]} \"{s1[_tuple_[2]:_tuple_[2]+_tuple_[0]]}\"')"
   ]
  },
  {
   "cell_type": "code",
   "execution_count": null,
   "metadata": {},
   "outputs": [],
   "source": [
    "my_longer  = 'abcdefxyzmno'\n",
    "my_shorter = 'abcdefghimno'\n",
    "iterativelyFindAllCommonSubstrings(my_longer, my_shorter, 2)"
   ]
  },
  {
   "cell_type": "code",
   "execution_count": null,
   "metadata": {},
   "outputs": [],
   "source": []
  }
 ],
 "metadata": {
  "kernelspec": {
   "display_name": ".venv",
   "language": "python",
   "name": "python3"
  },
  "language_info": {
   "codemirror_mode": {
    "name": "ipython",
    "version": 3
   },
   "file_extension": ".py",
   "mimetype": "text/x-python",
   "name": "python",
   "nbconvert_exporter": "python",
   "pygments_lexer": "ipython3",
   "version": "3.12.3"
  }
 },
 "nbformat": 4,
 "nbformat_minor": 2
}
