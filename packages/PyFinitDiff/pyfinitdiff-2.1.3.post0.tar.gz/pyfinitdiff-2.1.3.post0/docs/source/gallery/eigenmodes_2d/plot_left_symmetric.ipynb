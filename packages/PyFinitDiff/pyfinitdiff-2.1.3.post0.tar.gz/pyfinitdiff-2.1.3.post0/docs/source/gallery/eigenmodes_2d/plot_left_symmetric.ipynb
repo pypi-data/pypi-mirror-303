{
  "cells": [
    {
      "cell_type": "markdown",
      "metadata": {},
      "source": [
        "\n# Example: eigenmodes 3\n\nIn this example, we calculate and visualize the eigenmodes of a finite difference operator combined\nwith a circular mesh potential. The boundary conditions, mesh properties, and eigenmode calculations\nare all set up for demonstration purposes.\n"
      ]
    },
    {
      "cell_type": "markdown",
      "metadata": {},
      "source": [
        "+-------------+------------+--------------+------------+------------+\n| Boundaries  |    left    |     right    |    top     |   bottom   |\n+=============+============+==============+============+============+\n|      -      |     sym    |     zero     |   zero     |   zero     |\n+-------------+------------+--------------+------------+------------+\n\n"
      ]
    },
    {
      "cell_type": "markdown",
      "metadata": {},
      "source": [
        "## Importing required packages\nHere we import the necessary libraries for numerical computations, rendering, and finite difference operations.\n\n"
      ]
    },
    {
      "cell_type": "code",
      "execution_count": null,
      "metadata": {
        "collapsed": false
      },
      "outputs": [],
      "source": [
        "from scipy.sparse import linalg\nfrom PyFinitDiff.finite_difference_2D import FiniteDifference, get_circular_mesh_triplet, Boundaries\nimport matplotlib.pyplot as plt"
      ]
    },
    {
      "cell_type": "markdown",
      "metadata": {},
      "source": [
        "## Setting up the finite difference instance and boundaries\nWe define the grid size and set up the finite difference instance with specified boundary conditions.\n\n"
      ]
    },
    {
      "cell_type": "code",
      "execution_count": null,
      "metadata": {
        "collapsed": false
      },
      "outputs": [],
      "source": [
        "n_y = n_x = 80\n\nsparse_instance = FiniteDifference(\n    n_x=n_x,\n    n_y=n_y,\n    dx=1,\n    dy=1,\n    derivative=2,\n    accuracy=4,\n    boundaries=Boundaries(left='symmetric')\n)"
      ]
    },
    {
      "cell_type": "markdown",
      "metadata": {},
      "source": [
        "## Creating the circular mesh potential\nWe create a circular mesh triplet, specifying the inner and outer values, and offset parameters.\n\n"
      ]
    },
    {
      "cell_type": "code",
      "execution_count": null,
      "metadata": {
        "collapsed": false
      },
      "outputs": [],
      "source": [
        "mesh_triplet = get_circular_mesh_triplet(\n    n_x=n_x,\n    n_y=n_y,\n    value_out=1.0,\n    value_in=1.4444,\n    x_offset=-100,\n    y_offset=0,\n    radius=70\n)"
      ]
    },
    {
      "cell_type": "markdown",
      "metadata": {},
      "source": [
        "## Combining the finite difference and mesh triplets\nWe add the circular mesh triplet to the finite difference Laplacian to form the dynamic triplet.\n\n"
      ]
    },
    {
      "cell_type": "code",
      "execution_count": null,
      "metadata": {
        "collapsed": false
      },
      "outputs": [],
      "source": [
        "dynamic_triplet = sparse_instance.triplet + mesh_triplet"
      ]
    },
    {
      "cell_type": "markdown",
      "metadata": {},
      "source": [
        "## Calculating the eigenmodes\nWe compute the first four eigenmodes of the combined operator using the scipy sparse linear algebra package.\n\n"
      ]
    },
    {
      "cell_type": "code",
      "execution_count": null,
      "metadata": {
        "collapsed": false
      },
      "outputs": [],
      "source": [
        "eigen_values, eigen_vectors = linalg.eigs(\n    dynamic_triplet.to_scipy_sparse(),\n    k=4,\n    which='LM',\n    sigma=1.4444\n)\n\nshape = [sparse_instance.n_x, sparse_instance.n_y]"
      ]
    },
    {
      "cell_type": "markdown",
      "metadata": {},
      "source": [
        "## Visualizing the eigenmodes with matplotlib\nWe visualize the first four eigenmodes by reshaping the eigenvectors and plotting them using matplotlib.\n\n"
      ]
    },
    {
      "cell_type": "code",
      "execution_count": null,
      "metadata": {
        "collapsed": false
      },
      "outputs": [],
      "source": [
        "fig, axes = plt.subplots(1, 4, figsize=(16, 4), constrained_layout=True)\n\nfor i, ax in enumerate(axes):\n    vector = eigen_vectors[:, i].real.reshape(shape)\n    mesh = ax.pcolormesh(vector, shading='auto', cmap='viridis')\n    ax.set_title(f'eigenvalue: {eigen_values[i]:.3f}')\n    ax.set_aspect('equal')\n    plt.colorbar(mesh, ax=ax)\n\nplt.show()"
      ]
    }
  ],
  "metadata": {
    "kernelspec": {
      "display_name": "Python 3",
      "language": "python",
      "name": "python3"
    },
    "language_info": {
      "codemirror_mode": {
        "name": "ipython",
        "version": 3
      },
      "file_extension": ".py",
      "mimetype": "text/x-python",
      "name": "python",
      "nbconvert_exporter": "python",
      "pygments_lexer": "ipython3",
      "version": "3.11.0"
    }
  },
  "nbformat": 4,
  "nbformat_minor": 0
}