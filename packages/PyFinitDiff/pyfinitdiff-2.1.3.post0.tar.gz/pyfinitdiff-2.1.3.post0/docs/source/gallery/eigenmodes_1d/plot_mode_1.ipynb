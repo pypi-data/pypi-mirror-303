{
  "cells": [
    {
      "cell_type": "markdown",
      "metadata": {},
      "source": [
        "\n# Example: 1D eigenmodes 2\n\nIn this example, we calculate and visualize the eigenmodes of a 1D finite difference operator combined\nwith a circular mesh potential. The boundary conditions, mesh properties, and eigenmode calculations\nare all set up for demonstration purposes.\n"
      ]
    },
    {
      "cell_type": "markdown",
      "metadata": {},
      "source": [
        ".. list-table:: 1D Finite-difference parameters\n   :widths: 25\n   :header-rows: 0\n\n   * - boundaries: {left: symmetric, right: symmetric}\n   * - derivative: 2\n   * - accuracy: 6\n\n"
      ]
    },
    {
      "cell_type": "markdown",
      "metadata": {},
      "source": [
        "## Importing required packages\nHere we import the necessary libraries for numerical computations, rendering, and finite difference operations.\n\n"
      ]
    },
    {
      "cell_type": "code",
      "execution_count": null,
      "metadata": {
        "collapsed": false
      },
      "outputs": [],
      "source": [
        "from scipy.sparse import linalg\nimport matplotlib.pyplot as plt\nfrom PyFinitDiff.finite_difference_1D import FiniteDifference, get_circular_mesh_triplet, Boundaries"
      ]
    },
    {
      "cell_type": "markdown",
      "metadata": {},
      "source": [
        "## Setting up the finite difference instance and boundaries\nWe define the grid size and set up the finite difference instance with specified boundary conditions.\n\n"
      ]
    },
    {
      "cell_type": "code",
      "execution_count": null,
      "metadata": {
        "collapsed": false
      },
      "outputs": [],
      "source": [
        "n_x = 200\n\nsparse_instance = FiniteDifference(\n    n_x=n_x,\n    dx=1,\n    derivative=2,\n    accuracy=6,\n    boundaries=Boundaries(left='symmetric', right='symmetric')\n)"
      ]
    },
    {
      "cell_type": "markdown",
      "metadata": {},
      "source": [
        "## Creating the circular mesh potential\nWe create a circular mesh triplet, specifying the inner and outer values, and offset parameters.\n\n"
      ]
    },
    {
      "cell_type": "code",
      "execution_count": null,
      "metadata": {
        "collapsed": false
      },
      "outputs": [],
      "source": [
        "mesh_triplet = get_circular_mesh_triplet(\n    n_x=n_x,\n    radius=60,\n    value_out=1,\n    value_in=1.4444,\n    x_offset=-100\n)"
      ]
    },
    {
      "cell_type": "markdown",
      "metadata": {},
      "source": [
        "## Combining the finite difference and mesh triplets\nWe add the circular mesh triplet to the finite difference operator to form the dynamic triplet.\n\n"
      ]
    },
    {
      "cell_type": "code",
      "execution_count": null,
      "metadata": {
        "collapsed": false
      },
      "outputs": [],
      "source": [
        "dynamic_triplet = sparse_instance.triplet + mesh_triplet"
      ]
    },
    {
      "cell_type": "markdown",
      "metadata": {},
      "source": [
        "## Calculating the eigenmodes\nWe compute the first four eigenmodes of the combined operator using the scipy sparse linear algebra package.\n\n"
      ]
    },
    {
      "cell_type": "code",
      "execution_count": null,
      "metadata": {
        "collapsed": false
      },
      "outputs": [],
      "source": [
        "eigen_values, eigen_vectors = linalg.eigs(\n    dynamic_triplet.to_dense(),\n    k=4,\n    which='LM',\n    sigma=1.4444\n)"
      ]
    },
    {
      "cell_type": "markdown",
      "metadata": {},
      "source": [
        "## Visualizing the eigenmodes with matplotlib\nWe visualize the first four eigenmodes by reshaping the eigenvectors and plotting them using matplotlib.\n\n"
      ]
    },
    {
      "cell_type": "code",
      "execution_count": null,
      "metadata": {
        "collapsed": false
      },
      "outputs": [],
      "source": [
        "fig, axes = plt.subplots(2, 2, figsize=(10, 8), constrained_layout=True)\naxes = axes.flatten()\n\nfor i, ax in enumerate(axes):\n    vector = eigen_vectors[:, i]\n    ax.plot(vector)\n    ax.set_title(f'eigenvalue: {eigen_values[i]:.3f}')\n    ax.set_xlabel('Index')\n    ax.set_ylabel('Amplitude')\n    ax.grid(True)\n\nplt.show()"
      ]
    }
  ],
  "metadata": {
    "kernelspec": {
      "display_name": "Python 3",
      "language": "python",
      "name": "python3"
    },
    "language_info": {
      "codemirror_mode": {
        "name": "ipython",
        "version": 3
      },
      "file_extension": ".py",
      "mimetype": "text/x-python",
      "name": "python",
      "nbconvert_exporter": "python",
      "pygments_lexer": "ipython3",
      "version": "3.11.0"
    }
  },
  "nbformat": 4,
  "nbformat_minor": 0
}