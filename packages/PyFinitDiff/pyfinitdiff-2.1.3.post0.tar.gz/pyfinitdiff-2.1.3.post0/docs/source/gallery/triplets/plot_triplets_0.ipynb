{
  "cells": [
    {
      "cell_type": "markdown",
      "metadata": {},
      "source": [
        "\n# Example: triplets 0\n\nIn this example, we generate a finite difference instance and visualize the resulting triplets.\nThe boundary conditions, derivative, and accuracy settings are specified for demonstration purposes.\n"
      ]
    },
    {
      "cell_type": "markdown",
      "metadata": {},
      "source": [
        ".. list-table:: Finite-difference parameters\n   :widths: 25\n   :header-rows: 1\n\n   * - boundaries: {left: 0, right: 0, top: 0, bottom: 0}\n   * - derivative: 2\n   * - accuracy: 4\n\n"
      ]
    },
    {
      "cell_type": "markdown",
      "metadata": {},
      "source": [
        "## Importing required packages\nHere we import the necessary libraries for numerical computations and finite difference operations.\n\n"
      ]
    },
    {
      "cell_type": "code",
      "execution_count": null,
      "metadata": {
        "collapsed": false
      },
      "outputs": [],
      "source": [
        "from PyFinitDiff.finite_difference_2D import FiniteDifference, Boundaries\nimport matplotlib.pyplot as plt"
      ]
    },
    {
      "cell_type": "markdown",
      "metadata": {},
      "source": [
        "## Setting up the finite difference instance and boundaries\nWe define the grid size and set up the finite difference instance with specified boundary conditions.\n\n"
      ]
    },
    {
      "cell_type": "code",
      "execution_count": null,
      "metadata": {
        "collapsed": false
      },
      "outputs": [],
      "source": [
        "sparse_instance = FiniteDifference(\n    n_x=20,\n    n_y=20,\n    dx=1,\n    dy=1,\n    derivative=2,\n    accuracy=2,\n    boundaries=Boundaries()\n)"
      ]
    },
    {
      "cell_type": "markdown",
      "metadata": {},
      "source": [
        "## Visualizing the triplets with matplotlib\nWe plot the triplets using matplotlib to visualize the finite difference operator.\n\n"
      ]
    },
    {
      "cell_type": "code",
      "execution_count": null,
      "metadata": {
        "collapsed": false
      },
      "outputs": [],
      "source": [
        "sparse_instance.triplet.plot()\n\nplt.show()\n\n# -"
      ]
    }
  ],
  "metadata": {
    "kernelspec": {
      "display_name": "Python 3",
      "language": "python",
      "name": "python3"
    },
    "language_info": {
      "codemirror_mode": {
        "name": "ipython",
        "version": 3
      },
      "file_extension": ".py",
      "mimetype": "text/x-python",
      "name": "python",
      "nbconvert_exporter": "python",
      "pygments_lexer": "ipython3",
      "version": "3.11.0"
    }
  },
  "nbformat": 4,
  "nbformat_minor": 0
}