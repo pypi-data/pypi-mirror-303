{
  "cells": [
    {
      "cell_type": "markdown",
      "metadata": {},
      "source": [
        "\n# Gradient of array\n\nIn this example, we calculate the gradient of a 2D array using finite difference methods.\nWe will explore different orders of derivatives and visualize their effects on the input array.\n"
      ]
    },
    {
      "cell_type": "markdown",
      "metadata": {},
      "source": [
        "## Importing required packages\nHere we import the necessary libraries for numerical computations, rendering, and finite difference operations.\n\n"
      ]
    },
    {
      "cell_type": "code",
      "execution_count": null,
      "metadata": {
        "collapsed": false
      },
      "outputs": [],
      "source": [
        "import numpy as np\nfrom PyFinitDiff.finite_difference_2D import get_array_derivative, Boundaries\nimport matplotlib.pyplot as plt"
      ]
    },
    {
      "cell_type": "markdown",
      "metadata": {},
      "source": [
        "## Creating the input mesh\nWe define a 2D Gaussian mesh using two 1D exponential arrays.\n\n"
      ]
    },
    {
      "cell_type": "code",
      "execution_count": null,
      "metadata": {
        "collapsed": false
      },
      "outputs": [],
      "source": [
        "idx = np.linspace(-5, 5, 100)\nx_array = np.exp(-idx**2)\ny_array = np.exp(-idx**2)\n\ny_array, x_array = np.meshgrid(x_array, y_array)\n\nmesh = x_array * y_array"
      ]
    },
    {
      "cell_type": "markdown",
      "metadata": {},
      "source": [
        "## Setting boundary conditions\nDefine boundary conditions for the gradient calculation. Here, we use 'none' for all boundaries.\n\n"
      ]
    },
    {
      "cell_type": "code",
      "execution_count": null,
      "metadata": {
        "collapsed": false
      },
      "outputs": [],
      "source": [
        "boundaries = Boundaries(top='none', bottom='none', left='none', right='none')"
      ]
    },
    {
      "cell_type": "markdown",
      "metadata": {},
      "source": [
        "## Visualizing the gradient for different derivatives\nWe compute the gradient for first, second, and third derivatives and visualize them.\n\n"
      ]
    },
    {
      "cell_type": "code",
      "execution_count": null,
      "metadata": {
        "collapsed": false
      },
      "outputs": [],
      "source": [
        "figure, axes = plt.subplots(1, 3, figsize=(12, 4), constrained_layout=True)\naxes = axes.flatten()\n\nfor ax, derivative in zip(axes, [1, 2, 3]):\n    gradient = get_array_derivative(\n        array=mesh,\n        accuracy=6,\n        derivative=derivative,\n        x_derivative=True,\n        y_derivative=True,\n        boundaries=boundaries\n    )\n\n    image = ax.pcolormesh(gradient.real, shading='auto', cmap='viridis')\n    ax.set_title(f'Derivative: {derivative}')\n    ax.set_aspect('equal')\n    plt.colorbar(image, ax=ax)\n\nplt.show()"
      ]
    }
  ],
  "metadata": {
    "kernelspec": {
      "display_name": "Python 3",
      "language": "python",
      "name": "python3"
    },
    "language_info": {
      "codemirror_mode": {
        "name": "ipython",
        "version": 3
      },
      "file_extension": ".py",
      "mimetype": "text/x-python",
      "name": "python",
      "nbconvert_exporter": "python",
      "pygments_lexer": "ipython3",
      "version": "3.11.0"
    }
  },
  "nbformat": 4,
  "nbformat_minor": 0
}