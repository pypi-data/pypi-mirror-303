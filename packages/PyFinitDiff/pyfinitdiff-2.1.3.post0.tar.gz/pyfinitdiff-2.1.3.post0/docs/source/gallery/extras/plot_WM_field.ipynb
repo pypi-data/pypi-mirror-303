{
  "cells": [
    {
      "cell_type": "markdown",
      "metadata": {},
      "source": [
        "\n# Generating Whittle-Mat\u00e9rn field\n\nIn this example, we generate a Whittle-Mat\u00e9rn field using a finite difference Laplacian operator.\nWe will explore different correlation lengths and observe their effect on the resulting fields.\n"
      ]
    },
    {
      "cell_type": "markdown",
      "metadata": {},
      "source": [
        "## Importing required packages\nHere we import the necessary libraries for numerical computations, rendering, and finite difference operations.\n\n"
      ]
    },
    {
      "cell_type": "code",
      "execution_count": null,
      "metadata": {
        "collapsed": false
      },
      "outputs": [],
      "source": [
        "import numpy as np\nfrom scipy import linalg\nimport matplotlib.pyplot as plt\nfrom PyFinitDiff.finite_difference_2D import FiniteDifference, Boundaries"
      ]
    },
    {
      "cell_type": "markdown",
      "metadata": {},
      "source": [
        "## Setting up the finite difference Laplacian\nWe define a grid and create a finite difference instance that provides us with a Laplacian operator.\n\n"
      ]
    },
    {
      "cell_type": "code",
      "execution_count": null,
      "metadata": {
        "collapsed": false
      },
      "outputs": [],
      "source": [
        "n_x = n_y = 20\n\nsparse_instance = FiniteDifference(\n    n_x=n_x,\n    n_y=n_y,\n    dx=1000 / n_x,\n    dy=1000 / n_y,\n    derivative=2,\n    accuracy=2,\n    boundaries=Boundaries(top='symmetric')\n)\n\nlaplacian = sparse_instance.triplet.to_dense()"
      ]
    },
    {
      "cell_type": "markdown",
      "metadata": {},
      "source": [
        "## Defining the function to generate the Whittle-Mat\u00e9rn field\nThe following function generates a field by solving a linear system involving the Laplacian and random noise.\n\n"
      ]
    },
    {
      "cell_type": "code",
      "execution_count": null,
      "metadata": {
        "collapsed": false
      },
      "outputs": [],
      "source": [
        "def get_field(D: float, lc: float, Nc: float, shape: list):\n    n_x, n_y = shape\n    eta = np.random.rand(n_x * n_y)\n\n    left_hand_side = (-laplacian + lc**2) ** (3 / 2)\n    right_hand_side = eta\n\n    field = linalg.solve(left_hand_side, right_hand_side)\n\n    return Nc * field"
      ]
    },
    {
      "cell_type": "markdown",
      "metadata": {},
      "source": [
        "## Visualizing the fields for different correlation lengths\nWe generate and visualize fields with varying correlation lengths to see their impact on the structure of the field.\n\n"
      ]
    },
    {
      "cell_type": "code",
      "execution_count": null,
      "metadata": {
        "collapsed": false
      },
      "outputs": [],
      "source": [
        "fig, axes = plt.subplots(1, 3, figsize=(12, 4), constrained_layout=True)\naxes = axes.flatten()\n\nfor ax, correlation_length in zip(axes, [1, 2, 4]):\n    field = get_field(D=3, lc=correlation_length, Nc=1, shape=[n_x, n_y]).reshape([n_x, n_y])\n    mesh = ax.pcolormesh(field, shading='auto', cmap='viridis')\n    ax.set_title(f'Correlation length: {correlation_length}')\n    ax.set_aspect('equal')\n    plt.colorbar(mesh, ax=ax)\n\nplt.show()"
      ]
    }
  ],
  "metadata": {
    "kernelspec": {
      "display_name": "Python 3",
      "language": "python",
      "name": "python3"
    },
    "language_info": {
      "codemirror_mode": {
        "name": "ipython",
        "version": 3
      },
      "file_extension": ".py",
      "mimetype": "text/x-python",
      "name": "python",
      "nbconvert_exporter": "python",
      "pygments_lexer": "ipython3",
      "version": "3.11.0"
    }
  },
  "nbformat": 4,
  "nbformat_minor": 0
}