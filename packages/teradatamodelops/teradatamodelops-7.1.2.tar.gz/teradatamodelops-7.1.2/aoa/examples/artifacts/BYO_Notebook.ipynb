{
 "cells": [
  {
   "cell_type": "code",
   "execution_count": null,
   "metadata": {},
   "outputs": [],
   "source": [
    "from aoa import tmo_create_context\n",
    "from teradataml import create_context,remove_context,DataFrame"
   ]
  },
  {
   "cell_type": "markdown",
   "metadata": {},
   "source": [
    "__Create a connection that could be used inside ModelOps as well as in standalone notebook__\n",
    "\n",
    "Follow the example below, it will ask for connection credential if executed outside ModelOps engine, otherwise it will automatically use ModelOps credentials."
   ]
  },
  {
   "cell_type": "code",
   "execution_count": 2,
   "metadata": {},
   "outputs": [],
   "source": [
    "try: \n",
    "    tmo_create_context()\n",
    "except:\n",
    "    import getpass\n",
    "    host = input(\"Host\")\n",
    "    logmech = input(\"Log Mech\")\n",
    "    username = input(\"Username\")\n",
    "    password = getpass.getpass()\n",
    "    create_context(host=host,username=username,password=password,logmech=logmech)\n",
    "    tmo_create_context()"
   ]
  },
  {
   "cell_type": "markdown",
   "metadata": {},
   "source": [
    "Below is an example of \"raw\" cell that's not executed."
   ]
  },
  {
   "cell_type": "raw",
   "metadata": {
    "vscode": {
     "languageId": "raw"
    }
   },
   "source": [
    "# This is an example cell that won't be executed because it's marked as 'raw'\n",
    "print(\"You'll not see it\")"
   ]
  },
  {
   "cell_type": "markdown",
   "metadata": {},
   "source": [
    "Next cell is an example of getting a variable. The list of passed variables is long, below are some important values:\n",
    "- `MODEL_ID` - uuid identifier for model\n",
    "- `MODEL_VERSION` - uuid identifier for model version\n",
    "- `PROJECT_ID` - uuid identifier for ModelOps project\n",
    "- `JOB_ID` - unique identifier for every job\n",
    "- `OWNER` - user who imported a model version"
   ]
  },
  {
   "cell_type": "code",
   "execution_count": 4,
   "metadata": {},
   "outputs": [],
   "source": [
    "import os\n",
    "\n",
    "job_id = os.environ.get(\"JOB_ID\") or \"notebook\""
   ]
  },
  {
   "cell_type": "markdown",
   "metadata": {},
   "source": [
    "Cells below just simulate some activity that might be happening in the notebook."
   ]
  },
  {
   "cell_type": "code",
   "execution_count": null,
   "metadata": {},
   "outputs": [],
   "source": [
    "prediction_df = DataFrame.from_query(f\"sel '{job_id}' as job_id, PatientId, HasDiabetes, json_report from pima_patient_predictions sample 100\")\n",
    "prediction_df.head()"
   ]
  },
  {
   "cell_type": "code",
   "execution_count": null,
   "metadata": {},
   "outputs": [],
   "source": [
    "prediction_df.to_sql(\"pima_patient_predictions\", if_exists=\"append\")"
   ]
  },
  {
   "cell_type": "markdown",
   "metadata": {},
   "source": [
    "Good practice is to explicitly remove `teradataml` context."
   ]
  },
  {
   "cell_type": "code",
   "execution_count": null,
   "metadata": {},
   "outputs": [],
   "source": [
    "remove_context()"
   ]
  }
 ],
 "metadata": {
  "kernelspec": {
   "display_name": "venv",
   "language": "python",
   "name": "python3"
  },
  "language_info": {
   "codemirror_mode": {
    "name": "ipython",
    "version": 3
   },
   "file_extension": ".py",
   "mimetype": "text/x-python",
   "name": "python",
   "nbconvert_exporter": "python",
   "pygments_lexer": "ipython3",
   "version": "3.9.6"
  }
 },
 "nbformat": 4,
 "nbformat_minor": 2
}
