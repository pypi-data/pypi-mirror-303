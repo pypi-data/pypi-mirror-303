{
 "cells": [
  {
   "cell_type": "code",
   "execution_count": null,
   "metadata": {},
   "outputs": [],
   "source": [
    "import seaborn as sns\n",
    "import matplotlib.pyplot as plt\n",
    "import pandas as pd\n",
    "from pathlib import Path\n",
    "from loguru import logger\n",
    "import warnings\n",
    "warnings.filterwarnings(\"ignore\", category=FutureWarning)\n"
   ]
  },
  {
   "cell_type": "code",
   "execution_count": null,
   "metadata": {},
   "outputs": [],
   "source": [
    "import tomllib\n",
    "configfile = Path(\"../config.toml\").resolve()\n",
    "with configfile.open(\"rb\") as f:\n",
    "    config = tomllib.load(f)\n",
    "datafile = (Path(\"..\") / Path(config[\"processed\"]) / config[\"current\"]).resolve()\n",
    "if not datafile.exists():\n",
    "    logger.warning(\"Datafile does not exist. First run src/preprocess.py, and check the timestamp!\")\n",
    "df = pd.read_parquet(datafile)\n",
    "df.head()"
   ]
  },
  {
   "cell_type": "code",
   "execution_count": null,
   "metadata": {},
   "outputs": [],
   "source": [
    "sns.histplot(df, x=\"message_length\", kde=True)"
   ]
  },
  {
   "cell_type": "code",
   "execution_count": null,
   "metadata": {},
   "outputs": [],
   "source": [
    "import numpy as np\n",
    "df[\"log_len\"] = df[\"message_length\"].apply(lambda x: np.log(x))\n",
    "sns.histplot(df, x=\"log_len\", kde=True)"
   ]
  },
  {
   "cell_type": "code",
   "execution_count": null,
   "metadata": {},
   "outputs": [],
   "source": [
    "df.head()"
   ]
  },
  {
   "cell_type": "code",
   "execution_count": null,
   "metadata": {},
   "outputs": [],
   "source": [
    "q1 = lambda x: np.quantile(x, 0.25)\n",
    "q3 = lambda x: np.quantile(x, 0.75)\n",
    "\n",
    "df[\"hour\"] = df.timestamp.dt.hour\n",
    "quantiles = df.groupby('hour')['message_length'].agg([q1, q3])\n",
    "quantiles.columns = ['q1', 'q3']\n",
    "\n",
    "p = quantiles.reindex(range(24), fill_value=0)\n",
    "\n",
    "sns.scatterplot(data=p, x=\"q1\", y=p.index, color=\"grey\")\n",
    "sns.scatterplot(data=p, x=\"q3\", y=p.index, color=\"grey\")\n",
    "for index, row in p.iterrows():\n",
    "    sns.lineplot(x=[row[\"q1\"], row[\"q3\"]], y=[index, index], color=\"grey\")"
   ]
  },
  {
   "cell_type": "code",
   "execution_count": null,
   "metadata": {},
   "outputs": [],
   "source": [
    "q1 = lambda x: np.quantile(x, 0.1)\n",
    "q2 = lambda x: np.quantile(x, 0.25)\n",
    "q3 = lambda x: np.quantile(x, 0.5)\n",
    "q4 = lambda x: np.quantile(x, 0.75)\n",
    "q5 = lambda x: np.quantile(x, 0.9)\n",
    "\n",
    "df[\"hour\"] = df.timestamp.dt.hour\n",
    "quantiles = df.groupby('hour')['message_length'].agg([q1, q2, q3, q4, q5])\n",
    "quantiles.columns = ['q1', 'q2', 'q3', 'q4', 'q5']\n",
    "p = quantiles.reindex(range(24), fill_value=0)\n",
    "\n",
    "plt.plot(p.index, p[\"q3\"], color=\"black\")\n",
    "plt.fill_between(p.index, p[\"q2\"], p[\"q4\"], color=\"grey\", alpha=0.3)\n",
    "plt.fill_between(p.index, p[\"q1\"], p[\"q5\"], color=\"grey\", alpha=0.3)\n",
    "plt.xlabel(\"uur van de dag\")\n",
    "plt.ylabel(\"quantiles van berichtlengte (aantal karakters)\")\n",
    "plt.title(\"Wanneer zijn berichten langer?\")"
   ]
  }
 ],
 "metadata": {
  "kernelspec": {
   "display_name": ".venv",
   "language": "python",
   "name": "python3"
  },
  "language_info": {
   "codemirror_mode": {
    "name": "ipython",
    "version": 3
   },
   "file_extension": ".py",
   "mimetype": "text/x-python",
   "name": "python",
   "nbconvert_exporter": "python",
   "pygments_lexer": "ipython3",
   "version": "3.11.9"
  }
 },
 "nbformat": 4,
 "nbformat_minor": 2
}
