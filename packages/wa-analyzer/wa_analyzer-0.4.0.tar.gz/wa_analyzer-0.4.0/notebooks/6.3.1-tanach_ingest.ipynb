{
 "cells": [
  {
   "cell_type": "markdown",
   "metadata": {},
   "source": [
    "<td>\n",
    "<a href=\"https://colab.research.google.com/github/raoulg/MADS-DAV/blob/main/notebooks/6.3.1-tanach_ingest.ipynb\" target=\"_parent\"><img src=\"https://colab.research.google.com/assets/colab-badge.svg\" alt=\"Open In Colab\"/></a>\n",
    "</td>"
   ]
  },
  {
   "cell_type": "code",
   "execution_count": null,
   "metadata": {},
   "outputs": [],
   "source": [
    "import requests\n",
    "from pathlib import Path\n",
    "from loguru import logger\n",
    "\n",
    "\n",
    "def download(url, datafile: Path):\n",
    "    datadir = datafile.parent\n",
    "    if not datadir.exists():\n",
    "        logger.info(f\"Creating directory {datadir}\")\n",
    "        datadir.mkdir(parents=True)\n",
    "\n",
    "    if not datafile.exists():\n",
    "        logger.info(f\"Downloading {url} to {datafile}\")\n",
    "        response = requests.get(url)\n",
    "        with datafile.open(\"wb\") as f:\n",
    "            f.write(response.content)\n",
    "    else:\n",
    "        logger.info(f\"File {datafile} already exists, skipping download\")"
   ]
  },
  {
   "cell_type": "markdown",
   "metadata": {},
   "source": [
    "We are going to scrape the old testament books from tanach.us with a basic script. "
   ]
  },
  {
   "cell_type": "code",
   "execution_count": null,
   "metadata": {},
   "outputs": [],
   "source": [
    "import re\n",
    "books = [\"Genesis\", \"Exodus\", \"Leviticus\", \"Numbers\", \"Deuteronomy\", \"Joshua\",\n",
    "    \"Judges\",\n",
    "    \"1%20Samuel\",\n",
    "    \"2%20Samuel\",\n",
    "    \"1%20Kings\",\n",
    "    \"2%20Kings\",\n",
    "    \"Isaiah\",\n",
    "    \"Jeremiah\",\n",
    "    \"Ezekiel\",\n",
    "    \"Hosea\",\n",
    "    \"Joel\",\n",
    "    \"Amos\",\n",
    "    \"Obadiah\",\n",
    "    \"Jonah\",\n",
    "    \"Micah\",\n",
    "    \"Nahum\",\n",
    "    \"Habakkuk\",\n",
    "    \"Zephaniah\",\n",
    "    \"Haggai\",\n",
    "    \"Zechariah\",\n",
    "    \"Malachi\"\n",
    "]\n",
    "\n",
    "datadir = Path(\"../data/raw/tanach\")\n",
    "\n",
    "for book in books:\n",
    "    url = f\"https://www.tanach.us/Server.txt?{book}*&content=Accents\"\n",
    "    filename = re.sub(r\"%20\", \"_\", book)\n",
    "    download(url, datadir / f\"{filename}.txt\")\n"
   ]
  }
 ],
 "metadata": {
  "kernelspec": {
   "display_name": ".venv",
   "language": "python",
   "name": "python3"
  },
  "language_info": {
   "codemirror_mode": {
    "name": "ipython",
    "version": 3
   },
   "file_extension": ".py",
   "mimetype": "text/x-python",
   "name": "python",
   "nbconvert_exporter": "python",
   "pygments_lexer": "ipython3",
   "version": "3.11.5"
  }
 },
 "nbformat": 4,
 "nbformat_minor": 2
}
