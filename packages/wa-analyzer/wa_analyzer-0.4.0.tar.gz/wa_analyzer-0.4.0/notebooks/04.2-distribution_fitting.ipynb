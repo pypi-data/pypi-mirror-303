{
 "cells": [
  {
   "cell_type": "code",
   "execution_count": null,
   "metadata": {},
   "outputs": [],
   "source": [
    "from mads_datasets import DatasetFactoryProvider, DatasetType\n",
    "from pathlib import Path\n",
    "import pandas as pd\n",
    "import seaborn as sns\n",
    "import matplotlib.pyplot as plt\n",
    "from scipy import stats\n",
    "import numpy as np\n",
    "\n",
    "penguinsdataset = DatasetFactoryProvider.create_factory(\n",
    "    DatasetType.PENGUINS\n",
    ")\n",
    "penguinsdataset.download_data()\n",
    "\n",
    "df = pd.read_parquet(penguinsdataset.filepath)\n",
    "select = [\n",
    "    \"Species\",\n",
    "    \"Island\",\n",
    "    \"Culmen Length (mm)\",\n",
    "    \"Culmen Depth (mm)\",\n",
    "    \"Flipper Length (mm)\",\n",
    "    \"Delta 15 N (o/oo)\",\n",
    "    \"Delta 13 C (o/oo)\",\n",
    "    \"Sex\",\n",
    "    \"Body Mass (g)\",\n",
    "]\n",
    "subset = df[select].dropna()\n",
    "subset[\"Species\"] = subset[\"Species\"].apply(lambda x: x.split()[0])"
   ]
  },
  {
   "cell_type": "markdown",
   "metadata": {},
   "source": [
    "So, we have this dataset. And we have some understanding of different types of distributions. Just from looking at the feature names it should be obvious that we can split the features into continuous and discrete features. \n",
    "\n",
    "But how do we find out which distribution fits our data best? Are these all normal distributions? Some of them, probably, but maybe not. How do we find out?\n",
    "\n",
    "## Testing for normality\n",
    "\n",
    "## qq-plot\n",
    "\n",
    "The easiest way to test for normality is to use a qq-plot. This is a very basic and visual test. It is not very precise, but it is a good first step.\n",
    "\n",
    "What is a qq-plot? It stands for quantile-quantile plot. It is a plot of the quantiles of the data against the quantiles of a theoretical distribution. If the data is normally distributed, the points will fall on a straight line. If the data is not normally distributed, the points will not fall on a straight line.\n",
    "\n",
    "First, as a reminder, let's plot the PDFs for a normal and a skew-normal distribution."
   ]
  },
  {
   "cell_type": "code",
   "execution_count": null,
   "metadata": {},
   "outputs": [],
   "source": [
    "# prepare axes\n",
    "fig, ax = plt.subplots(1, 2, figsize=(12, 4))\n",
    "\n",
    "# get the pdfs for the two distributions\n",
    "x = np.linspace(-3, 3, 100)\n",
    "y1 = stats.norm.pdf(x, loc=0, scale=1)\n",
    "y2 = stats.skewnorm.pdf(x, a=5, loc=0, scale=1)  # a is the skewness parameter\n",
    "\n",
    "# plot the two distributions\n",
    "ax[0].plot(x, y1)\n",
    "ax[1].plot(x, y2)\n",
    "ax[0].set_title(\"Normal distribution\")\n",
    "ax[1].set_title(\"Skewed distribution\")"
   ]
  },
  {
   "cell_type": "markdown",
   "metadata": {},
   "source": [
    "Now, let's sample some data from a distribution and see how the qq plot works."
   ]
  },
  {
   "cell_type": "code",
   "execution_count": null,
   "metadata": {},
   "outputs": [],
   "source": [
    "fig, ax = plt.subplots(1, 2, figsize=(12, 4))\n",
    "n = 1000\n",
    "rng = np.random.default_rng(42)\n",
    "\n",
    "\n",
    "# lets sample n times from a skewed normal distribution with alpha skewness\n",
    "alpha = 10\n",
    "data = stats.skewnorm.rvs(a=alpha, size=n, random_state=rng)\n",
    "\n",
    "# first, we plot the data with a theoretical normal distribution\n",
    "stats.probplot(data, plot=ax[0], dist=stats.norm);\n",
    "ax[0].set_title(\"Normal Q-Q plot\")\n",
    "\n",
    "# then, we plot the data with a theoretical skewed normal distribution\n",
    "stats.probplot(data, plot=ax[1], dist=stats.skewnorm, sparams=(alpha,));\n",
    "ax[1].set_title(\"Skew-normal Q-Q plot\")\n",
    "\n",
    "# this also works the other way around! (eg generate normal data,\n",
    "# and then the theoretical normal distribution will align,\n",
    "# but the theoretical skewed normal distribution will not align)"
   ]
  },
  {
   "cell_type": "markdown",
   "metadata": {},
   "source": [
    "As you can see, for the theoretical normal distribution, the points fall on a straight line. However, for a theoretical skew-normal distribution, the points do not fall on a straight line. You can see that the theory and the data do not match, which implicates that the data is not normally distributed."
   ]
  },
  {
   "cell_type": "code",
   "execution_count": null,
   "metadata": {},
   "outputs": [],
   "source": [
    "subset.head()"
   ]
  },
  {
   "cell_type": "code",
   "execution_count": null,
   "metadata": {},
   "outputs": [],
   "source": [
    "# let's test this for all continuous features from the penguins dataset\n",
    "\n",
    "# select float columns, just from Adelie species\n",
    "# question: what would happen if we used all species?\n",
    "adelie = subset[subset[\"Species\"] == \"Adelie\"]\n",
    "floats = adelie.select_dtypes(include=\"float64\")\n",
    "features = floats.columns\n",
    "\n",
    "# prepare axes\n",
    "fig, axs = plt.subplots(2, 3, figsize=(12, 8))\n",
    "axs = axs.ravel()\n",
    "\n",
    "for i, col in enumerate(features):\n",
    "    feats = floats[col]\n",
    "    stats.probplot(feats, plot=axs[i], dist=stats.norm)\n",
    "    axs[i].set_title(f\"{col} Q-Q plot\")\n",
    "\n",
    "plt.tight_layout()\n"
   ]
  },
  {
   "cell_type": "markdown",
   "metadata": {},
   "source": [
    "As you can see, simply visualising qq-plots already gives us a pretty good idea of what distributions probably dont align. There are many reasons for this: maybe there are more groups underlying the distribution (simpsons paradox!!), and if you split the group into subgroups a normal distribution will emerge. But there could be numerous reasons. Typically, you will need domain knowledge to understand what is going on.\n",
    "\n",
    "# Fitting distributions\n",
    "\n",
    "If you have a reasonable idea what distribution your data follows, you can fit the parameters of the distribution to your data. This is called fitting a distribution."
   ]
  },
  {
   "cell_type": "code",
   "execution_count": null,
   "metadata": {},
   "outputs": [],
   "source": [
    "# first we generate some data. This way we can check if it works\n",
    "kwargs = {\"loc\": 5, \"scale\": 2}\n",
    "n = 100\n",
    "dist = stats.norm\n",
    "data = dist.rvs(size=n, random_state=rng, **kwargs)\n",
    "\n",
    "# we can provide fit with a range of parameters to try to fit. This will speed up things,\n",
    "# but note that there is a risk of setting the bounds too narrow and missing the true parameters!\n",
    "# or you set the bounds too wide and the fit will take a long time\n",
    "bounds = ((0, 10), (0, 4))\n",
    "result = stats.fit(dist, data, bounds=bounds, method=\"mle\")\n",
    "result.params"
   ]
  },
  {
   "cell_type": "markdown",
   "metadata": {},
   "source": [
    "As you can see, even with a 100 samples we get a pretty good fit. Try to play with this: change the n and see if it gets harder to fit the data. Also, change the parameters to see if the fit follows your changes. \n",
    "\n",
    "But can we know if a normal distribution is a good fit too begin with? E.g., for the penguins is seems to be the case that the Delta 13 C feature is not normally distibuted, but how sure are we of the others? \n",
    "\n",
    "We can use a [kstest](https://en.wikipedia.org/wiki/Kolmogorov%E2%80%93Smirnov_test) to find out."
   ]
  },
  {
   "cell_type": "code",
   "execution_count": null,
   "metadata": {},
   "outputs": [],
   "source": [
    "# we use dist, which is the normal distribution from the previous cell, to create a cdf\n",
    "cdf = dist(**kwargs).cdf\n",
    "\n",
    "# now we can perform the Kolmogorov-Smirnov test on the data\n",
    "stats.kstest(data, cdf)"
   ]
  },
  {
   "cell_type": "markdown",
   "metadata": {},
   "source": [
    "We get a p-value. If the p-value is larger than 0.05, we cannot reject the null hypothesis that the two distributions are similar. \n",
    "For the people that like to think ahead of the lessons: yes, we could also use a bayesian approach to test this hypothesis. But we will get to that in later lessons...\n",
    "\n",
    "Lets see what happens if we test the hypothesis that the data is a uniform distribution.\n",
    "Since the kdtest compares two cdf (cumulative distribution functions), we need to create a cdf for the uniform distribution and pass that as a second argument to the kstest."
   ]
  },
  {
   "cell_type": "code",
   "execution_count": null,
   "metadata": {},
   "outputs": [],
   "source": [
    "cdf = stats.uniform.cdf\n",
    "stats.kstest(data, cdf)"
   ]
  },
  {
   "cell_type": "markdown",
   "metadata": {},
   "source": [
    "Ok, that is a very small p-value. So we can reject the null hypothesis that the data is a uniform distribution.\n",
    "\n",
    "Let's automate this test for all the continuous features in the penguins dataset."
   ]
  },
  {
   "cell_type": "code",
   "execution_count": null,
   "metadata": {},
   "outputs": [],
   "source": [
    "fig, axs = plt.subplots(2, 3, figsize=(12, 8))\n",
    "axs = axs.ravel()\n",
    "dist = stats.norm\n",
    "\n",
    "for i, col in enumerate(features):\n",
    "    data = floats[col]\n",
    "\n",
    "    # lets get a good starting point for the parameters\n",
    "    mu = data.mean()\n",
    "    sigma = data.std()\n",
    "    bounds = ((mu - 3 * sigma, mu + 3 * sigma), (0, sigma * 2))\n",
    "    result = stats.fit(dist, data, bounds=bounds)\n",
    "\n",
    "    # and plot the fitted result, including the p-values\n",
    "    result.plot(ax=axs[i])\n",
    "    kstest = stats.kstest(data, stats.norm(*result.params).cdf)\n",
    "    axs[i].set_title(f\"{col} fit (p={kstest.pvalue:.2f})\")\n",
    "\n",
    "plt.tight_layout()"
   ]
  },
  {
   "cell_type": "markdown",
   "metadata": {},
   "source": [
    "We are not a penguin expert, but can you come up with possible reasons why the body mass is a lousy fit? E.g. are there possible subgroups you can think of, that would split the distribution into two groups?\n",
    "\n",
    "It could very wll be that the subgroups turn out to be normally distributed, and we are just looking at two overlapping groups. Another reason could be that there is some other reason that influences our sample, e.g. the penguins are fed a certain diet, or are being hunted etc."
   ]
  }
 ],
 "metadata": {
  "kernelspec": {
   "display_name": "course-materials-uos1-KNtHm8fd-course-materials-uos1",
   "language": "python",
   "name": "python3"
  },
  "language_info": {
   "codemirror_mode": {
    "name": "ipython",
    "version": 3
   },
   "file_extension": ".py",
   "mimetype": "text/x-python",
   "name": "python",
   "nbconvert_exporter": "python",
   "pygments_lexer": "ipython3",
   "version": "3.11.9"
  }
 },
 "nbformat": 4,
 "nbformat_minor": 2
}
