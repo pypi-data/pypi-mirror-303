{
 "cells": [
  {
   "cell_type": "markdown",
   "metadata": {},
   "source": [
    "<td>\n",
    "<a href=\"https://colab.research.google.com/github/raoulg/MADS-DAV/blob/main/notebooks/6.3.2-tanach_preprocess.ipynb\" target=\"_parent\"><img src=\"https://colab.research.google.com/assets/colab-badge.svg\" alt=\"Open In Colab\"/></a>\n",
    "</td>"
   ]
  },
  {
   "cell_type": "markdown",
   "metadata": {},
   "source": [
    "# Old Testament"
   ]
  },
  {
   "cell_type": "markdown",
   "metadata": {},
   "source": [
    "Let's load the textfiles"
   ]
  },
  {
   "cell_type": "code",
   "execution_count": null,
   "metadata": {},
   "outputs": [],
   "source": [
    "from pathlib import Path\n",
    "datadir = Path('../data/raw/tanach').resolve()\n",
    "\n",
    "files = list(datadir.glob(\"*.txt\"))"
   ]
  },
  {
   "cell_type": "markdown",
   "metadata": {},
   "source": [
    "Let's pick a text file and see what it looks like"
   ]
  },
  {
   "cell_type": "code",
   "execution_count": null,
   "metadata": {},
   "outputs": [],
   "source": [
    "filepath = files[16]\n",
    "filepath"
   ]
  },
  {
   "cell_type": "code",
   "execution_count": null,
   "metadata": {},
   "outputs": [],
   "source": [
    "with filepath.open() as f:\n",
    "    text = f.read()\n",
    "text.split(\"\\n\")[0:10]"
   ]
  },
  {
   "cell_type": "markdown",
   "metadata": {},
   "source": [
    "So, we have some unicode characters. They are special characters that denote which text should be read from left to right, or right to left. We will need to remove these characters from the text. We will also replace \\xa0 with a space.\n",
    "\n",
    "In addition to that, there is some information about the book and chapter at the beginning of the file, denoted with \"xxxx\". We will some of the specific patterns of the text to process the text (eg skip the lines starting with xxxx, and extract chapter number and verse)"
   ]
  },
  {
   "cell_type": "code",
   "execution_count": null,
   "metadata": {},
   "outputs": [],
   "source": [
    "import re\n",
    "from loguru import logger\n",
    "def clean(text):\n",
    "    ucodes = r\"\\u202a|\\u202b|\\u202c|\\u05c3\"\n",
    "    text = re.sub(ucodes, \"\", text)\n",
    "    text = re.sub(r\"\\xa0\", \" \", text)\n",
    "    return text\n",
    "\n",
    "def parse_text(text, bookname):\n",
    "    startswithx = r\"xxxx\"\n",
    "    digits = r\"\\d+\\s+\\d+\"\n",
    "    cleaned = clean(text)\n",
    "    data = []\n",
    "    for i, line in enumerate(cleaned.split(\"\\n\")):\n",
    "        if re.match(startswithx, line):\n",
    "            pass\n",
    "        else:\n",
    "            match = re.search(digits, line)\n",
    "            if match:\n",
    "                num = match.group(0)\n",
    "                verse, chap = num.split()\n",
    "                line = re.sub(digits, \"\", line)\n",
    "                data.append({\"book\": bookname, \"chap\": int(chap), \"verse\": int(verse), \"text\": line})\n",
    "            else:\n",
    "                data[-1][\"text\"] += \" \" + line\n",
    "                logger.warning(f\"Line {i}:{line} in {bookname} is added to {chap}:{verse}\")\n",
    "    return data\n"
   ]
  },
  {
   "cell_type": "code",
   "execution_count": null,
   "metadata": {},
   "outputs": [],
   "source": [
    "import pandas as pd"
   ]
  },
  {
   "cell_type": "code",
   "execution_count": null,
   "metadata": {},
   "outputs": [],
   "source": [
    "testament = []\n",
    "for filepath in files:\n",
    "    with filepath.open() as f:\n",
    "        text = f.read()\n",
    "        bookname = filepath.stem\n",
    "        data = parse_text(text, bookname)\n",
    "        testament.extend(data)"
   ]
  },
  {
   "cell_type": "markdown",
   "metadata": {},
   "source": [
    "We now have the data stored in a DataFrame, with book, chapter and verse metadata, and the text of the verse. We can now use this data to do some analysis."
   ]
  },
  {
   "cell_type": "code",
   "execution_count": null,
   "metadata": {},
   "outputs": [],
   "source": [
    "df = pd.DataFrame(testament)\n",
    "df"
   ]
  },
  {
   "cell_type": "code",
   "execution_count": null,
   "metadata": {},
   "outputs": [],
   "source": [
    "df.book.unique()"
   ]
  },
  {
   "cell_type": "code",
   "execution_count": null,
   "metadata": {},
   "outputs": [],
   "source": [
    "df.to_parquet(\"../data/processed/tanach.parquet\")"
   ]
  }
 ],
 "metadata": {
  "kernelspec": {
   "display_name": ".venv",
   "language": "python",
   "name": "python3"
  },
  "language_info": {
   "codemirror_mode": {
    "name": "ipython",
    "version": 3
   },
   "file_extension": ".py",
   "mimetype": "text/x-python",
   "name": "python",
   "nbconvert_exporter": "python",
   "pygments_lexer": "ipython3",
   "version": "3.11.5"
  }
 },
 "nbformat": 4,
 "nbformat_minor": 2
}
