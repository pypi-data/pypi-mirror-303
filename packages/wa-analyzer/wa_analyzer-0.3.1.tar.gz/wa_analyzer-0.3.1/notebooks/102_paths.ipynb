{
 "cells": [
  {
   "cell_type": "markdown",
   "metadata": {},
   "source": [
    "# Introductie tot paden in Python en daarbuiten"
   ]
  },
  {
   "cell_type": "markdown",
   "metadata": {},
   "source": [
    "<b>De working directory (werkmap)</b> is de map op je computer waarin je werkt vanuit een programma, script of terminal. Het is de standaardlocatie waar je bestanden opent, opslaat of aanmaakt, tenzij je een andere map opgeeft.\n",
    "\n",
    "In Python bijvoorbeeld, als je een bestand wilt openen zonder een volledige padnaam op te geven, zal Python dat bestand in de huidige working directory (directory = een map) zoeken.\n"
   ]
  },
  {
   "cell_type": "code",
   "execution_count": 1,
   "metadata": {},
   "outputs": [
    {
     "name": "stdout",
     "output_type": "stream",
     "text": [
      "c:\\Users\\timos\\OneDrive\\02 HU\\MADS-DAV\\notebooks\n"
     ]
    }
   ],
   "source": [
    "import os\n",
    "\n",
    "print(os.getcwd()) # returnt de working directory\n"
   ]
  },
  {
   "cell_type": "code",
   "execution_count": 2,
   "metadata": {},
   "outputs": [
    {
     "name": "stdout",
     "output_type": "stream",
     "text": [
      "['01-cleaning.ipynb', '02-comparing_categories copy.ipynb', '02-comparing_categories.ipynb', '03-time.ipynb', '03.2-statistics-of-time.ipynb', '04.1-distributions.ipynb', '04.2-distribution_fitting.ipynb', '05.1-relationships.ipynb', '05.2-correlation.ipynb', '06.1-dimensionality_reduction.ipynb', '06.2-modelling.ipynb', '101_classes.ipynb', '102_paths.ipynb', '6.3.1-tanach_ingest.ipynb', '6.3.2-tanach_preprocess.ipynb', '6.3.3-tanach_model.ipynb', '6.4_huggingface.ipynb', 'notebooks']\n",
      "pyproject.toml exists: False\n"
     ]
    }
   ],
   "source": [
    "print(os.listdir('.')) # returnt een lijst van alle files in de directory, . staat voor current working directory wat de standaard is voor os.listdir()\n",
    "\n",
    "# checkt of het bestand bestaat, het bestand bestaat niet en we zien het dan ook niet in de lijst van os.listdir() staan.\n",
    "file = 'pyproject.toml'\n",
    "print(f\"{file} exists: {os.path.exists(file)}\") "
   ]
  },
  {
   "cell_type": "markdown",
   "metadata": {},
   "source": [
    "De .. wordt gebruikt om de parent directory aan te duiden: de directory / map boven de huidige directory.\n",
    "\n",
    "Met het os.chdir command (change directory) kan je wisselen van working directory in Python. Het is hetzelfde als cd command in Linux"
   ]
  },
  {
   "cell_type": "code",
   "execution_count": 3,
   "metadata": {},
   "outputs": [
    {
     "name": "stdout",
     "output_type": "stream",
     "text": [
      "c:\\Users\\timos\\OneDrive\\02 HU\\MADS-DAV\n"
     ]
    }
   ],
   "source": [
    "os.chdir('..')\n",
    "print(os.getcwd())"
   ]
  },
  {
   "cell_type": "code",
   "execution_count": 4,
   "metadata": {},
   "outputs": [
    {
     "name": "stdout",
     "output_type": "stream",
     "text": [
      "['.git', '.gitignore', '.gitkeep', '.lefthook.yml', '.pdm-python', '.python-version', '.venv', 'checklist.md', 'config.toml', 'dashboards', 'data', 'dev', 'img', 'logs', 'notebooks', 'presentations', 'pyproject.toml', 'README.md', 'references', 'requirements-dev.lock', 'requirements.lock', 'src']\n",
      "pyproject.toml exists: True\n"
     ]
    }
   ],
   "source": [
    "print(os.listdir()) # we zien nu andere bestanden staan\n",
    "\n",
    "# nu we in een folder hoger zitten zien we ook dat het bestand pyproject.toml staan\n",
    "file = 'pyproject.toml'\n",
    "print(f\"{file} exists: {os.path.exists(file)}\") "
   ]
  },
  {
   "cell_type": "markdown",
   "metadata": {},
   "source": [
    "Voorheen werd vaak de os.path module gebruikt om te werken met paden in Python. Tegenwoordig wordt er vaker gekozen voor de pathlib module. In tegenstelling tot de traditionele os.path module, waarmee je meestal werkt met strings, biedt pathlib een veel intuïtiever en krachtiger systeem door gebruik te maken van objecten die paden vertegenwoordigen."
   ]
  },
  {
   "cell_type": "code",
   "execution_count": 5,
   "metadata": {},
   "outputs": [
    {
     "name": "stdout",
     "output_type": "stream",
     "text": [
      "notebooks\\01-cleaning.ipynb\n",
      "notebooks\\01-cleaning.ipynb\n",
      "notebooks\\01-cleaning.ipynb\n",
      "notebooks\\01-cleaning.ipynb\n",
      "notebooks\\01-cleaning.ipynb\n",
      "notebooks\u0001-cleaning.ipynb\n"
     ]
    }
   ],
   "source": [
    "## Met de Pathlib module kunnen paden op verschillende manieren geschreven worden en blijven hetzelfde\n",
    "## Dit is vooral handig als je code schrijft voor zowel Linux en Windows\n",
    "\n",
    "from pathlib import Path\n",
    "notebooks_dir = Path('notebooks')\n",
    "\n",
    "p1 = Path('notebooks/01-cleaning.ipynb')\n",
    "p2 = Path('notebooks') / '01-cleaning.ipynb'\n",
    "p3 = notebooks_dir / '01-cleaning.ipynb'\n",
    "p4 = Path('notebooks//01-cleaning.ipynb')\n",
    "p5 = Path('notebooks\\\\01-cleaning.ipynb')\n",
    "p6 = Path('notebooks\\01-cleaning.ipynb') # the only one that doesn't work\n",
    "\n",
    "print(p1)\n",
    "print(p2)\n",
    "print(p3)\n",
    "print(p4)\n",
    "print(p5) \n",
    "print(p6) # the only one that doesn't work\n"
   ]
  },
  {
   "cell_type": "markdown",
   "metadata": {},
   "source": [
    "Met de pathlib module is het makkelijk om verschillende eigenschappen van het path (in dit geval een bestand) op te halen. \n",
    "Let wel op dat bepaalde dingen niet werken met directories en wel met bestanden, en andersom.\n"
   ]
  },
  {
   "cell_type": "code",
   "execution_count": 6,
   "metadata": {},
   "outputs": [
    {
     "name": "stdout",
     "output_type": "stream",
     "text": [
      "Name of the file: 01-cleaning.ipynb\n",
      "stem: 01-cleaning\n",
      "The suffix (file extension): .ipynb\n",
      "Parent of the file (the directory it is in): notebooks\n"
     ]
    }
   ],
   "source": [
    "# Voorbeelden\n",
    "print(f\"Name of the file: {p1.name}\")\n",
    "print(f\"stem: {p1.stem}\")\n",
    "print(f\"The suffix (file extension): {p1.suffix}\")\n",
    "print(f\"Parent of the file (the directory it is in): {p1.parent}\")"
   ]
  },
  {
   "cell_type": "code",
   "execution_count": 7,
   "metadata": {},
   "outputs": [
    {
     "name": "stdout",
     "output_type": "stream",
     "text": [
      "Does exists: True\n",
      "Is a file: True\n",
      "Size (bytes): 7695\n"
     ]
    }
   ],
   "source": [
    "print(f\"Does exists: {p1.exists()}\")\n",
    "print(f\"Is a file: {p1.is_file()}\")\n",
    "print(f\"Size (bytes): {p1.stat().st_size}\") # returnt de grootte van het bestand in bytes"
   ]
  },
  {
   "cell_type": "code",
   "execution_count": 8,
   "metadata": {},
   "outputs": [
    {
     "name": "stdout",
     "output_type": "stream",
     "text": [
      "c:\\Users\\timos\\OneDrive\\02 HU\\MADS-DAV\\notebooks\n"
     ]
    }
   ],
   "source": [
    "# We zetten de working directory weer terug naar de notebooks folder\n",
    "os.chdir('notebooks')\n",
    "print(os.getcwd())"
   ]
  },
  {
   "cell_type": "markdown",
   "metadata": {},
   "source": [
    "Het mkdir command wordt gebruikt om een nieuwe directory aan te maken. De pathlib module laat je ook specificeren of er een error getoond moet worden als de directory al bestaat."
   ]
  },
  {
   "cell_type": "code",
   "execution_count": 9,
   "metadata": {},
   "outputs": [
    {
     "data": {
      "text/plain": [
       "WindowsPath('notebooks/new_dir')"
      ]
     },
     "execution_count": 9,
     "metadata": {},
     "output_type": "execute_result"
    }
   ],
   "source": [
    "new_dir = notebooks_dir / 'new_dir'\n",
    "new_dir"
   ]
  },
  {
   "cell_type": "code",
   "execution_count": 10,
   "metadata": {},
   "outputs": [
    {
     "name": "stdout",
     "output_type": "stream",
     "text": [
      "True\n",
      "Does exist: True\n",
      "Is a file: False, is a directory: True\n"
     ]
    }
   ],
   "source": [
    "new_dir = notebooks_dir / 'new_dir'\n",
    "print(notebooks_dir.exists())\n",
    "new_dir.mkdir(parents=True, exist_ok=True)\n",
    "print(f\"Does exist: {notebooks_dir.exists()}\")\n",
    "print(f\"Is a file: {new_dir.is_file()}, is a directory: {new_dir.is_dir()}\")"
   ]
  },
  {
   "cell_type": "markdown",
   "metadata": {},
   "source": [
    "We gebruiken het rmdir (remove directory) command om de directory ook weer te verwijderen"
   ]
  },
  {
   "cell_type": "code",
   "execution_count": 11,
   "metadata": {},
   "outputs": [],
   "source": [
    "new_dir.rmdir()"
   ]
  },
  {
   "cell_type": "markdown",
   "metadata": {},
   "source": [
    "# De path variable\n",
    "\n",
    "De path variable is een omgevings variable die wordt gebruikt voor het zoeken naar:\n",
    "1. Uitvoerbare programma's zodat ze in de terminal gebruikt kunnen worden (vandaar dat je python <i> script_name.py </i> in je terminal kan gebruiken)\n",
    "2. Python packages & modules\n",
    "3. Virtual Environments passen de path variable aan zodat je system de python uit je .venv folder gebruikt"
   ]
  },
  {
   "cell_type": "markdown",
   "metadata": {},
   "source": [
    "Omdat je systeem dus alleen zoekt naar modules op de plek van path EN je huidige working directory kan het soms pakketten in een andere map niet vinden. Je kan ervoor zorgen dat dit wel het geval is door de nieuwe directory aan path toe te voegen."
   ]
  },
  {
   "cell_type": "code",
   "execution_count": 12,
   "metadata": {},
   "outputs": [
    {
     "ename": "ModuleNotFoundError",
     "evalue": "No module named 'wa_analyzer'",
     "output_type": "error",
     "traceback": [
      "\u001b[1;31m---------------------------------------------------------------------------\u001b[0m",
      "\u001b[1;31mModuleNotFoundError\u001b[0m                       Traceback (most recent call last)",
      "Cell \u001b[1;32mIn[12], line 1\u001b[0m\n\u001b[1;32m----> 1\u001b[0m \u001b[38;5;28;01mimport\u001b[39;00m \u001b[38;5;21;01mwa_analyzer\u001b[39;00m \u001b[38;5;66;03m# Nu kunnen we de wa_analyzer module importeren omdat de src folder in de sys.path is toegevoegd\u001b[39;00m\n",
      "\u001b[1;31mModuleNotFoundError\u001b[0m: No module named 'wa_analyzer'"
     ]
    }
   ],
   "source": [
    "import wa_analyzer # Nu kunnen we de wa_analyzer module importeren omdat de src folder in de sys.path is toegevoegd"
   ]
  },
  {
   "cell_type": "code",
   "execution_count": 13,
   "metadata": {},
   "outputs": [],
   "source": [
    "import sys\n",
    "\n",
    "sys.path.append(\"../src/\")"
   ]
  },
  {
   "cell_type": "code",
   "execution_count": 14,
   "metadata": {},
   "outputs": [],
   "source": [
    "import wa_analyzer # Nu kunnen we de wa_analyzer module importeren omdat de src folder aan het sys.path is toegevoegd"
   ]
  }
 ],
 "metadata": {
  "kernelspec": {
   "display_name": "Python 3",
   "language": "python",
   "name": "python3"
  },
  "language_info": {
   "codemirror_mode": {
    "name": "ipython",
    "version": 3
   },
   "file_extension": ".py",
   "mimetype": "text/x-python",
   "name": "python",
   "nbconvert_exporter": "python",
   "pygments_lexer": "ipython3",
   "version": "3.11.0"
  }
 },
 "nbformat": 4,
 "nbformat_minor": 2
}
