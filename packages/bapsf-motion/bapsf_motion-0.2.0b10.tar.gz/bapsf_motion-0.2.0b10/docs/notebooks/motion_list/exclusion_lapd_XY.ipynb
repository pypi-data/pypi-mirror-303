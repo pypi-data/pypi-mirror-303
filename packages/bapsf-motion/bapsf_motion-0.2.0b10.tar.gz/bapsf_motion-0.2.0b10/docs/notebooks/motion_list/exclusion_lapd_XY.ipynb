{
 "cells": [
  {
   "cell_type": "code",
   "execution_count": null,
   "id": "9e0a519a-1b16-4242-99f1-2cfd036802fb",
   "metadata": {},
   "outputs": [],
   "source": [
    "%matplotlib inline"
   ]
  },
  {
   "cell_type": "code",
   "execution_count": null,
   "id": "46416d10-4fd6-4454-a1c1-f3b9f1826ad6",
   "metadata": {},
   "outputs": [],
   "source": [
    "import numpy as np\n",
    "import matplotlib.pyplot as plt\n",
    "import sys\n",
    "import xarray as xr"
   ]
  },
  {
   "cell_type": "code",
   "execution_count": null,
   "id": "0c757daf-b507-4119-acbe-135a6a91d197",
   "metadata": {},
   "outputs": [],
   "source": [
    "try:\n",
    "    from bapsf_motion.motion_builder.exclusions import CircularExclusion, DividerExclusion\n",
    "except ModuleNotFoundError:\n",
    "    from pathlib import Path\n",
    "\n",
    "    HERE = Path().cwd()\n",
    "    BAPSF_MOTION = (HERE / \"..\" / \"..\" / \"..\" ).resolve()\n",
    "    sys.path.append(str(BAPSF_MOTION))\n",
    "    \n",
    "    from bapsf_motion.motion_builder.exclusions import CircularExclusion, DividerExclusion\n",
    "    "
   ]
  },
  {
   "cell_type": "code",
   "execution_count": null,
   "id": "6ec82b7e-8d2c-4d1c-a4b6-b68d0c359109",
   "metadata": {},
   "outputs": [],
   "source": [
    "plt.rcParams.update(\n",
    "    {\n",
    "        # \"figure.figsize\": [12, 0.56 * 12],\n",
    "        \"figure.figsize\": [10, 0.8 * 10],\n",
    "        \"font.size\": 16,\n",
    "    }\n",
    ")"
   ]
  },
  {
   "cell_type": "markdown",
   "id": "54f5a53e-ecf0-4778-a753-cc697a7effa6",
   "metadata": {},
   "source": [
    "## Create LaPD XY exclusion mask using elementry exclusions\n",
    "\n",
    "Create the seeding boolean mask.  In the boolean mask a `True` value indicates a point allowed for a motion list and a `False` value indicaes an exclusion zone."
   ]
  },
  {
   "cell_type": "code",
   "execution_count": null,
   "id": "f6055f59-3083-4dd6-b817-5469873df2e2",
   "metadata": {},
   "outputs": [],
   "source": [
    "size = 221\n",
    "side = np.linspace(-55, 55, num=size)\n",
    "ds = xr.Dataset(\n",
    "    {\"mask\": ((\"x\", \"y\"), np.ones((size, size), dtype=bool))},\n",
    "    coords={\n",
    "        \"x\": side,\n",
    "        \"y\": side,\n",
    "    },\n",
    ")\n",
    "\n",
    "ds.mask.plot(x=\"x\", y=\"y\");"
   ]
  },
  {
   "cell_type": "markdown",
   "id": "f7dc2dee-6d06-4be8-b65d-4d60c7ef0f16",
   "metadata": {},
   "source": [
    "Add a circular XY exclusion that simulates the LaPD inner diameter"
   ]
  },
  {
   "cell_type": "code",
   "execution_count": null,
   "id": "65a510f8-7617-4604-9ea6-f92565f78032",
   "metadata": {},
   "outputs": [],
   "source": [
    "ex1 = CircularExclusion(ds, radius=50)\n",
    "ds[\"mask\"].plot(x=\"x\", y=\"y\");"
   ]
  },
  {
   "cell_type": "markdown",
   "id": "3cacbe19-9aab-4018-ba13-09e8f8541809",
   "metadata": {},
   "source": [
    "Let's add boundaries representing the exclusion cone from the East port."
   ]
  },
  {
   "cell_type": "code",
   "execution_count": null,
   "id": "63a77890-6806-4d17-8c0a-b37a0a549b92",
   "metadata": {},
   "outputs": [],
   "source": [
    "x_pivot = 58.771\n",
    "cone_half_angle = 40  # degrees\n",
    "\n",
    "intercept = np.abs(x_pivot) * np.tan(np.radians(cone_half_angle))\n",
    "slope = intercept / np.abs(x_pivot)\n",
    "\n",
    "print(isinstance(intercept, float))\n",
    "\n",
    "ex2 = DividerExclusion(\n",
    "    ds,\n",
    "    mb=(-slope, intercept),\n",
    "    exclude=\"+e1\",\n",
    ")\n",
    "ex3 = DividerExclusion(\n",
    "    ds,\n",
    "    mb=(slope, -intercept),\n",
    "    exclude=\"-e1\",\n",
    ")\n",
    "ds[\"mask\"].plot(x=\"x\", y=\"y\");"
   ]
  },
  {
   "cell_type": "code",
   "execution_count": null,
   "id": "a421f304-0c41-43b2-a4e9-19c1751d3220",
   "metadata": {},
   "outputs": [],
   "source": [
    "ds"
   ]
  },
  {
   "cell_type": "markdown",
   "id": "31875c1c-403b-4c07-af00-0edc1e5b4225",
   "metadata": {},
   "source": [
    "## Generate a LaPD mask using LaPDXYExclusion"
   ]
  },
  {
   "cell_type": "code",
   "execution_count": null,
   "id": "57e9ff4e-4858-4c0e-9f0d-130778aad17d",
   "metadata": {},
   "outputs": [],
   "source": [
    "from bapsf_motion.motion_builder.exclusions import LaPDXYExclusion"
   ]
  },
  {
   "cell_type": "code",
   "execution_count": null,
   "id": "bbe9e999-9c44-4e7a-8e94-145e99d44496",
   "metadata": {},
   "outputs": [],
   "source": [
    "size = 100\n",
    "side = np.linspace(-55, 55, num=size)\n",
    "ds = xr.Dataset(\n",
    "    {\"mask\": ((\"x\", \"y\"), np.ones((size, size), dtype=bool))},\n",
    "    coords={\n",
    "        \"x\": side,\n",
    "        \"y\": side,\n",
    "    },\n",
    ")\n",
    "\n",
    "ds.mask.plot(x=\"x\", y=\"y\");"
   ]
  },
  {
   "cell_type": "markdown",
   "id": "99c0a862-f269-445e-9f3f-53eaab8922a5",
   "metadata": {},
   "source": [
    "The default settings for the for `LaPDXYExclusion` are the same as the manually constructed exclusion mask above."
   ]
  },
  {
   "cell_type": "code",
   "execution_count": null,
   "id": "89f5fc5a-fa83-4933-a2ad-229ee1396ff4",
   "metadata": {},
   "outputs": [],
   "source": [
    "ex = LaPDXYExclusion(ds)\n",
    "\n",
    "ds.mask.plot(x=\"x\", y=\"y\")\n",
    "\n",
    "mb = ex.composed_exclusions[1].mb\n",
    "plt.plot(side, mb[0] * side + mb[1], color=\"blue\")\n",
    "\n",
    "mb = ex.composed_exclusions[2].mb\n",
    "plt.plot(side, mb[0] * side + mb[1], color=\"red\");"
   ]
  },
  {
   "cell_type": "markdown",
   "id": "e55a3091-db02-43e6-a428-d15a19f121c7",
   "metadata": {},
   "source": [
    "Additionally, port locations can be specified using values of `E`, `East`, `W`, `West`, `T`, `Top`, `B`, and `Bottom` (all are case insensitive)."
   ]
  },
  {
   "cell_type": "code",
   "execution_count": null,
   "id": "e5501409-0dad-4538-aaa9-19d03d87180c",
   "metadata": {},
   "outputs": [],
   "source": [
    "ds = xr.Dataset(\n",
    "    {\"mask\": ((\"x\", \"y\"), np.ones((size, size), dtype=bool))},\n",
    "    coords={\n",
    "        \"x\": side,\n",
    "        \"y\": side,\n",
    "    },\n",
    ")\n",
    "\n",
    "ex = LaPDXYExclusion(ds, port_location=\"T\")\n",
    "\n",
    "ds.mask.plot(x=\"x\", y=\"y\")\n",
    "\n",
    "mb = ex.composed_exclusions[1].mb\n",
    "plt.plot(side, mb[0] * side + mb[1], color=\"blue\")\n",
    "\n",
    "mb = ex.composed_exclusions[2].mb\n",
    "plt.plot(side, mb[0] * side + mb[1], color=\"red\");"
   ]
  },
  {
   "cell_type": "markdown",
   "id": "180ece76-a2f6-4820-af70-e8f65cd970bc",
   "metadata": {},
   "source": [
    "For non-standard ports an angle (in degrees) can be given instead."
   ]
  },
  {
   "cell_type": "code",
   "execution_count": null,
   "id": "8941b028-77bd-42c9-8203-7c2da7a6dd90",
   "metadata": {},
   "outputs": [],
   "source": [
    "ds = xr.Dataset(\n",
    "    {\"mask\": ((\"x\", \"y\"), np.ones((size, size), dtype=bool))},\n",
    "    coords={\n",
    "        \"x\": side,\n",
    "        \"y\": side,\n",
    "    },\n",
    ")\n",
    "\n",
    "ex = LaPDXYExclusion(ds, port_location=135)\n",
    "\n",
    "ds.mask.plot(x=\"x\", y=\"y\")\n",
    "\n",
    "mb = ex.composed_exclusions[1].mb\n",
    "plt.plot(side, mb[0] * side + mb[1], color=\"blue\")\n",
    "\n",
    "mb = ex.composed_exclusions[2].mb\n",
    "plt.plot(side, mb[0] * side + mb[1], color=\"red\");"
   ]
  },
  {
   "cell_type": "markdown",
   "id": "66eab57d-98f3-4626-92b1-49d0a880183c",
   "metadata": {},
   "source": [
    "`LaPDXYExclusion` is a compound exclusiong, that is it is constructed from other base exclusions.  In this case, it build used one instance of the `CircularExclusion` and two instances of the `DividerExclusion`."
   ]
  },
  {
   "cell_type": "code",
   "execution_count": null,
   "id": "bb3c0064-c9b7-42ff-8212-35fa17536a84",
   "metadata": {},
   "outputs": [],
   "source": [
    "ex.composed_exclusions"
   ]
  },
  {
   "cell_type": "markdown",
   "id": "b660e7a2-5175-4a35-92e9-47a4d58a40d7",
   "metadata": {},
   "source": [
    "Just like base exclusesion, the `LaPDXYExclusion` configuration can be accesed via the `config` attribute."
   ]
  },
  {
   "cell_type": "code",
   "execution_count": null,
   "id": "aa16a618-308c-483f-9282-1585d2fa424c",
   "metadata": {},
   "outputs": [],
   "source": [
    "ex.config\n"
   ]
  }
 ],
 "metadata": {
  "kernelspec": {
   "display_name": "Python 3 (ipykernel)",
   "language": "python",
   "name": "python3"
  },
  "language_info": {
   "codemirror_mode": {
    "name": "ipython",
    "version": 3
   },
   "file_extension": ".py",
   "mimetype": "text/x-python",
   "name": "python",
   "nbconvert_exporter": "python",
   "pygments_lexer": "ipython3",
   "version": "3.10.4"
  }
 },
 "nbformat": 4,
 "nbformat_minor": 5
}
