{
 "cells": [
  {
   "cell_type": "markdown",
   "metadata": {},
   "source": [
    "# General installation from github\n",
    "This notebook creates a basic project structure. \n",
    "It is based on the article:\n",
    "\n",
    "https://towardsdatascience.com/its-time-to-structure-your-data-science-project-1fa064fbe46\n"
   ]
  },
  {
   "cell_type": "code",
   "execution_count": 1,
   "metadata": {},
   "outputs": [
    {
     "ename": "ModuleNotFoundError",
     "evalue": "No module named 'arenz_group_python'",
     "output_type": "error",
     "traceback": [
      "\u001b[1;31m---------------------------------------------------------------------------\u001b[0m",
      "\u001b[1;31mModuleNotFoundError\u001b[0m                       Traceback (most recent call last)",
      "Cell \u001b[1;32mIn[1], line 1\u001b[0m\n\u001b[1;32m----> 1\u001b[0m \u001b[38;5;28;01mfrom\u001b[39;00m \u001b[38;5;21;01marenz_group_python\u001b[39;00m \u001b[38;5;28;01mimport\u001b[39;00m Project_Paths\n\u001b[0;32m      3\u001b[0m \u001b[38;5;66;03m#Path of the file.\u001b[39;00m\n\u001b[0;32m      5\u001b[0m main_dir \u001b[38;5;241m=\u001b[39m Path(os\u001b[38;5;241m.\u001b[39mgetcwd())\n",
      "\u001b[1;31mModuleNotFoundError\u001b[0m: No module named 'arenz_group_python'"
     ]
    }
   ],
   "source": [
    "from arenz_group_python import Project_Paths\n",
    "\n",
    "#Path of the file.\n",
    "\n",
    "main_dir = Path(os.getcwd())\n",
    "print(main_dir)"
   ]
  },
  {
   "cell_type": "code",
   "execution_count": null,
   "metadata": {},
   "outputs": [
    {
     "name": "stdout",
     "output_type": "stream",
     "text": [
      "-\"rawdata\" exists already as a folder\n",
      "-\"data\" exists already as a folder\n",
      "-\"py_scripts\" exists already as a folder\n",
      "-\"notebooks_models\" exists already as a folder\n",
      "-\"notebooks_exploration_cleaning\" exists already as a folder\n",
      "\n",
      "creating files:\n",
      "\n",
      "-\"notebooks_models/modelData.ipynb\" already exists\n",
      "-\"py_scripts/my_Module.py\" already exists\n",
      "-\"__init__.py\" already exists\n",
      "+\"README.md\" was created\n",
      "-\"README.md\" already exists\n",
      "-\"extractData.ipynb\" already exists\n"
     ]
    }
   ],
   "source": [
    "project_folders = [\n",
    "    \"rawdata\",\n",
    "    \"data\",\n",
    "    \"py_scripts\",\n",
    "    \"notebooks_models\",\n",
    "    \"notebooks_exploration_cleaning\" \n",
    "    ]\n",
    "for folderPath in project_folders:\n",
    "    try:\n",
    "        os.makedirs(folderPath)\n",
    "        print(f\"+\\\"{folderPath}\\\" was created\")\n",
    "    except FileExistsError:\n",
    "        print(f\"-\\\"{folderPath}\\\" exists already as a folder\")\n",
    "\n",
    "print(\"\\ncreating files:\\n\")\n",
    "def_files = [\n",
    "    \"notebooks_models/modelData.ipynb\",\n",
    "    \"py_scripts/my_Module.py\"\n",
    "]\n",
    "for file in def_files:\n",
    "    try:\n",
    "        fo= open(file,\"x\")\n",
    "        fo.close()\n",
    "        print(f\"+\\\"{file}\\\" was created\")\n",
    "    except FileExistsError:\n",
    "        print(f\"-\\\"{file}\\\" already exists\")\n",
    "\n",
    "path = main_dir / \"py_scripts\" / \"__init__.py\"\n",
    "try:\n",
    "    with open(path,\"x\") as f:\n",
    "        f.write(\"# Leave it empty. This is just a special file that tells pip that your main module is in this folder.\\n# No need to add anything here. Feel free to delete this line when you make your own package.\")\n",
    "        f.close()\n",
    "    print(\"+\\\"__init__.py\\\" was created\")\n",
    "except FileExistsError :\n",
    "    print(\"-\\\"__init__.py\\\" already exists\")\n",
    "\n",
    "path = main_dir / \"rawdata\" / \"README.txt\"\n",
    "try:\n",
    "    with open(path,\"x\") as f:\n",
    "        f.write(\"# Use the rawdata folder to store all experimental data. ONLY!!!!.\")\n",
    "        f.close()\n",
    "    print(\"+\\\"README.md\\\" was created\")\n",
    "except FileExistsError :\n",
    "    print(\"-\\\"README.md\\\" already exists\")\n",
    "    path = main_dir / \"data\" / \"README.txt\"\n",
    "try:\n",
    "    with open(path,\"x\") as f:\n",
    "        f.write(\"# Use the data folder to store all extracted values from data manipulation. NO RAW DATA!!!!.\")\n",
    "        f.close()\n",
    "    print(\"+\\\"README.md\\\" was created\")\n",
    "except FileExistsError :\n",
    "    print(\"-\\\"README.md\\\" already exists\")\n",
    "\n",
    "\n",
    "path = main_dir / \"notebooks_exploration_cleaning\" / \"extractData.ipynb\"\n",
    "try:\n",
    "    with open(path,\"x\") as f:\n",
    "        f.write('''{\n",
    " \"cells\": [\n",
    "  {\n",
    "   \"cell_type\": \"markdown\",\n",
    "   \"metadata\": {},\n",
    "   \"source\": [\n",
    "    \"# Exploring the data\\n\",\n",
    "    \"use this notebook and others to extract data.\\n\",\n",
    "    \"To use with electrochemistry data, use the following import\\n\",\n",
    "    \"from arenz_group_python.ec_data import EC_Data\"\n",
    "   ]\n",
    "  },\n",
    "  {\n",
    "   \"cell_type\": \"code\",\n",
    "   \"execution_count\": null,\n",
    "   \"metadata\": {},\n",
    "   \"outputs\": [],\n",
    "   \"source\": [\n",
    "    \"from arenz_group_python.ec_data import EC_Data\\n\",\n",
    "    \"\\n\",\n",
    "    \"#file1 = EC_Data(\\\"PATH_TO_FILE\\\")\\n\",\n",
    "    \"#file1.plot(\\\"E\\\",\\\"i\\\") for a i vs E \"\n",
    "   ]\n",
    "  }\n",
    " ],\n",
    " \"metadata\": {\n",
    "  \"kernelspec\": {\n",
    "   \"display_name\": \"Python 3\",\n",
    "   \"language\": \"python\",\n",
    "   \"name\": \"python3\"\n",
    "  },\n",
    "  \"language_info\": {\n",
    "   \"name\": \"python\",\n",
    "   \"version\": \"3.11.5\"\n",
    "  }\n",
    " },\n",
    " \"nbformat\": 4,\n",
    " \"nbformat_minor\": 2\n",
    "}''')\n",
    "except FileExistsError:\n",
    "    print(\"-\\\"extractData.ipynb\\\" already exists\")\n"
   ]
  }
 ],
 "metadata": {
  "kernelspec": {
   "display_name": "Python 3",
   "language": "python",
   "name": "python3"
  },
  "language_info": {
   "codemirror_mode": {
    "name": "ipython",
    "version": 3
   },
   "file_extension": ".py",
   "mimetype": "text/x-python",
   "name": "python",
   "nbconvert_exporter": "python",
   "pygments_lexer": "ipython3",
   "version": "3.12.1"
  }
 },
 "nbformat": 4,
 "nbformat_minor": 2
}
