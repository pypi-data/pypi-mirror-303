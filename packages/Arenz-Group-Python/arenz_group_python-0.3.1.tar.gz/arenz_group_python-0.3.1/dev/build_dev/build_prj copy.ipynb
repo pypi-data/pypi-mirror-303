{
 "cells": [
  {
   "cell_type": "markdown",
   "metadata": {},
   "source": [
    "# General installation from github\n",
    "pip install \"Package\" @ git+\"URL of the repository#subdirectory=path\"\n",
    "\n",
    "Here, we want to install Arenz_Group Python package."
   ]
  },
  {
   "cell_type": "code",
   "execution_count": 1,
   "metadata": {},
   "outputs": [
    {
     "name": "stdout",
     "output_type": "stream",
     "text": [
      "\"c:\\Users\\gustav.wiberg\\AppData\\Local\\Programs\\Python\\Python311\\python.exe\"\n",
      "c:\\Users\\gustav.wiberg\\Documents\\GitHub\\BERN\\Arenz_Group_Python\n"
     ]
    }
   ],
   "source": [
    "#%cd ..\n",
    "import sys\n",
    "from pathlib import Path\n",
    "path_to_executable = \"\\\"\" + str(sys.executable) +  \"\\\"\" #must be used if there are any spaces in the path\n",
    "print(path_to_executable)\n",
    "p=Path(\".\").cwd().parent.parent\n",
    "print(p)"
   ]
  },
  {
   "cell_type": "code",
   "execution_count": 2,
   "metadata": {},
   "outputs": [
    {
     "name": "stdout",
     "output_type": "stream",
     "text": [
      "Project Version 0.3.1\n",
      "{'build-system': {'requires': ['hatchling'], 'build-backend': 'hatchling.build'}, 'project': {'name': 'Arenz_Group_Python', 'version': '0.3.1', 'dependencies': ['nptdms', 'matplotlib', 'pathlib', 'scipy', 'numpy', 'pandas', 'EC4py'], 'requires-python': '>=3.11', 'description': 'a pip-installable package with function for Arenz Group', 'readme': 'README.md', 'keywords': ['python', 'arenz group', 'tdms'], 'classifiers': ['Development Status :: 4 - Beta', 'Operating System :: OS Independent', 'Programming Language :: Python'], 'authors': [{'name': 'Gustav Wiberg', 'email': 'gustav.wiberg@unibe.ch'}], 'maintainers': [{'name': 'Gustav Wiberg', 'email': 'gustav.wiberg@unibe.ch'}], 'license': {'file': 'LICENSE'}, 'urls': {'Homepage': 'https://github.com/NanoElectroCatalysis/Arenz_Group_Python', 'Documentation': 'https://github.com/NanoElectroCatalysis/Arenz_Group_Python', 'Repository': 'https://github.com/NanoElectroCatalysis/Arenz_Group_Python', 'Issues': 'https://github.com/NanoElectroCatalysis/Arenz_Group_Python', 'Changelog': 'https://github.com/NanoElectroCatalysis/Arenz_Group_Python'}}, 'tool': {'setuptools': {'packages': {'find': {'where': ['src']}}}}}\n"
     ]
    }
   ],
   "source": [
    "import ver_update\n",
    "ver_update.version_updated()"
   ]
  },
  {
   "cell_type": "code",
   "execution_count": 3,
   "metadata": {},
   "outputs": [
    {
     "name": "stdout",
     "output_type": "stream",
     "text": [
      "c:\\Users\\gustav.wiberg\\Documents\\GitHub\\BERN\\Arenz_Group_Python\n",
      "* Creating isolated environment: venv+pip...\n",
      "* Installing packages in isolated environment:\n",
      "  - hatchling\n",
      "* Getting build dependencies for sdist...\n",
      "* Building sdist...\n",
      "* Building wheel from sdist\n",
      "* Creating isolated environment: venv+pip...\n",
      "* Installing packages in isolated environment:\n",
      "  - hatchling\n",
      "* Getting build dependencies for wheel...\n",
      "* Building wheel...\n",
      "Successfully built arenz_group_python-0.3.1.tar.gz and arenz_group_python-0.3.1-py3-none-any.whl\n"
     ]
    }
   ],
   "source": [
    "p=Path(\".\").cwd().parent.parent\n",
    "print(str(p))\n",
    "!{path_to_executable} -m build {p} "
   ]
  },
  {
   "cell_type": "code",
   "execution_count": 6,
   "metadata": {},
   "outputs": [
    {
     "name": "stdout",
     "output_type": "stream",
     "text": [
      "Checking \n",
      "c:\\Users\\gustav.wiberg\\Documents\\GitHub\\BERN\\Arenz_Group_Python\\dist\\arenz_grou\n",
      "p_python-0.3.1-py3-none-any.whl: PASSED\n",
      "Checking \n",
      "c:\\Users\\gustav.wiberg\\Documents\\GitHub\\BERN\\Arenz_Group_Python\\dist\\arenz_grou\n",
      "p_python-0.3.1.tar.gz: PASSED\n"
     ]
    }
   ],
   "source": [
    "p_dist = p / \"dist\" / \"*\"\n",
    "!twine check {p_dist}"
   ]
  },
  {
   "cell_type": "code",
   "execution_count": 7,
   "metadata": {},
   "outputs": [
    {
     "name": "stdout",
     "output_type": "stream",
     "text": [
      "ERROR    InvalidDistribution: Cannot find file (or expand pattern): 'dist/*'   \n"
     ]
    }
   ],
   "source": [
    "!twine check dist/*"
   ]
  },
  {
   "cell_type": "markdown",
   "metadata": {},
   "source": [
    "If you donot have pip or git installed in your conda env., run:\n",
    "conda install pip\n",
    "conda install git"
   ]
  }
 ],
 "metadata": {
  "kernelspec": {
   "display_name": "Python 3",
   "language": "python",
   "name": "python3"
  },
  "language_info": {
   "codemirror_mode": {
    "name": "ipython",
    "version": 3
   },
   "file_extension": ".py",
   "mimetype": "text/x-python",
   "name": "python",
   "nbconvert_exporter": "python",
   "pygments_lexer": "ipython3",
   "version": "3.11.5"
  }
 },
 "nbformat": 4,
 "nbformat_minor": 2
}
