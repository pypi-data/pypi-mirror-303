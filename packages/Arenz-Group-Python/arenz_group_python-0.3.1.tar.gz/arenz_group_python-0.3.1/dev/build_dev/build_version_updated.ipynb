{
 "cells": [
  {
   "cell_type": "markdown",
   "metadata": {},
   "source": [
    "#increase version of setup file"
   ]
  },
  {
   "cell_type": "code",
   "execution_count": 1,
   "metadata": {},
   "outputs": [
    {
     "name": "stdout",
     "output_type": "stream",
     "text": [
      "Requirement already satisfied: toml in c:\\users\\gustav.wiberg\\appdata\\local\\programs\\python\\python311\\lib\\site-packages (0.10.2)Note: you may need to restart the kernel to use updated packages.\n",
      "\n",
      "Project Version 0.3.1\n",
      "{'build-system': {'requires': ['hatchling'], 'build-backend': 'hatchling.build'}, 'project': {'name': 'Arenz_Group_Python', 'version': '0.3.1', 'dependencies': ['nptdms', 'matplotlib', 'pathlib', 'scipy', 'numpy', 'pandas', 'EC4py'], 'requires-python': '>=3.11', 'description': 'a pip-installable package with function for Arenz Group', 'readme': 'README.md', 'keywords': ['python', 'arenz group', 'tdms'], 'classifiers': ['Development Status :: 4 - Beta', 'Operating System :: OS Independent', 'Programming Language :: Python'], 'authors': [{'name': 'Gustav Wiberg', 'email': 'gustav.wiberg@unibe.ch'}], 'maintainers': [{'name': 'Gustav Wiberg', 'email': 'gustav.wiberg@unibe.ch'}], 'license': {'file': 'LICENSE'}, 'urls': {'Homepage': 'https://github.com/NanoElectroCatalysis/Arenz_Group_Python', 'Documentation': 'https://github.com/NanoElectroCatalysis/Arenz_Group_Python', 'Repository': 'https://github.com/NanoElectroCatalysis/Arenz_Group_Python', 'Issues': 'https://github.com/NanoElectroCatalysis/Arenz_Group_Python', 'Changelog': 'https://github.com/NanoElectroCatalysis/Arenz_Group_Python'}}, 'tool': {'setuptools': {'packages': {'find': {'where': ['src']}}}}}\n"
     ]
    }
   ],
   "source": [
    "%pip install toml\n",
    "from ver_update import version_updated\n",
    "\n",
    "version_updated()\n",
    "\n"
   ]
  }
 ],
 "metadata": {
  "kernelspec": {
   "display_name": "Python 3",
   "language": "python",
   "name": "python3"
  },
  "language_info": {
   "codemirror_mode": {
    "name": "ipython",
    "version": 3
   },
   "file_extension": ".py",
   "mimetype": "text/x-python",
   "name": "python",
   "nbconvert_exporter": "python",
   "pygments_lexer": "ipython3",
   "version": "3.11.5"
  }
 },
 "nbformat": 4,
 "nbformat_minor": 2
}
