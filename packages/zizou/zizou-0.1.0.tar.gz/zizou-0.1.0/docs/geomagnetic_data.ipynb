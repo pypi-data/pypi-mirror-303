{
 "cells": [
  {
   "cell_type": "code",
   "execution_count": 1,
   "metadata": {},
   "outputs": [],
   "source": [
    "from zizou.data import DataSource, GeoMagWaveforms\n",
    "from zizou.ssam import SSAM \n",
    "from datetime import datetime, date, timedelta, timezone\n",
    "import pandas as pd\n",
    "import requests\n",
    "from tonik import Storage\n",
    "from io import StringIO\n",
    "from obspy import UTCDateTime, Trace\n",
    "import numpy as np\n",
    "from zizou.visualise import plot_ssam_plotly\n",
    "import plotly.graph_objects as go\n",
    "from plotly.subplots import make_subplots"
   ]
  },
  {
   "cell_type": "code",
   "execution_count": 3,
   "metadata": {},
   "outputs": [
    {
     "name": "stdout",
     "output_type": "stream",
     "text": [
      "2024-10-17 22:59:43:zizou.data:3159056:755 DEBUG Data for NZ.EYWM.50.F between 2024-04-01T00:00:00.000000Z and 2024-04-09T00:00:00.000000Z not found in cache.\n",
      "2024-10-17 22:59:44:zizou.data:3159056:731 DEBUG writing NZ.EYWM.50.F | 2024-04-01T00:00:00.000000Z - 2024-04-02T00:00:00.000000Z | 60.0 s, 1441 samples to /home/zizou/zizou_cache/2024/NZ/EYWM/F.D/NZ.EYWM.50.F.D.2024.092\n",
      "2024-10-17 22:59:44:zizou.data:3159056:731 DEBUG writing NZ.EYWM.50.F | 2024-04-02T00:00:00.000000Z - 2024-04-03T00:00:00.000000Z | 60.0 s, 1441 samples to /home/zizou/zizou_cache/2024/NZ/EYWM/F.D/NZ.EYWM.50.F.D.2024.093\n",
      "2024-10-17 22:59:44:zizou.data:3159056:731 DEBUG writing NZ.EYWM.50.F | 2024-04-03T00:00:00.000000Z - 2024-04-04T00:00:00.000000Z | 60.0 s, 1441 samples to /home/zizou/zizou_cache/2024/NZ/EYWM/F.D/NZ.EYWM.50.F.D.2024.094\n",
      "2024-10-17 22:59:44:zizou.data:3159056:731 DEBUG writing NZ.EYWM.50.F | 2024-04-04T00:00:00.000000Z - 2024-04-05T00:00:00.000000Z | 60.0 s, 1441 samples to /home/zizou/zizou_cache/2024/NZ/EYWM/F.D/NZ.EYWM.50.F.D.2024.095\n",
      "2024-10-17 22:59:44:zizou.data:3159056:731 DEBUG writing NZ.EYWM.50.F | 2024-04-05T00:00:00.000000Z - 2024-04-06T00:00:00.000000Z | 60.0 s, 1441 samples to /home/zizou/zizou_cache/2024/NZ/EYWM/F.D/NZ.EYWM.50.F.D.2024.096\n",
      "2024-10-17 22:59:44:zizou.data:3159056:731 DEBUG writing NZ.EYWM.50.F | 2024-04-06T00:00:00.000000Z - 2024-04-07T00:00:00.000000Z | 60.0 s, 1441 samples to /home/zizou/zizou_cache/2024/NZ/EYWM/F.D/NZ.EYWM.50.F.D.2024.097\n",
      "2024-10-17 22:59:44:zizou.data:3159056:731 DEBUG writing NZ.EYWM.50.F | 2024-04-07T00:00:00.000000Z - 2024-04-08T00:00:00.000000Z | 60.0 s, 1441 samples to /home/zizou/zizou_cache/2024/NZ/EYWM/F.D/NZ.EYWM.50.F.D.2024.098\n",
      "2024-10-17 22:59:44:zizou.data:3159056:731 DEBUG writing NZ.EYWM.50.F | 2024-04-08T00:00:00.000000Z - 2024-04-09T00:00:00.000000Z | 60.0 s, 1441 samples to /home/zizou/zizou_cache/2024/NZ/EYWM/F.D/NZ.EYWM.50.F.D.2024.099\n",
      "2024-10-17 22:59:44:zizou.data:3159056:731 DEBUG writing NZ.EYWM.50.F | 2024-04-09T00:00:00.000000Z - 2024-04-09T00:00:00.000000Z | 60.0 s, 1 samples to /home/zizou/zizou_cache/2024/NZ/EYWM/F.D/NZ.EYWM.50.F.D.2024.100\n",
      "2024-10-17 22:59:44:zizou.ssam:3159056:288 INFO Computing spectrograms for NZ.EYWM.50.F between 2024-04-01T00:00:00 and 2024-04-09T00:00:00.\n"
     ]
    },
    {
     "name": "stderr",
     "output_type": "stream",
     "text": [
      "/workspaces/zizou/src/zizou/ssam.py:272: RuntimeWarning: divide by zero encountered in log\n",
      "  hob = np.log(z / z_tot[np.newaxis, :])\n"
     ]
    }
   ],
   "source": [
    "gmc = GeoMagWaveforms(base_url='https://tilde.geonet.org.nz/v3/data',\n",
    "                      method='60s', aspect='F-total-field', name='magnetic-field')\n",
    "ssam = SSAM(per_lap=0.5, timestamp='start', interval=1024*60.,\n",
    "            frequencies=np.linspace(1/1000., 1/120., 50))\n",
    "ds = DataSource(clients=[gmc])\n",
    "sg = Storage('geomag', rootdir='/tmp/geomag')\n",
    "st = sg.get_substore('EYWM', '50', 'F')\n",
    "startdate = UTCDateTime(2024, 4, 1)\n",
    "enddate = UTCDateTime.now()\n",
    "enddate = UTCDateTime(2024, 4, 9)\n",
    "for tr in ds.get_waveforms(net='NZ', site='EYWM', loc='50', comp='F',\n",
    "                           start=startdate, end=enddate,\n",
    "                           cache=True):\n",
    "    xds = ssam.compute(tr) \n",
    "    st.save(xds)"
   ]
  },
  {
   "cell_type": "code",
   "execution_count": 4,
   "metadata": {},
   "outputs": [
    {
     "data": {
      "text/plain": [
       "NZ.EYWM.50.F | 2024-04-01T00:00:00.000000Z - 2024-04-09T00:00:00.000000Z | 60.0 s, 11521 samples"
      ]
     },
     "execution_count": 4,
     "metadata": {},
     "output_type": "execute_result"
    }
   ],
   "source": [
    "st.starttime\n",
    "spec = "
   ]
  },
  {
   "cell_type": "code",
   "execution_count": null,
   "metadata": {},
   "outputs": [],
   "source": [
    "st.starttime = startdate.datetime\n",
    "st.endtime = enddate.datetime\n",
    "xds_st = st('filterbank')"
   ]
  },
  {
   "cell_type": "code",
   "execution_count": null,
   "metadata": {},
   "outputs": [],
   "source": [
    "fig = make_subplots(rows=2, cols=1, shared_xaxes=True)\n",
    "tr = next(ds.get_waveforms(net='NZ', site='EYWM', loc='50', comp='F',\n",
    "                           start=startdate, end=enddate))\n",
    "dt = [startdate.datetime + timedelta(seconds=s) for s in tr.times()]\n",
    "fig.add_trace(go.Scatter(x=dt, y=tr.data, mode='lines'), row=1, col=1)\n",
    "fig.add_trace(plot_ssam_plotly(xds_st, dbscale=True, new_fig=False), row=2, col=1)"
   ]
  }
 ],
 "metadata": {
  "kernelspec": {
   "display_name": "Python 3",
   "language": "python",
   "name": "python3"
  },
  "language_info": {
   "codemirror_mode": {
    "name": "ipython",
    "version": 3
   },
   "file_extension": ".py",
   "mimetype": "text/x-python",
   "name": "python",
   "nbconvert_exporter": "python",
   "pygments_lexer": "ipython3",
   "version": "3.9.19"
  }
 },
 "nbformat": 4,
 "nbformat_minor": 2
}
