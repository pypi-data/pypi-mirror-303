{
 "cells": [
  {
   "cell_type": "markdown",
   "id": "880e389e-f4c8-4d0c-b09e-ce6d3093a03c",
   "metadata": {},
   "source": [
    "# Example USage of LanceDB-haystack in a Haystack Pipeline\n",
    "\n",
    "**Author:** Alan Meeson <am@carefullycalculated.co.uk>\n",
    "\n",
    "**Date:** 2024-05-18\n",
    "\n",
    "This notebook provides an example of using the LanceDB backed FTS and embedding DocumentStore with Haystack 2.x."
   ]
  },
  {
   "cell_type": "markdown",
   "id": "52b36ac7-1414-41a5-a6c3-d46df035ff3c",
   "metadata": {
    "execution": {
     "iopub.execute_input": "2024-05-18T19:44:27.277871Z",
     "iopub.status.busy": "2024-05-18T19:44:27.277265Z",
     "iopub.status.idle": "2024-05-18T19:44:27.282233Z",
     "shell.execute_reply": "2024-05-18T19:44:27.281247Z",
     "shell.execute_reply.started": "2024-05-18T19:44:27.277839Z"
    }
   },
   "source": [
    "## Setup"
   ]
  },
  {
   "cell_type": "code",
   "execution_count": 1,
   "id": "ed6648a0-fdae-4e4f-abb2-73cb4f26e3ae",
   "metadata": {
    "execution": {
     "iopub.execute_input": "2024-05-26T22:50:20.615025Z",
     "iopub.status.busy": "2024-05-26T22:50:20.614776Z",
     "iopub.status.idle": "2024-05-26T22:50:21.369572Z",
     "shell.execute_reply": "2024-05-26T22:50:21.369146Z",
     "shell.execute_reply.started": "2024-05-26T22:50:20.615006Z"
    }
   },
   "outputs": [],
   "source": [
    "import pyarrow as pa\n",
    "\n",
    "from haystack import Document, Pipeline\n",
    "from haystack.components.preprocessors import DocumentCleaner, DocumentSplitter\n",
    "from haystack.components.writers import DocumentWriter\n",
    "from haystack_integrations.components.embedders.fastembed import FastembedDocumentEmbedder, FastembedTextEmbedder\n",
    "\n",
    "from lancedb_haystack import LanceDBDocumentStore, LanceDBEmbeddingRetriever, LanceDBFTSRetriever"
   ]
  },
  {
   "cell_type": "markdown",
   "id": "9c3ada65-ef28-41d1-81fc-769ea6138326",
   "metadata": {},
   "source": [
    "## Declare the document store and associated settings"
   ]
  },
  {
   "cell_type": "code",
   "execution_count": 2,
   "id": "40e5b973-d44c-49d8-a26b-c6d386fd8905",
   "metadata": {
    "execution": {
     "iopub.execute_input": "2024-05-26T22:50:21.370424Z",
     "iopub.status.busy": "2024-05-26T22:50:21.370069Z",
     "iopub.status.idle": "2024-05-26T22:50:21.375562Z",
     "shell.execute_reply": "2024-05-26T22:50:21.374840Z",
     "shell.execute_reply.started": "2024-05-26T22:50:21.370406Z"
    }
   },
   "outputs": [],
   "source": [
    "lance_db_path = 'lancedb'\n",
    "metadata_schema = pa.struct([\n",
    "    ('author', pa.string()),\n",
    "    ('title', pa.string()),    \n",
    "    ('url', pa.string())\n",
    "])\n",
    "document_store = LanceDBDocumentStore(database=lance_db_path, table_name=\"documents\", metadata_schema=metadata_schema, embedding_dims=384)\n",
    "\n",
    "\n",
    "embedding_retriever = LanceDBEmbeddingRetriever(document_store)"
   ]
  },
  {
   "cell_type": "code",
   "execution_count": 3,
   "id": "a5dd17c5-612a-4439-a6cf-1afd9540b45f",
   "metadata": {
    "execution": {
     "iopub.execute_input": "2024-05-26T22:50:21.376276Z",
     "iopub.status.busy": "2024-05-26T22:50:21.376081Z",
     "iopub.status.idle": "2024-05-26T22:50:22.119830Z",
     "shell.execute_reply": "2024-05-26T22:50:22.119196Z",
     "shell.execute_reply.started": "2024-05-26T22:50:21.376262Z"
    }
   },
   "outputs": [
    {
     "data": {
      "application/vnd.jupyter.widget-view+json": {
       "model_id": "848b90be2d8343e0aa1234bbb4c0e486",
       "version_major": 2,
       "version_minor": 0
      },
      "text/plain": [
       "Fetching 5 files:   0%|          | 0/5 [00:00<?, ?it/s]"
      ]
     },
     "metadata": {},
     "output_type": "display_data"
    }
   ],
   "source": [
    "embedder = FastembedDocumentEmbedder()\n",
    "embedder.warm_up()"
   ]
  },
  {
   "cell_type": "markdown",
   "id": "ed036db9-020a-49e7-8c64-c4eac514d37b",
   "metadata": {},
   "source": [
    "## Do the Indexing"
   ]
  },
  {
   "cell_type": "code",
   "execution_count": 4,
   "id": "bc296707-404d-45a4-a855-e104c2cb100f",
   "metadata": {
    "execution": {
     "iopub.execute_input": "2024-05-26T22:50:22.120879Z",
     "iopub.status.busy": "2024-05-26T22:50:22.120633Z",
     "iopub.status.idle": "2024-05-26T22:50:22.126105Z",
     "shell.execute_reply": "2024-05-26T22:50:22.125314Z",
     "shell.execute_reply.started": "2024-05-26T22:50:22.120862Z"
    }
   },
   "outputs": [
    {
     "data": {
      "text/plain": [
       "<haystack.core.pipeline.pipeline.Pipeline object at 0x7f6316047cd0>\n",
       "🚅 Components\n",
       "  - cleaner: DocumentCleaner\n",
       "  - splitter: DocumentSplitter\n",
       "  - embedder: FastembedDocumentEmbedder\n",
       "  - writer: DocumentWriter\n",
       "🛤️ Connections\n",
       "  - cleaner.documents -> splitter.documents (List[Document])\n",
       "  - splitter.documents -> embedder.documents (List[Document])\n",
       "  - embedder.documents -> writer.documents (List[Document])"
      ]
     },
     "execution_count": 4,
     "metadata": {},
     "output_type": "execute_result"
    }
   ],
   "source": [
    "p = Pipeline()\n",
    "p.add_component(instance=DocumentCleaner(), name=\"cleaner\")\n",
    "p.add_component(instance=DocumentSplitter(split_by=\"sentence\", split_length=250, split_overlap=30), name=\"splitter\")\n",
    "p.add_component(instance=embedder, name=\"embedder\")\n",
    "p.add_component(instance=DocumentWriter(document_store=document_store), name=\"writer\")\n",
    "p.connect(\"cleaner.documents\", \"splitter.documents\")\n",
    "p.connect(\"splitter.documents\", \"embedder.documents\")\n",
    "p.connect(\"embedder.documents\", \"writer.documents\")"
   ]
  },
  {
   "cell_type": "code",
   "execution_count": 5,
   "id": "60c40285-e387-4be6-92ba-665db6a198a9",
   "metadata": {
    "execution": {
     "iopub.execute_input": "2024-05-26T22:50:22.128730Z",
     "iopub.status.busy": "2024-05-26T22:50:22.128384Z",
     "iopub.status.idle": "2024-05-26T22:50:22.142236Z",
     "shell.execute_reply": "2024-05-26T22:50:22.141598Z",
     "shell.execute_reply.started": "2024-05-26T22:50:22.128704Z"
    }
   },
   "outputs": [],
   "source": [
    "docs = [\n",
    "    Document(\n",
    "        content=\"A man must appear somewhat vain, who declares that he has been obliged to reject much useful information, for fear of increasing too much the size of his work: and yet manages to find room for a few pages of his own, by way of Preface: but lest the objects which the compiler of this little work has had in view should be mistaken, he finds it absolutely necessary to say a few words in explanation of them. This small collection of military memorandums was originally intended only for the compiler’s own pocket; to assist him in the execution of his duty: but it occurred to him, that many of his military friends stood in equal need of such an aid, and would willingly give a few shillings for what they would not be at the trouble of collecting. The compiler has seen young men, on their first entry into the regiment of artillery, give a guinea for manuscripts, which contained a very small part of the information offered in this little book.\",\n",
    "        meta={\n",
    "            'title': 'The Bombardier, and Pocket Gunner.',\n",
    "            'author':'Ralph Willet Adye',\n",
    "            'url':'https://gutenberg.org/cache/epub/73283/pg73283-images.html'\n",
    "        }\n",
    "    ),\n",
    "    Document(\n",
    "        content=\"26th July, 1799.—Left H. H. this morning to make a tour into Wales and the west of England. Ld. H. went to dine at St. Anne’s, and Drew, Charles, and myself came to this place (General Fitzpatrick’s, Sunninghill) to meet him. On Saturday, ye 27th, we arrived to dinner at Oxford. Close by the General’s, upon Ascot Heath, there is a camp. The cavalry were watered whilst we went on the road, a pretty incident; their brilliant coats contrasted with the dusky brown of the heath, and produced a very lively effect. A cross road to Henley; just as we entered the town we passed under Park Place, a late purchase of Ld. Malmesbury’s. Somewhere near Henley is the highest ground south of Trent. On ye 28th went from Oxford, by Chapel House, to Warwick. I could not help laughing at the event of our going, because the subject of seeing the Castle without being obliged by urgent solicitations to make a long visit there (as Ld. H. was sure we should be very much pressed) had occupied his thoughts for many hours. Ld. H. had written letters to Ly. W. and Mrs. Smith, so calculated as to make a refusal of the pressing invitations (which he dreaded having) quite civil; but we need not have been embarrassed. So far from being solicited to stay, the whole family flew to their fortresses in some battlemented towers, gave out[2] that they were walking, and shunned us. It was a most fortunate escape to me, tho’ I believe Ld. H. was vexed at the impertinence of the proceeding. The Castle is magnificent, decorated with ornaments appropriate to the building, and in the very best taste possible. His taste in virtu is better than in breeding, as he manifested a gross deficiency of that quality to us.\",\n",
    "        meta={\n",
    "            'title': 'The journal of Elizabeth Lady Holland',\n",
    "            'author':'Elizabeth Lady Holland',\n",
    "            'url':'https://gutenberg.org/cache/epub/73280/pg73280-images.html'\n",
    "        }\n",
    "    )    \n",
    "]\n"
   ]
  },
  {
   "cell_type": "code",
   "execution_count": 6,
   "id": "6a221835-d49c-4289-945d-3e0baf85714b",
   "metadata": {
    "execution": {
     "iopub.execute_input": "2024-05-26T22:50:22.143253Z",
     "iopub.status.busy": "2024-05-26T22:50:22.142997Z",
     "iopub.status.idle": "2024-05-26T22:50:22.473661Z",
     "shell.execute_reply": "2024-05-26T22:50:22.472996Z",
     "shell.execute_reply.started": "2024-05-26T22:50:22.143236Z"
    }
   },
   "outputs": [
    {
     "name": "stderr",
     "output_type": "stream",
     "text": [
      "Calculating embeddings: 100%|██████████████████████████████████████████████████████████████████████████████████████████████████████████████████████████████████████████████████████████████████████████████| 2/2 [00:00<00:00,  7.33it/s]\n"
     ]
    }
   ],
   "source": [
    "result = p.run({\"cleaner\": {\"documents\": docs}})"
   ]
  },
  {
   "cell_type": "code",
   "execution_count": 7,
   "id": "ccae3816-6def-49ff-b608-bb8db852330b",
   "metadata": {
    "execution": {
     "iopub.execute_input": "2024-05-26T22:50:22.475497Z",
     "iopub.status.busy": "2024-05-26T22:50:22.474988Z",
     "iopub.status.idle": "2024-05-26T22:50:22.481632Z",
     "shell.execute_reply": "2024-05-26T22:50:22.480747Z",
     "shell.execute_reply.started": "2024-05-26T22:50:22.475465Z"
    }
   },
   "outputs": [
    {
     "data": {
      "text/plain": [
       "{'writer': {'documents_written': 2}}"
      ]
     },
     "execution_count": 7,
     "metadata": {},
     "output_type": "execute_result"
    }
   ],
   "source": [
    "result"
   ]
  },
  {
   "cell_type": "markdown",
   "id": "9f9049c4-97e2-4b11-9037-4e12b5a0f09e",
   "metadata": {},
   "source": [
    "## Query\n",
    "\n",
    "### FTS"
   ]
  },
  {
   "cell_type": "code",
   "execution_count": 8,
   "id": "2d0272d7-849e-452d-a349-b804bd6a8ccb",
   "metadata": {
    "execution": {
     "iopub.execute_input": "2024-05-26T22:50:22.483059Z",
     "iopub.status.busy": "2024-05-26T22:50:22.482753Z",
     "iopub.status.idle": "2024-05-26T22:50:22.487395Z",
     "shell.execute_reply": "2024-05-26T22:50:22.486564Z",
     "shell.execute_reply.started": "2024-05-26T22:50:22.483031Z"
    }
   },
   "outputs": [],
   "source": [
    "fts_retriever = LanceDBFTSRetriever(document_store)\n",
    "query_pipeline = Pipeline()\n",
    "query_pipeline.add_component(\"fts_retriever\", fts_retriever)"
   ]
  },
  {
   "cell_type": "code",
   "execution_count": 9,
   "id": "84c4220a-2cc4-4aba-abc8-d5c97eed919a",
   "metadata": {
    "execution": {
     "iopub.execute_input": "2024-05-26T22:50:22.488797Z",
     "iopub.status.busy": "2024-05-26T22:50:22.488270Z",
     "iopub.status.idle": "2024-05-26T22:50:22.520890Z",
     "shell.execute_reply": "2024-05-26T22:50:22.520337Z",
     "shell.execute_reply.started": "2024-05-26T22:50:22.488769Z"
    }
   },
   "outputs": [],
   "source": [
    "table = document_store.db.open_table(document_store._table_name)\n",
    "table.create_fts_index(\"content\", replace=True)"
   ]
  },
  {
   "cell_type": "code",
   "execution_count": 10,
   "id": "ab48bc20-814a-4cca-b005-750146dda2f3",
   "metadata": {
    "execution": {
     "iopub.execute_input": "2024-05-26T22:50:22.521838Z",
     "iopub.status.busy": "2024-05-26T22:50:22.521600Z",
     "iopub.status.idle": "2024-05-26T22:50:22.529213Z",
     "shell.execute_reply": "2024-05-26T22:50:22.528735Z",
     "shell.execute_reply.started": "2024-05-26T22:50:22.521821Z"
    }
   },
   "outputs": [
    {
     "name": "stdout",
     "output_type": "stream",
     "text": [
      "Number of Results: 1\n"
     ]
    },
    {
     "data": {
      "text/plain": [
       "{'fts_retriever': {'documents': [Document(id=5de0a36f2936e54b099798a464ebfa165fa07f19ff3bb24be84649175fed1050, content: '26th July, 1799.—Left H. H. this morning to make a tour into Wales and the west of England. Ld. H. w...', meta: {'author': 'Elizabeth Lady Holland', 'title': 'The journal of Elizabeth Lady Holland', 'url': 'https://gutenberg.org/cache/epub/73280/pg73280-images.html'}, score: 0.6513087749481201, embedding: vector of size 384)]}}"
      ]
     },
     "execution_count": 10,
     "metadata": {},
     "output_type": "execute_result"
    }
   ],
   "source": [
    "query = \"wales\"\n",
    "results = query_pipeline.run({\"fts_retriever\": {\"query\": query}})\n",
    "print(f\"Number of Results: {len(results['fts_retriever']['documents'])}\")\n",
    "results\n"
   ]
  },
  {
   "cell_type": "code",
   "execution_count": 11,
   "id": "76c64753-d3d3-4267-95f4-f7bc7386bfdf",
   "metadata": {
    "execution": {
     "iopub.execute_input": "2024-05-26T22:50:22.529977Z",
     "iopub.status.busy": "2024-05-26T22:50:22.529742Z",
     "iopub.status.idle": "2024-05-26T22:50:22.539812Z",
     "shell.execute_reply": "2024-05-26T22:50:22.539156Z",
     "shell.execute_reply.started": "2024-05-26T22:50:22.529961Z"
    }
   },
   "outputs": [
    {
     "name": "stdout",
     "output_type": "stream",
     "text": [
      "Number of Results: 1\n"
     ]
    },
    {
     "data": {
      "text/plain": [
       "{'fts_retriever': {'documents': [Document(id=50bd7da4a4ccf12d4532be79fee2874d1d8846d1bbde305908ffb6718cf35aaa, content: 'A man must appear somewhat vain, who declares that he has been obliged to reject much useful informa...', meta: {'author': 'Ralph Willet Adye', 'title': 'The Bombardier, and Pocket Gunner.', 'url': 'https://gutenberg.org/cache/epub/73283/pg73283-images.html'}, score: 0.7922531962394714, embedding: vector of size 384)]}}"
      ]
     },
     "execution_count": 11,
     "metadata": {},
     "output_type": "execute_result"
    }
   ],
   "source": [
    "query = \"vain\"\n",
    "results = query_pipeline.run({\"fts_retriever\": {\"query\": query}})\n",
    "print(f\"Number of Results: {len(results['fts_retriever']['documents'])}\")\n",
    "results"
   ]
  },
  {
   "cell_type": "code",
   "execution_count": 12,
   "id": "89b0b56c-564a-4c30-8b65-50eb3df07fed",
   "metadata": {
    "execution": {
     "iopub.execute_input": "2024-05-26T22:50:22.540870Z",
     "iopub.status.busy": "2024-05-26T22:50:22.540595Z",
     "iopub.status.idle": "2024-05-26T22:50:22.548971Z",
     "shell.execute_reply": "2024-05-26T22:50:22.548250Z",
     "shell.execute_reply.started": "2024-05-26T22:50:22.540849Z"
    }
   },
   "outputs": [
    {
     "data": {
      "text/plain": [
       "[Document(id=50bd7da4a4ccf12d4532be79fee2874d1d8846d1bbde305908ffb6718cf35aaa, content: 'A man must appear somewhat vain, who declares that he has been obliged to reject much useful informa...', meta: {'author': 'Ralph Willet Adye', 'title': 'The Bombardier, and Pocket Gunner.', 'url': 'https://gutenberg.org/cache/epub/73283/pg73283-images.html'}, embedding: vector of size 384),\n",
       " Document(id=5de0a36f2936e54b099798a464ebfa165fa07f19ff3bb24be84649175fed1050, content: '26th July, 1799.—Left H. H. this morning to make a tour into Wales and the west of England. Ld. H. w...', meta: {'author': 'Elizabeth Lady Holland', 'title': 'The journal of Elizabeth Lady Holland', 'url': 'https://gutenberg.org/cache/epub/73280/pg73280-images.html'}, embedding: vector of size 384)]"
      ]
     },
     "execution_count": 12,
     "metadata": {},
     "output_type": "execute_result"
    }
   ],
   "source": [
    "document_store.filter_documents()"
   ]
  },
  {
   "cell_type": "markdown",
   "id": "e0696768-0d23-4f35-8ef9-6bad081f9708",
   "metadata": {},
   "source": [
    "### Embedding"
   ]
  },
  {
   "cell_type": "code",
   "execution_count": 13,
   "id": "62ccae25-b5ee-4e37-8fed-2c100e4d948d",
   "metadata": {
    "execution": {
     "iopub.execute_input": "2024-05-26T22:50:22.549888Z",
     "iopub.status.busy": "2024-05-26T22:50:22.549641Z",
     "iopub.status.idle": "2024-05-26T22:50:22.552535Z",
     "shell.execute_reply": "2024-05-26T22:50:22.552049Z",
     "shell.execute_reply.started": "2024-05-26T22:50:22.549870Z"
    }
   },
   "outputs": [],
   "source": [
    "text_embedder = FastembedTextEmbedder()\n",
    "text_embedder.warm_up()"
   ]
  },
  {
   "cell_type": "code",
   "execution_count": 14,
   "id": "34f94fb2-4927-4f82-b224-fac3253c1530",
   "metadata": {
    "execution": {
     "iopub.execute_input": "2024-05-26T22:50:22.553268Z",
     "iopub.status.busy": "2024-05-26T22:50:22.553105Z",
     "iopub.status.idle": "2024-05-26T22:50:22.557022Z",
     "shell.execute_reply": "2024-05-26T22:50:22.556599Z",
     "shell.execute_reply.started": "2024-05-26T22:50:22.553252Z"
    }
   },
   "outputs": [
    {
     "data": {
      "text/plain": [
       "<haystack.core.pipeline.pipeline.Pipeline object at 0x7f63144ed450>\n",
       "🚅 Components\n",
       "  - text_embedder: FastembedTextEmbedder\n",
       "  - embedding_retriever: LanceDBEmbeddingRetriever\n",
       "🛤️ Connections\n",
       "  - text_embedder.embedding -> embedding_retriever.query_embedding (List[float])"
      ]
     },
     "execution_count": 14,
     "metadata": {},
     "output_type": "execute_result"
    }
   ],
   "source": [
    "query_pipeline2 = Pipeline()\n",
    "query_pipeline2.add_component(\"text_embedder\", text_embedder)\n",
    "query_pipeline2.add_component(\"embedding_retriever\", embedding_retriever)\n",
    "query_pipeline2.connect(\"text_embedder.embedding\", \"embedding_retriever\")"
   ]
  },
  {
   "cell_type": "code",
   "execution_count": 15,
   "id": "18d2c44e-4989-40bd-bce6-fb6b6b7b1c60",
   "metadata": {
    "execution": {
     "iopub.execute_input": "2024-05-26T22:50:22.557813Z",
     "iopub.status.busy": "2024-05-26T22:50:22.557634Z",
     "iopub.status.idle": "2024-05-26T22:50:22.596558Z",
     "shell.execute_reply": "2024-05-26T22:50:22.595994Z",
     "shell.execute_reply.started": "2024-05-26T22:50:22.557796Z"
    }
   },
   "outputs": [
    {
     "name": "stderr",
     "output_type": "stream",
     "text": [
      "Calculating embeddings: 100%|██████████████████████████████████████████████████████████████████████████████████████████████████████████████████████████████████████████████████████████████████████████████| 1/1 [00:00<00:00, 37.37it/s]"
     ]
    },
    {
     "name": "stdout",
     "output_type": "stream",
     "text": [
      "Number of Results: 2\n"
     ]
    },
    {
     "name": "stderr",
     "output_type": "stream",
     "text": [
      "\n"
     ]
    },
    {
     "data": {
      "text/plain": [
       "{'embedding_retriever': {'documents': [Document(id=5de0a36f2936e54b099798a464ebfa165fa07f19ff3bb24be84649175fed1050, content: '26th July, 1799.—Left H. H. this morning to make a tour into Wales and the west of England. Ld. H. w...', meta: {'author': 'Elizabeth Lady Holland', 'title': 'The journal of Elizabeth Lady Holland', 'url': 'https://gutenberg.org/cache/epub/73280/pg73280-images.html'}, score: 0.7192904353141785, embedding: vector of size 384),\n",
       "   Document(id=50bd7da4a4ccf12d4532be79fee2874d1d8846d1bbde305908ffb6718cf35aaa, content: 'A man must appear somewhat vain, who declares that he has been obliged to reject much useful informa...', meta: {'author': 'Ralph Willet Adye', 'title': 'The Bombardier, and Pocket Gunner.', 'url': 'https://gutenberg.org/cache/epub/73283/pg73283-images.html'}, score: 1.0694129467010498, embedding: vector of size 384)]}}"
      ]
     },
     "execution_count": 15,
     "metadata": {},
     "output_type": "execute_result"
    }
   ],
   "source": [
    "query = \"tour of the country\"\n",
    "results = query_pipeline2.run({\"text_embedder\": {\"text\": query}})\n",
    "print(f\"Number of Results: {len(results['embedding_retriever']['documents'])}\")\n",
    "results"
   ]
  },
  {
   "cell_type": "code",
   "execution_count": 16,
   "id": "b7b61617-af1f-43ea-a239-0aad5ce2cd4e",
   "metadata": {
    "execution": {
     "iopub.execute_input": "2024-05-26T22:50:22.597825Z",
     "iopub.status.busy": "2024-05-26T22:50:22.597332Z",
     "iopub.status.idle": "2024-05-26T22:50:22.641965Z",
     "shell.execute_reply": "2024-05-26T22:50:22.641334Z",
     "shell.execute_reply.started": "2024-05-26T22:50:22.597798Z"
    }
   },
   "outputs": [
    {
     "name": "stderr",
     "output_type": "stream",
     "text": [
      "Calculating embeddings: 100%|██████████████████████████████████████████████████████████████████████████████████████████████████████████████████████████████████████████████████████████████████████████████| 1/1 [00:00<00:00, 30.93it/s]"
     ]
    },
    {
     "name": "stdout",
     "output_type": "stream",
     "text": [
      "Number of Results: 1\n"
     ]
    },
    {
     "name": "stderr",
     "output_type": "stream",
     "text": [
      "\n"
     ]
    },
    {
     "data": {
      "text/plain": [
       "{'embedding_retriever': {'documents': [Document(id=50bd7da4a4ccf12d4532be79fee2874d1d8846d1bbde305908ffb6718cf35aaa, content: 'A man must appear somewhat vain, who declares that he has been obliged to reject much useful informa...', meta: {'author': 'Ralph Willet Adye', 'title': 'The Bombardier, and Pocket Gunner.', 'url': 'https://gutenberg.org/cache/epub/73283/pg73283-images.html'}, score: 0.739778459072113, embedding: vector of size 384)]}}"
      ]
     },
     "execution_count": 16,
     "metadata": {},
     "output_type": "execute_result"
    }
   ],
   "source": [
    "query = \"reject useful information\"\n",
    "results = query_pipeline2.run({\"text_embedder\": {\"text\": query}, \"embedding_retriever\": {\"top_k\": 1}})\n",
    "print(f\"Number of Results: {len(results['embedding_retriever']['documents'])}\")\n",
    "results"
   ]
  }
 ],
 "metadata": {
  "kernelspec": {
   "display_name": "Python 3 (ipykernel)",
   "language": "python",
   "name": "python3"
  },
  "language_info": {
   "codemirror_mode": {
    "name": "ipython",
    "version": 3
   },
   "file_extension": ".py",
   "mimetype": "text/x-python",
   "name": "python",
   "nbconvert_exporter": "python",
   "pygments_lexer": "ipython3",
   "version": "3.10.12"
  }
 },
 "nbformat": 4,
 "nbformat_minor": 5
}
