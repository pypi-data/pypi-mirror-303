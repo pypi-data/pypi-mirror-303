{
 "cells": [
  {
   "cell_type": "code",
   "execution_count": 6,
   "metadata": {},
   "outputs": [],
   "source": [
    "import threading\n",
    "import time"
   ]
  },
  {
   "cell_type": "code",
   "execution_count": 2,
   "metadata": {},
   "outputs": [
    {
     "name": "stdout",
     "output_type": "stream",
     "text": [
      "1: {}\n",
      "2: Hello, Very Happy World!\n",
      "3: Hello, Very Cautious World!\n",
      "4: {<bound method Greeter.greet of <__main__.Greeter object at 0x7f9bd154a9e0>>: {((<__main__.Greeter object at 0x7f9bd154a9e0>, 'Happy'), ()): 'Hello, Very Happy World!', ((<__main__.Greeter object at 0x7f9bd154a9e0>, 'Cautious'), ()): 'Hello, Very Cautious World!'}}\n",
      "5: {<bound method Greeter.greet of <__main__.Greeter object at 0x7f9bd154a9e0>>: {((<__main__.Greeter object at 0x7f9bd154a9e0>, 'Cautious'), ()): 'Hello, Very Cautious World!'}}\n",
      "6: {}\n"
     ]
    }
   ],
   "source": [
    "from memoiz import Memoiz\n",
    "\n",
    "# `cache` is a Python decorator and a callable.\n",
    "cache = Memoiz()\n",
    "\n",
    "\n",
    "class Greeter:\n",
    "\n",
    "    def __init__(self):\n",
    "        self.adv = \"Very\"\n",
    "\n",
    "    @cache # Use the `cache` decorator in order to add memoization capabilities to the `greet` method.\n",
    "    def greet(self, adj: str) -> str:\n",
    "        return f\"Hello, {self.adv} {adj} World!\"\n",
    "\n",
    "\n",
    "greeter = Greeter()\n",
    "\n",
    "print(\"1:\", cache._cache)\n",
    "\n",
    "greeting = greeter.greet(\"Happy\")\n",
    "\n",
    "print(\"2:\", greeting)\n",
    "\n",
    "greeting = greeter.greet(\"Cautious\")\n",
    "\n",
    "print(\"3:\", greeting)\n",
    "\n",
    "# The cache has memoized the two method calls.\n",
    "print(\"4:\", cache._cache)\n",
    "\n",
    "# Invalidate the call to `greeter.greet` with the \"Happy\" argument.\n",
    "#                               ⮶ instance\n",
    "cache.invalidate(greeter.greet, greeter, \"Happy\")\n",
    "#                         ⮴ method       ⮴ args\n",
    "\n",
    "print(\"5:\", cache._cache)\n",
    "\n",
    "# Invalidate the call to `greeter.greet` with the `Cautious` argument.\n",
    "cache.invalidate(greeter.greet, greeter, \"Cautious\")\n",
    "\n",
    "# The cache is empty.\n",
    "print(\"6:\", cache._cache)"
   ]
  },
  {
   "cell_type": "code",
   "execution_count": 3,
   "metadata": {},
   "outputs": [
    {
     "name": "stdout",
     "output_type": "stream",
     "text": [
      "1: {}\n",
      "2: Hello, Happy World!\n",
      "3: Hello, Cautious World!\n",
      "4: {<function greet at 0x7f9bb02de0e0>: {(('Happy',), ()): 'Hello, Happy World!', (('Cautious',), ()): 'Hello, Cautious World!'}}\n",
      "5: {<function greet at 0x7f9bb02de0e0>: {(('Cautious',), ()): 'Hello, Cautious World!'}}\n",
      "6: {}\n"
     ]
    }
   ],
   "source": [
    "from memoiz import Memoiz\n",
    "\n",
    "cache = Memoiz()\n",
    "\n",
    "\n",
    "@cache\n",
    "def greet(adj: str) -> str:\n",
    "    return f\"Hello, {adj} World!\"\n",
    "\n",
    "\n",
    "print(\"1:\", cache._cache)\n",
    "\n",
    "greeting = greet(\"Happy\")\n",
    "\n",
    "print(\"2:\", greeting)\n",
    "\n",
    "greeting = greet(\"Cautious\")\n",
    "\n",
    "print(\"3:\", greeting)\n",
    "\n",
    "print(\"4:\", cache._cache)\n",
    "\n",
    "#                       ⮶ args\n",
    "cache.invalidate(greet, \"Happy\")\n",
    "#                ⮴ function\n",
    "\n",
    "# The call using the \"Happy\" argument is deleted; however, the call using the \"Cautious\" is still present.\n",
    "print(\"5:\", cache._cache)\n",
    "\n",
    "#                       ⮶ args\n",
    "cache.invalidate(greet, \"Cautious\")\n",
    "#                ⮴ function\n",
    "\n",
    "# The cache is now empty.\n",
    "print(\"6:\", cache._cache)"
   ]
  },
  {
   "cell_type": "code",
   "execution_count": 4,
   "metadata": {},
   "outputs": [
    {
     "data": {
      "text/plain": [
       "''"
      ]
     },
     "execution_count": 4,
     "metadata": {},
     "output_type": "execute_result"
    }
   ],
   "source": [
    "from memoiz import Memoiz\n",
    "\n",
    "cache = Memoiz()\n",
    "\n",
    "\n",
    "@cache\n",
    "def callable2(value) -> str:\n",
    "    return \"\"\n",
    "\n",
    "@cache\n",
    "def callable1(value) -> str:\n",
    "    return callable2(\"\")\n",
    "\n",
    "callable1(\"\")"
   ]
  },
  {
   "cell_type": "code",
   "execution_count": 13,
   "metadata": {},
   "outputs": [
    {
     "name": "stdout",
     "output_type": "stream",
     "text": [
      "callable2\n"
     ]
    },
    {
     "name": "stdout",
     "output_type": "stream",
     "text": [
      "callable1\n"
     ]
    }
   ],
   "source": [
    "from typing import Any\n",
    "from memoiz import Memoiz\n",
    "\n",
    "cache = Memoiz()\n",
    "\n",
    "@cache\n",
    "def callable1(arg: Any) -> Any:\n",
    "    time.sleep(2)\n",
    "    print('callable1')\n",
    "    return arg\n",
    "\n",
    "@cache\n",
    "def callable2(arg: Any) -> Any:\n",
    "    print('callable2')\n",
    "    return arg\n",
    "\n",
    "t1 = threading.Thread(target=callable1, args=(1,))\n",
    "\n",
    "t1.start()\n",
    "\n",
    "t2 = threading.Thread(target=callable2, args=(1,))\n",
    "\n",
    "t2.start()"
   ]
  },
  {
   "cell_type": "code",
   "execution_count": null,
   "metadata": {},
   "outputs": [],
   "source": []
  }
 ],
 "metadata": {
  "kernelspec": {
   "display_name": "memoiz",
   "language": "python",
   "name": "python3"
  },
  "language_info": {
   "codemirror_mode": {
    "name": "ipython",
    "version": 3
   },
   "file_extension": ".py",
   "mimetype": "text/x-python",
   "name": "python",
   "nbconvert_exporter": "python",
   "pygments_lexer": "ipython3",
   "version": "3.10.15"
  },
  "orig_nbformat": 4
 },
 "nbformat": 4,
 "nbformat_minor": 2
}
