{
 "cells": [
  {
   "cell_type": "markdown",
   "metadata": {},
   "source": [
    "# Самостоятельная функция clickhouse_multiquery"
   ]
  },
  {
   "cell_type": "code",
   "execution_count": null,
   "metadata": {},
   "outputs": [],
   "source": [
    "from clickhttp import clickhouse_multiquery\n",
    "\n",
    "\n",
    "# Данная функция предназначена только для Apache Airflow и не предусматривает возврата DataFrame\n",
    "multiquery: str = \"\"\"{множественный_запрос_к_БД_Clickhouse}\"\"\"\n",
    "connection_id: str = \"{airflow_connection_id}\"\n",
    "clickhouse_multiquery(multiquery=multiquery, connection=connection_id,)"
   ]
  },
  {
   "cell_type": "markdown",
   "metadata": {},
   "source": [
    "# Класс ClickHttpSession"
   ]
  },
  {
   "cell_type": "markdown",
   "metadata": {},
   "source": [
    "## Начало работы"
   ]
  },
  {
   "cell_type": "markdown",
   "metadata": {},
   "source": [
    "### Логирование"
   ]
  },
  {
   "cell_type": "code",
   "execution_count": 1,
   "metadata": {},
   "outputs": [],
   "source": [
    "import logging\n",
    "\n",
    "\n",
    "# Логирование событий в консоль\n",
    "logging.basicConfig(level=logging.INFO)"
   ]
  },
  {
   "cell_type": "markdown",
   "metadata": {},
   "source": [
    "### Создание объекта UserConn для передачи параметров соединения"
   ]
  },
  {
   "cell_type": "code",
   "execution_count": 2,
   "metadata": {},
   "outputs": [],
   "source": [
    "from clickhttp import UserConn\n",
    "\n",
    "\n",
    "# Создание объекта вручную для локального тестирования\n",
    "conn = UserConn('user',       # Логин\n",
    "                'password',   # Пароль\n",
    "                'localhost',  # Адрес сервера\n",
    "                8123,         # Порт\n",
    "                'default',)   # Схема в БД"
   ]
  },
  {
   "cell_type": "code",
   "execution_count": null,
   "metadata": {},
   "outputs": [],
   "source": [
    "from clickhttp import get_conn, UserConn\n",
    "\n",
    "\n",
    "# Создание объекта из Airflow Connection ID\n",
    "conn: UserConn = get_conn('connection_id')"
   ]
  },
  {
   "cell_type": "markdown",
   "metadata": {},
   "source": [
    "### Инициализация класса ClickHttpSession"
   ]
  },
  {
   "cell_type": "code",
   "execution_count": 4,
   "metadata": {},
   "outputs": [
    {
     "name": "stderr",
     "output_type": "stream",
     "text": [
      "INFO:root:\n",
      "---------------------------------------------------------------------------------------------\n",
      "| Clickhouse Multi-Query session started. Session ID: 4a9adf30-3a26-48fd-8b36-8d955c0f3c95. |\n",
      "---------------------------------------------------------------------------------------------\n"
     ]
    },
    {
     "name": "stdout",
     "output_type": "stream",
     "text": [
      "ClickHttpSession object.\n",
      "Status:      Open\n",
      "Session ID:  4a9adf30-3a26-48fd-8b36-8d955c0f3c95\n",
      "Server Mode: Compressed\n"
     ]
    }
   ],
   "source": [
    "from clickhttp import ClickHttpSession, FrameType\n",
    "\n",
    "\n",
    "sess = ClickHttpSession(connection=conn,              # Объект UserConn. Единственный обязательный параметр для инициализации класса\n",
    "                        frame_type=FrameType.pandas,  # Предпочитаемый тип датафрейм, по умолчанию pandas\n",
    "                        chunk_size=52_428_800,        # Максимальный размер передаваемого пакета в байтах для метода insert_frame. По умолчанию 50 МБ\n",
    "                        is_compressed=True,           # Работа сервера в режиме сжатия. По умолчанию True\n",
    "                        proxy=None,                   # Адрес прокси-сервер. По умолчанию отсутствует\n",
    "                        timeout=None,)                # Время ожидания ответа от сервера. По умолчанию отключен\n",
    "\n",
    "print(sess)  # Проверка состояния сессии"
   ]
  },
  {
   "cell_type": "markdown",
   "metadata": {},
   "source": [
    "### В случае необходимости можно отключить или включить сжатие пакетов после инициализации класса"
   ]
  },
  {
   "cell_type": "code",
   "execution_count": 8,
   "metadata": {},
   "outputs": [
    {
     "name": "stderr",
     "output_type": "stream",
     "text": [
      "INFO:root:\n",
      "--------------------------------------------------------------\n",
      "| Clickhouse Multi-Query session mode changed to Compressed. |\n",
      "--------------------------------------------------------------\n"
     ]
    }
   ],
   "source": [
    "sess.change_mode  # Данный статический метод меняет состояние режима сжатие/без сжатия"
   ]
  },
  {
   "cell_type": "markdown",
   "metadata": {},
   "source": [
    "### Статический метод output_format выведет в консоль выбранный тип Датафрейм для чтения данных с сервера"
   ]
  },
  {
   "cell_type": "code",
   "execution_count": 6,
   "metadata": {},
   "outputs": [
    {
     "data": {
      "text/plain": [
       "'pandas'"
      ]
     },
     "execution_count": 6,
     "metadata": {},
     "output_type": "execute_result"
    }
   ],
   "source": [
    "sess.output_format  # текущий тип pandas"
   ]
  },
  {
   "cell_type": "code",
   "execution_count": 5,
   "metadata": {},
   "outputs": [
    {
     "data": {
      "text/plain": [
       "'polars'"
      ]
     },
     "execution_count": 5,
     "metadata": {},
     "output_type": "execute_result"
    }
   ],
   "source": [
    "\n",
    "sess.frame_type = FrameType.polars  # изменить тип на polars.DataFrame\n",
    "sess.output_format  # текущий тип polars"
   ]
  },
  {
   "cell_type": "markdown",
   "metadata": {},
   "source": [
    "### Открытие и закрытие сессии"
   ]
  },
  {
   "cell_type": "markdown",
   "metadata": {},
   "source": [
    "#### При работе с контекстным менеджером with при завершении работы сессия будет открывать и закрываться автоматически.\n",
    "\n",
    "#### Закрытие сессии вручную осучествляется через метод close(), открытие новой сессии осуществляется через метод reopen()"
   ]
  },
  {
   "cell_type": "code",
   "execution_count": 8,
   "metadata": {},
   "outputs": [
    {
     "name": "stderr",
     "output_type": "stream",
     "text": [
      "INFO:root:\n",
      "------------------------------------------\n",
      "| Clickhouse Multi-Query session closed. |\n",
      "------------------------------------------\n",
      "INFO:root:\n",
      "-------------------------------------------------------------------------------------------------\n",
      "| New Clickhouse Multi-Query session started. Session ID: 774a247c-493d-4a42-bdba-84ade0df27a9. |\n",
      "-------------------------------------------------------------------------------------------------\n"
     ]
    }
   ],
   "source": [
    "sess.close()  # Закрытие сессии\n",
    "\n",
    "sess.reopen()  # Открытие новой сессии"
   ]
  },
  {
   "cell_type": "markdown",
   "metadata": {},
   "source": [
    "### Установка прокси-сервера после инициализации класса"
   ]
  },
  {
   "cell_type": "code",
   "execution_count": 9,
   "metadata": {},
   "outputs": [
    {
     "name": "stderr",
     "output_type": "stream",
     "text": [
      "INFO:root:\n",
      "-----------------------------------------------------------------------------\n",
      "| ClickHttpSession change proxy settings with proxy 'http://localhost:431'. |\n",
      "-----------------------------------------------------------------------------\n",
      "INFO:root:\n",
      "------------------------------------------\n",
      "| ClickHttpSession proxy settings clear. |\n",
      "------------------------------------------\n"
     ]
    }
   ],
   "source": [
    "# Для установки соединения через прокси необходимо передать строкой адрес прокси-сервера\n",
    "# в метод set_proxy в формате <адрес прокси-сервера>:<порт>\n",
    "# проксирование применится для http и https протоколов\n",
    "sess.set_proxy('http://localhost:431')\n",
    "\n",
    "# Для удаления проксирования необходимо вызвать метод set_proxy без передачи аргумента\n",
    "sess.set_proxy()"
   ]
  },
  {
   "cell_type": "markdown",
   "metadata": {},
   "source": [
    "### Отправка команды на сервер"
   ]
  },
  {
   "cell_type": "code",
   "execution_count": null,
   "metadata": {},
   "outputs": [],
   "source": [
    "# Для отправки команды на сервер, не предполагающей возврата DataFrame добавлен метод exetute\n",
    "command: str = \"TRUNCATE TABLE {table_name}\"  # Указано в качестве примера\n",
    "sess.execute(command)  # Данный метод ничего не возвращает"
   ]
  },
  {
   "cell_type": "markdown",
   "metadata": {},
   "source": [
    "### Чтение DataFrame"
   ]
  },
  {
   "cell_type": "code",
   "execution_count": 6,
   "metadata": {},
   "outputs": [
    {
     "name": "stdout",
     "output_type": "stream",
     "text": [
      "shape: (1, 9)\n",
      "┌───────────┬───────────┬───────────┬───────────┬───┬───────────┬───────────┬───────────┬──────────┐\n",
      "│ test_date ┆ test_date ┆ test_time ┆ test_tsut ┆ … ┆ test_floa ┆ test_bool ┆ test_arra ┆ test_arr │\n",
      "│ ---       ┆ time      ┆ stamp     ┆ c         ┆   ┆ t         ┆ ---       ┆ yint      ┆ aystr    │\n",
      "│ date      ┆ ---       ┆ ---       ┆ ---       ┆   ┆ ---       ┆ bool      ┆ ---       ┆ ---      │\n",
      "│           ┆ datetime[ ┆ datetime[ ┆ datetime[ ┆   ┆ i64       ┆           ┆ list[i64] ┆ list[str │\n",
      "│           ┆ μs]       ┆ μs]       ┆ μs]       ┆   ┆           ┆           ┆           ┆ ]        │\n",
      "╞═══════════╪═══════════╪═══════════╪═══════════╪═══╪═══════════╪═══════════╪═══════════╪══════════╡\n",
      "│ 2024-08-2 ┆ 2024-08-2 ┆ 2024-08-2 ┆ 2024-08-2 ┆ … ┆ 1         ┆ false     ┆ [1, 2, 3] ┆ [\"one\",  │\n",
      "│ 6         ┆ 6         ┆ 6         ┆ 6         ┆   ┆           ┆           ┆           ┆ \"two\",   │\n",
      "│           ┆ 06:44:58  ┆ 06:44:58  ┆ 06:44:58  ┆   ┆           ┆           ┆           ┆ \"three\"] │\n",
      "└───────────┴───────────┴───────────┴───────────┴───┴───────────┴───────────┴───────────┴──────────┘\n"
     ]
    }
   ],
   "source": [
    "# В качестве примера получим из базы Clickhouse вывод простых данных, не требующих запроса к таблицам в виде polars.DataFrame\n",
    "query: str = \"\"\"select\n",
    "    today()                     as test_date\n",
    "  , now()                       as test_datetime\n",
    "  , toDateTime(now()\n",
    "             , 'Europe/Moscow') as test_timestamp\n",
    "  , toDateTime(now()\n",
    "             , 'UTC')           as test_tsutc\n",
    "  , 1                           as test_int\n",
    "  , 1.0                         as test_float\n",
    "  , false                       as test_bool\n",
    "  , array(1\n",
    "        , 2\n",
    "        , 3)                    as test_arrayint\n",
    "  , array('one'\n",
    "        , 'two'\n",
    "        , 'three')              as test_arraystr\n",
    "\"\"\"\n",
    "\n",
    "df = sess.read_frame(query)\n",
    "\n",
    "print(df.data)"
   ]
  },
  {
   "cell_type": "markdown",
   "metadata": {},
   "source": [
    "### Структура объекта Frame"
   ]
  },
  {
   "cell_type": "code",
   "execution_count": 7,
   "metadata": {},
   "outputs": [
    {
     "name": "stdout",
     "output_type": "stream",
     "text": [
      "['test_date', 'test_datetime', 'test_timestamp', 'test_tsutc', 'test_int', 'test_float', 'test_bool', 'test_arrayint', 'test_arraystr']\n",
      "['Date', 'DateTime', \"DateTime('Europe/Moscow')\", \"DateTime('UTC')\", 'UInt8', 'Float64', 'Bool', 'Array(UInt8)', 'Array(String)']\n",
      "0.001652217\n",
      "1\n"
     ]
    },
    {
     "data": {
      "text/html": [
       "<div><style>\n",
       ".dataframe > thead > tr,\n",
       ".dataframe > tbody > tr {\n",
       "  text-align: right;\n",
       "  white-space: pre-wrap;\n",
       "}\n",
       "</style>\n",
       "<small>shape: (1, 9)</small><table border=\"1\" class=\"dataframe\"><thead><tr><th>test_date</th><th>test_datetime</th><th>test_timestamp</th><th>test_tsutc</th><th>test_int</th><th>test_float</th><th>test_bool</th><th>test_arrayint</th><th>test_arraystr</th></tr><tr><td>date</td><td>datetime[μs]</td><td>datetime[μs]</td><td>datetime[μs]</td><td>i64</td><td>i64</td><td>bool</td><td>list[i64]</td><td>list[str]</td></tr></thead><tbody><tr><td>2024-08-26</td><td>2024-08-26 06:44:58</td><td>2024-08-26 06:44:58</td><td>2024-08-26 06:44:58</td><td>1</td><td>1</td><td>false</td><td>[1, 2, 3]</td><td>[&quot;one&quot;, &quot;two&quot;, &quot;three&quot;]</td></tr></tbody></table></div>"
      ],
      "text/plain": [
       "shape: (1, 9)\n",
       "┌───────────┬───────────┬───────────┬───────────┬───┬───────────┬───────────┬───────────┬──────────┐\n",
       "│ test_date ┆ test_date ┆ test_time ┆ test_tsut ┆ … ┆ test_floa ┆ test_bool ┆ test_arra ┆ test_arr │\n",
       "│ ---       ┆ time      ┆ stamp     ┆ c         ┆   ┆ t         ┆ ---       ┆ yint      ┆ aystr    │\n",
       "│ date      ┆ ---       ┆ ---       ┆ ---       ┆   ┆ ---       ┆ bool      ┆ ---       ┆ ---      │\n",
       "│           ┆ datetime[ ┆ datetime[ ┆ datetime[ ┆   ┆ i64       ┆           ┆ list[i64] ┆ list[str │\n",
       "│           ┆ μs]       ┆ μs]       ┆ μs]       ┆   ┆           ┆           ┆           ┆ ]        │\n",
       "╞═══════════╪═══════════╪═══════════╪═══════════╪═══╪═══════════╪═══════════╪═══════════╪══════════╡\n",
       "│ 2024-08-2 ┆ 2024-08-2 ┆ 2024-08-2 ┆ 2024-08-2 ┆ … ┆ 1         ┆ false     ┆ [1, 2, 3] ┆ [\"one\",  │\n",
       "│ 6         ┆ 6         ┆ 6         ┆ 6         ┆   ┆           ┆           ┆           ┆ \"two\",   │\n",
       "│           ┆ 06:44:58  ┆ 06:44:58  ┆ 06:44:58  ┆   ┆           ┆           ┆           ┆ \"three\"] │\n",
       "└───────────┴───────────┴───────────┴───────────┴───┴───────────┴───────────┴───────────┴──────────┘"
      ]
     },
     "execution_count": 7,
     "metadata": {},
     "output_type": "execute_result"
    }
   ],
   "source": [
    "# Ранее полученный нами объект df кроме самого датафрейм содержит дополнительную полезную информацию\n",
    "print(df.columns)     # Список колонок\n",
    "print(df.types)       # Список оригинальных типов данных\n",
    "print(df.time_read)   # Время, затраченное сервером на отправку данных\n",
    "print(df.bytes_read)  # Количество байт, переданных сервером (данные передает сам сервер, сложно сказать как именно он их считает)\n",
    "df.data               # сам датафрейм"
   ]
  },
  {
   "cell_type": "markdown",
   "metadata": {},
   "source": [
    "### Метод temp_query для автоматического создания временной таблицы из запроса"
   ]
  },
  {
   "cell_type": "code",
   "execution_count": 8,
   "metadata": {},
   "outputs": [
    {
     "name": "stderr",
     "output_type": "stream",
     "text": [
      "INFO:root:\n",
      "---------------------------------------\n",
      "| Get names and data types from query |\n",
      "---------------------------------------\n",
      "INFO:root:\n",
      "----------------------------------------------------------\n",
      "| Generate DDL for temporary table temp_141ac3cf966d8116 |\n",
      "----------------------------------------------------------\n",
      "INFO:root:\n",
      "--------------------------------------------------\n",
      "| Temporary table temp_141ac3cf966d8116 created. |\n",
      "--------------------------------------------------\n"
     ]
    },
    {
     "name": "stdout",
     "output_type": "stream",
     "text": [
      "shape: (1, 9)\n",
      "┌───────────┬───────────┬───────────┬───────────┬───┬───────────┬───────────┬───────────┬──────────┐\n",
      "│ test_date ┆ test_date ┆ test_time ┆ test_tsut ┆ … ┆ test_floa ┆ test_bool ┆ test_arra ┆ test_arr │\n",
      "│ ---       ┆ time      ┆ stamp     ┆ c         ┆   ┆ t         ┆ ---       ┆ yint      ┆ aystr    │\n",
      "│ date      ┆ ---       ┆ ---       ┆ ---       ┆   ┆ ---       ┆ bool      ┆ ---       ┆ ---      │\n",
      "│           ┆ datetime[ ┆ datetime[ ┆ datetime[ ┆   ┆ i64       ┆           ┆ list[i64] ┆ list[str │\n",
      "│           ┆ μs]       ┆ μs]       ┆ μs]       ┆   ┆           ┆           ┆           ┆ ]        │\n",
      "╞═══════════╪═══════════╪═══════════╪═══════════╪═══╪═══════════╪═══════════╪═══════════╪══════════╡\n",
      "│ 2024-08-2 ┆ 2024-08-2 ┆ 2024-08-2 ┆ 2024-08-2 ┆ … ┆ 1         ┆ false     ┆ [1, 2, 3] ┆ [\"one\",  │\n",
      "│ 6         ┆ 6         ┆ 6         ┆ 6         ┆   ┆           ┆           ┆           ┆ \"two\",   │\n",
      "│           ┆ 06:45:15  ┆ 06:45:15  ┆ 06:45:15  ┆   ┆           ┆           ┆           ┆ \"three\"] │\n",
      "└───────────┴───────────┴───────────┴───────────┴───┴───────────┴───────────┴───────────┴──────────┘\n"
     ]
    }
   ],
   "source": [
    "# В качестве примера используем предыдущий запрос\n",
    "\n",
    "temp_table: str = sess.temp_query(query)  # автоматическое создание временной таблицы с данными из запроса и возврат ее названия\n",
    "\n",
    "temp_data = sess.read_frame(f\"select * from {temp_table}\").data  # обращение к ранее созданной временной таблице для получения датафрейма\n",
    "\n",
    "print(temp_data)"
   ]
  },
  {
   "cell_type": "markdown",
   "metadata": {},
   "source": [
    "### Метод send_multiquery для выполнения множественного запроса к базе\n",
    "\n",
    "#### Данный метод является основной причиной создания данного класса. В качестве параметра передается строка с множественными запросами, после выполнения всех шагов метод вернет результат последнего запроса как DataFrame"
   ]
  },
  {
   "cell_type": "code",
   "execution_count": 9,
   "metadata": {},
   "outputs": [
    {
     "name": "stderr",
     "output_type": "stream",
     "text": [
      "INFO:root:\n",
      "-------------------\n",
      "| Part 1 started. |\n",
      "-------------------\n",
      "INFO:root:\n",
      "-------------------\n",
      "| Part 1 success. |\n",
      "-------------------\n",
      "INFO:root:\n",
      "-------------------\n",
      "| Part 2 started. |\n",
      "-------------------\n",
      "INFO:root:\n",
      "-------------------\n",
      "| Part 2 success. |\n",
      "-------------------\n",
      "INFO:root:\n",
      "-------------------\n",
      "| Part 3 started. |\n",
      "-------------------\n",
      "INFO:root:\n",
      "-----------------------------\n",
      "| Part 3 success. All done. |\n",
      "-----------------------------\n"
     ]
    },
    {
     "data": {
      "text/html": [
       "<div><style>\n",
       ".dataframe > thead > tr,\n",
       ".dataframe > tbody > tr {\n",
       "  text-align: right;\n",
       "  white-space: pre-wrap;\n",
       "}\n",
       "</style>\n",
       "<small>shape: (1, 9)</small><table border=\"1\" class=\"dataframe\"><thead><tr><th>test_date</th><th>test_datetime</th><th>test_timestamp</th><th>test_tsutc</th><th>test_int</th><th>test_float</th><th>test_bool</th><th>test_arrayint</th><th>test_arraystr</th></tr><tr><td>date</td><td>datetime[μs]</td><td>datetime[μs]</td><td>datetime[μs]</td><td>i64</td><td>i64</td><td>bool</td><td>list[i64]</td><td>list[str]</td></tr></thead><tbody><tr><td>2024-08-26</td><td>2024-08-26 06:45:19</td><td>2024-08-26 06:45:19</td><td>2024-08-26 06:45:19</td><td>1</td><td>1</td><td>false</td><td>[1, 2, 3]</td><td>[&quot;one&quot;, &quot;two&quot;, &quot;three&quot;]</td></tr></tbody></table></div>"
      ],
      "text/plain": [
       "shape: (1, 9)\n",
       "┌───────────┬───────────┬───────────┬───────────┬───┬───────────┬───────────┬───────────┬──────────┐\n",
       "│ test_date ┆ test_date ┆ test_time ┆ test_tsut ┆ … ┆ test_floa ┆ test_bool ┆ test_arra ┆ test_arr │\n",
       "│ ---       ┆ time      ┆ stamp     ┆ c         ┆   ┆ t         ┆ ---       ┆ yint      ┆ aystr    │\n",
       "│ date      ┆ ---       ┆ ---       ┆ ---       ┆   ┆ ---       ┆ bool      ┆ ---       ┆ ---      │\n",
       "│           ┆ datetime[ ┆ datetime[ ┆ datetime[ ┆   ┆ i64       ┆           ┆ list[i64] ┆ list[str │\n",
       "│           ┆ μs]       ┆ μs]       ┆ μs]       ┆   ┆           ┆           ┆           ┆ ]        │\n",
       "╞═══════════╪═══════════╪═══════════╪═══════════╪═══╪═══════════╪═══════════╪═══════════╪══════════╡\n",
       "│ 2024-08-2 ┆ 2024-08-2 ┆ 2024-08-2 ┆ 2024-08-2 ┆ … ┆ 1         ┆ false     ┆ [1, 2, 3] ┆ [\"one\",  │\n",
       "│ 6         ┆ 6         ┆ 6         ┆ 6         ┆   ┆           ┆           ┆           ┆ \"two\",   │\n",
       "│           ┆ 06:45:19  ┆ 06:45:19  ┆ 06:45:19  ┆   ┆           ┆           ┆           ┆ \"three\"] │\n",
       "└───────────┴───────────┴───────────┴───────────┴───┴───────────┴───────────┴───────────┴──────────┘"
      ]
     },
     "execution_count": 9,
     "metadata": {},
     "output_type": "execute_result"
    }
   ],
   "source": [
    "# В качестве примера создадим множественный запрос с созданием временной таблицы на основе query и вернем результирующий датафрейм\n",
    "multiquery: str = f\"\"\"\n",
    "select 1; -- для проверки что запрос не будет возвращать результат из этого действия\n",
    "CREATE TEMPORARY TABLE IF NOT EXISTS test_temp_table\n",
    "(\n",
    "test_date Date,\n",
    "test_datetime DateTime,\n",
    "test_timestamp DateTime('Europe/Moscow'),\n",
    "test_tsutc DateTime('UTC'),\n",
    "test_int UInt8,\n",
    "test_float Float64,\n",
    "test_bool Bool,\n",
    "test_arrayint Array(UInt8),\n",
    "test_arraystr Array(String)\n",
    ")\n",
    "ENGINE = MergeTree\n",
    "ORDER BY test_date\n",
    "AS\n",
    "{query};\n",
    "select * from test_temp_table;\n",
    "\"\"\"\n",
    "# print(multiquery.rstrip().rstrip(\";\").split(\";\"))\n",
    "multiframe = sess.send_multiquery(multiquery).data\n",
    "\n",
    "multiframe"
   ]
  },
  {
   "cell_type": "markdown",
   "metadata": {},
   "source": [
    "### Метод insert_table для записи данных из DataFrame в таблицу"
   ]
  },
  {
   "cell_type": "code",
   "execution_count": 10,
   "metadata": {},
   "outputs": [
    {
     "name": "stderr",
     "output_type": "stream",
     "text": [
      "INFO:root:\n",
      "--------------------------------------------\n",
      "| Sending chunk with 1—1 rows from 1 rows. |\n",
      "--------------------------------------------\n",
      "INFO:root:\n",
      "-------------------------\n",
      "| Insert chunk success. |\n",
      "-------------------------\n",
      "INFO:root:\n",
      "-----------------------------\n",
      "| Insert operation success. |\n",
      "-----------------------------\n",
      "INFO:root:\n",
      "-----------------\n",
      "| Command send. |\n",
      "-----------------\n"
     ]
    },
    {
     "name": "stdout",
     "output_type": "stream",
     "text": [
      "shape: (1, 9)\n",
      "┌───────────┬───────────┬───────────┬───────────┬───┬───────────┬───────────┬───────────┬──────────┐\n",
      "│ test_date ┆ test_date ┆ test_time ┆ test_tsut ┆ … ┆ test_floa ┆ test_bool ┆ test_arra ┆ test_arr │\n",
      "│ ---       ┆ time      ┆ stamp     ┆ c         ┆   ┆ t         ┆ ---       ┆ yint      ┆ aystr    │\n",
      "│ date      ┆ ---       ┆ ---       ┆ ---       ┆   ┆ ---       ┆ bool      ┆ ---       ┆ ---      │\n",
      "│           ┆ datetime[ ┆ datetime[ ┆ datetime[ ┆   ┆ i64       ┆           ┆ list[i64] ┆ list[str │\n",
      "│           ┆ μs]       ┆ μs]       ┆ μs]       ┆   ┆           ┆           ┆           ┆ ]        │\n",
      "╞═══════════╪═══════════╪═══════════╪═══════════╪═══╪═══════════╪═══════════╪═══════════╪══════════╡\n",
      "│ 2024-08-2 ┆ 2024-08-2 ┆ 2024-08-2 ┆ 2024-08-2 ┆ … ┆ 1         ┆ false     ┆ [1, 2, 3] ┆ [\"one\",  │\n",
      "│ 6         ┆ 5         ┆ 5         ┆ 5         ┆   ┆           ┆           ┆           ┆ \"two\",   │\n",
      "│           ┆ 20:45:19  ┆ 17:45:19  ┆ 20:45:19  ┆   ┆           ┆           ┆           ┆ \"three\"] │\n",
      "└───────────┴───────────┴───────────┴───────────┴───┴───────────┴───────────┴───────────┴──────────┘\n"
     ]
    }
   ],
   "source": [
    "# Данный метод работает с любым поддерживаемым типом DataFrame.\n",
    "# Метод принимает два обязательных аргумента table - название целевой таблицы, data_frame - датафрейм с данными в одном из поддерживаемых форматов.\n",
    "# Так же в методе присутствует один не обязательный аргумент use_columns - булево, по умолчанию True.\n",
    "# При True в таблицу будет передан порядок и название колонок из DataFrame. Напоминаю, что фреймы в форматах python(вложенный список) и numpy не содержат имена колонок.\n",
    "# При записи данных из фрейма будут формироваться строки, размер одного пакета для отправки не превышает sess.chunk_size, заданный в атрибуте класса.\n",
    "# При включенной компрессии каждый пакет после формирования будет сжат в gzip и передан на сервер в более компактном размере.\n",
    "\n",
    "# В качестве примера создадим таблицу базе и запишем в нее данные из multiframe\n",
    "table: str = \"default.test_table\"\n",
    "ddl: str = f\"\"\"CREATE TABLE IF NOT EXISTS {table}\n",
    "(\n",
    "test_date Date,\n",
    "test_datetime DateTime,\n",
    "test_timestamp DateTime('Europe/Moscow'),\n",
    "test_tsutc DateTime('UTC'),\n",
    "test_int UInt8,\n",
    "test_float Float64,\n",
    "test_bool Bool,\n",
    "test_arrayint Array(UInt8),\n",
    "test_arraystr Array(String)\n",
    ")\n",
    "ENGINE = MergeTree\n",
    "ORDER BY test_date\"\"\"\n",
    "\n",
    "sess.read_frame(ddl)  # создадим таблицу\n",
    "\n",
    "sess.insert_table(table=table, data_frame=multiframe,)  # выполним вставку данных\n",
    "\n",
    "print(sess.read_frame(f\"select * from {table}\").data)  # заберем назад фрейм с данными\n",
    "\n",
    "sess.execute(f\"drop table {table}\")  # удалим таблицу из базы"
   ]
  }
 ],
 "metadata": {
  "kernelspec": {
   "display_name": "Python 3",
   "language": "python",
   "name": "python3"
  },
  "language_info": {
   "codemirror_mode": {
    "name": "ipython",
    "version": 3
   },
   "file_extension": ".py",
   "mimetype": "text/x-python",
   "name": "python",
   "nbconvert_exporter": "python",
   "pygments_lexer": "ipython3",
   "version": "3.10.11"
  }
 },
 "nbformat": 4,
 "nbformat_minor": 2
}
