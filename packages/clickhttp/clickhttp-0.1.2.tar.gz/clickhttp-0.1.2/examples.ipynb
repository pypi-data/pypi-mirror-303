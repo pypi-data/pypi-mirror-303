{
 "cells": [
  {
   "cell_type": "markdown",
   "metadata": {},
   "source": [
    "# Standalone function clickhouse_multiquery"
   ]
  },
  {
   "cell_type": "code",
   "execution_count": null,
   "metadata": {},
   "outputs": [],
   "source": [
    "from clickhttp import clickhouse_multiquery\n",
    "\n",
    "\n",
    "# This function is specific to Apache Airflow and doesn't return DataFrame.\n",
    "multiquery: str = \"\"\"{Clickhouse_multiquery_string}\"\"\"\n",
    "connection_id: str = \"{airflow_connection_id}\"\n",
    "clickhouse_multiquery(multiquery=multiquery, connection=connection_id,)"
   ]
  },
  {
   "cell_type": "markdown",
   "metadata": {},
   "source": [
    "# Class ClickHttpSession"
   ]
  },
  {
   "cell_type": "markdown",
   "metadata": {},
   "source": [
    "## Getting Started"
   ]
  },
  {
   "cell_type": "markdown",
   "metadata": {},
   "source": [
    "### Enable logging"
   ]
  },
  {
   "cell_type": "code",
   "execution_count": 1,
   "metadata": {},
   "outputs": [],
   "source": [
    "import logging\n",
    "\n",
    "\n",
    "# Logging events to console\n",
    "logging.basicConfig(level=logging.INFO)"
   ]
  },
  {
   "cell_type": "markdown",
   "metadata": {},
   "source": [
    "### Creating UserConn object to provide connection parameters"
   ]
  },
  {
   "cell_type": "code",
   "execution_count": 2,
   "metadata": {},
   "outputs": [],
   "source": [
    "from clickhttp import UserConn\n",
    "\n",
    "\n",
    "# Create connection object manually for local tests\n",
    "conn = UserConn('user',       # Login\n",
    "                'password',   # Passowrd\n",
    "                'localhost',  # Address\n",
    "                8123,         # Port\n",
    "                'default',)   # Schema"
   ]
  },
  {
   "cell_type": "code",
   "execution_count": null,
   "metadata": {},
   "outputs": [],
   "source": [
    "from clickhttp import get_conn, UserConn\n",
    "\n",
    "\n",
    "# Create connection from Airflow Connection ID\n",
    "conn: UserConn = get_conn('connection_id')"
   ]
  },
  {
   "cell_type": "markdown",
   "metadata": {},
   "source": [
    "### ClickHttpSession class initializing"
   ]
  },
  {
   "cell_type": "code",
   "execution_count": 4,
   "metadata": {},
   "outputs": [
    {
     "name": "stderr",
     "output_type": "stream",
     "text": [
      "INFO:root:\n",
      "---------------------------------------------------------------------------------------------\n",
      "| Clickhouse Multi-Query session started. Session ID: 4a9adf30-3a26-48fd-8b36-8d955c0f3c95. |\n",
      "---------------------------------------------------------------------------------------------\n"
     ]
    },
    {
     "name": "stdout",
     "output_type": "stream",
     "text": [
      "ClickHttpSession object.\n",
      "Status:      Open\n",
      "Session ID:  4a9adf30-3a26-48fd-8b36-8d955c0f3c95\n",
      "Server Mode: Compressed\n"
     ]
    }
   ],
   "source": [
    "from clickhttp import ClickHttpSession, FrameType\n",
    "\n",
    "\n",
    "sess = ClickHttpSession(connection=conn,              # UserConn object. The only mandatory parameter for class initialization\n",
    "                        frame_type=FrameType.pandas,  # Preferred DataFrame type, default is pandas\n",
    "                        chunk_size=52_428_800,        # Maximum size of the transmitted packet in bytes for the insert_frame method. Default is 50 MB\n",
    "                        is_compressed=True,           # Server operation in compression mode. Default is True\n",
    "                        proxy=None,                   # Proxy server address. Default is absent\n",
    "                        timeout=None,)                # Time to wait for a response from the server. Default is disabled\n",
    "\n",
    "print(sess)  # Check the session status"
   ]
  },
  {
   "cell_type": "markdown",
   "metadata": {},
   "source": [
    "### If necessary, you can enable or disable packet compression after the class has been initialized"
   ]
  },
  {
   "cell_type": "code",
   "execution_count": 8,
   "metadata": {},
   "outputs": [
    {
     "name": "stderr",
     "output_type": "stream",
     "text": [
      "INFO:root:\n",
      "--------------------------------------------------------------\n",
      "| Clickhouse Multi-Query session mode changed to Compressed. |\n",
      "--------------------------------------------------------------\n"
     ]
    }
   ],
   "source": [
    "sess.change_mode  # This static method changes the state of the compression/no compression mode"
   ]
  },
  {
   "cell_type": "markdown",
   "metadata": {},
   "source": [
    "### The static method output_format will print the selected DataFrame type for reading data from the server to the console"
   ]
  },
  {
   "cell_type": "code",
   "execution_count": 6,
   "metadata": {},
   "outputs": [
    {
     "data": {
      "text/plain": [
       "'pandas'"
      ]
     },
     "execution_count": 6,
     "metadata": {},
     "output_type": "execute_result"
    }
   ],
   "source": [
    "sess.output_format  # current type is pandas"
   ]
  },
  {
   "cell_type": "code",
   "execution_count": 5,
   "metadata": {},
   "outputs": [
    {
     "data": {
      "text/plain": [
       "'polars'"
      ]
     },
     "execution_count": 5,
     "metadata": {},
     "output_type": "execute_result"
    }
   ],
   "source": [
    "\n",
    "sess.frame_type = FrameType.polars  # change type to polars.DataFrame\n",
    "sess.output_format  # current type is polars"
   ]
  },
  {
   "cell_type": "markdown",
   "metadata": {},
   "source": [
    "### Opening and Closing a Session"
   ]
  },
  {
   "cell_type": "markdown",
   "metadata": {},
   "source": [
    "#### When using the context manager with, the session will be opened and closed automatically upon completion.\n",
    "\n",
    "#### Closing the session manually is done through the close() method, while opening a new session is accomplished using the reopen() method"
   ]
  },
  {
   "cell_type": "code",
   "execution_count": 8,
   "metadata": {},
   "outputs": [
    {
     "name": "stderr",
     "output_type": "stream",
     "text": [
      "INFO:root:\n",
      "------------------------------------------\n",
      "| Clickhouse Multi-Query session closed. |\n",
      "------------------------------------------\n",
      "INFO:root:\n",
      "-------------------------------------------------------------------------------------------------\n",
      "| New Clickhouse Multi-Query session started. Session ID: 774a247c-493d-4a42-bdba-84ade0df27a9. |\n",
      "-------------------------------------------------------------------------------------------------\n"
     ]
    }
   ],
   "source": [
    "sess.close()   # Closing session\n",
    "\n",
    "sess.reopen()  # Open new session"
   ]
  },
  {
   "cell_type": "markdown",
   "metadata": {},
   "source": [
    "### Setting a Proxy Server After Class Initialization"
   ]
  },
  {
   "cell_type": "code",
   "execution_count": 9,
   "metadata": {},
   "outputs": [
    {
     "name": "stderr",
     "output_type": "stream",
     "text": [
      "INFO:root:\n",
      "-----------------------------------------------------------------------------\n",
      "| ClickHttpSession change proxy settings with proxy 'http://localhost:431'. |\n",
      "-----------------------------------------------------------------------------\n",
      "INFO:root:\n",
      "------------------------------------------\n",
      "| ClickHttpSession proxy settings clear. |\n",
      "------------------------------------------\n"
     ]
    }
   ],
   "source": [
    "# To establish a connection through a proxy, you need to pass proxy server address\n",
    "# as a string to set_proxy method in format <proxy-server address>:<port>\n",
    "# proxying will apply to both HTTP and HTTPS protocols\n",
    "sess.set_proxy('http://localhost:431')\n",
    "\n",
    "# To remove proxying, you need to call set_proxy method without passing any arguments\n",
    "sess.set_proxy()"
   ]
  },
  {
   "cell_type": "markdown",
   "metadata": {},
   "source": [
    "### Sending a Command to Server"
   ]
  },
  {
   "cell_type": "code",
   "execution_count": null,
   "metadata": {},
   "outputs": [],
   "source": [
    "# For send command to server that does not expect a DataFrame to be returned, execute method has been added\n",
    "command: str = \"TRUNCATE TABLE {table_name}\" # Provided as an example\n",
    "sess.execute(command) # This method does not return anything"
   ]
  },
  {
   "cell_type": "markdown",
   "metadata": {},
   "source": [
    "### Reading DataFrame"
   ]
  },
  {
   "cell_type": "code",
   "execution_count": 6,
   "metadata": {},
   "outputs": [
    {
     "name": "stdout",
     "output_type": "stream",
     "text": [
      "shape: (1, 9)\n",
      "┌───────────┬───────────┬───────────┬───────────┬───┬───────────┬───────────┬───────────┬──────────┐\n",
      "│ test_date ┆ test_date ┆ test_time ┆ test_tsut ┆ … ┆ test_floa ┆ test_bool ┆ test_arra ┆ test_arr │\n",
      "│ ---       ┆ time      ┆ stamp     ┆ c         ┆   ┆ t         ┆ ---       ┆ yint      ┆ aystr    │\n",
      "│ date      ┆ ---       ┆ ---       ┆ ---       ┆   ┆ ---       ┆ bool      ┆ ---       ┆ ---      │\n",
      "│           ┆ datetime[ ┆ datetime[ ┆ datetime[ ┆   ┆ i64       ┆           ┆ list[i64] ┆ list[str │\n",
      "│           ┆ μs]       ┆ μs]       ┆ μs]       ┆   ┆           ┆           ┆           ┆ ]        │\n",
      "╞═══════════╪═══════════╪═══════════╪═══════════╪═══╪═══════════╪═══════════╪═══════════╪══════════╡\n",
      "│ 2024-08-2 ┆ 2024-08-2 ┆ 2024-08-2 ┆ 2024-08-2 ┆ … ┆ 1         ┆ false     ┆ [1, 2, 3] ┆ [\"one\",  │\n",
      "│ 6         ┆ 6         ┆ 6         ┆ 6         ┆   ┆           ┆           ┆           ┆ \"two\",   │\n",
      "│           ┆ 06:44:58  ┆ 06:44:58  ┆ 06:44:58  ┆   ┆           ┆           ┆           ┆ \"three\"] │\n",
      "└───────────┴───────────┴───────────┴───────────┴───┴───────────┴───────────┴───────────┴──────────┘\n"
     ]
    }
   ],
   "source": [
    "# As an example, we will retrieve simple data from Clickhouse database that does not require querying tables in the form of a polars.DataFrame\n",
    "query: str = \"\"\"select\n",
    "    today()                     as test_date\n",
    "  , now()                       as test_datetime\n",
    "  , toDateTime(now()\n",
    "             , 'Europe/Moscow') as test_timestamp\n",
    "  , toDateTime(now()\n",
    "             , 'UTC')           as test_tsutc\n",
    "  , 1                           as test_int\n",
    "  , 1.0                         as test_float\n",
    "  , false                       as test_bool\n",
    "  , array(1\n",
    "        , 2\n",
    "        , 3)                    as test_arrayint\n",
    "  , array('one'\n",
    "        , 'two'\n",
    "        , 'three')              as test_arraystr\n",
    "\"\"\"\n",
    "\n",
    "df = sess.read_frame(query)\n",
    "\n",
    "print(df.data)"
   ]
  },
  {
   "cell_type": "markdown",
   "metadata": {},
   "source": [
    "### Frame Object structure"
   ]
  },
  {
   "cell_type": "code",
   "execution_count": 7,
   "metadata": {},
   "outputs": [
    {
     "name": "stdout",
     "output_type": "stream",
     "text": [
      "['test_date', 'test_datetime', 'test_timestamp', 'test_tsutc', 'test_int', 'test_float', 'test_bool', 'test_arrayint', 'test_arraystr']\n",
      "['Date', 'DateTime', \"DateTime('Europe/Moscow')\", \"DateTime('UTC')\", 'UInt8', 'Float64', 'Bool', 'Array(UInt8)', 'Array(String)']\n",
      "0.001652217\n",
      "1\n"
     ]
    },
    {
     "data": {
      "text/html": [
       "<div><style>\n",
       ".dataframe > thead > tr,\n",
       ".dataframe > tbody > tr {\n",
       "  text-align: right;\n",
       "  white-space: pre-wrap;\n",
       "}\n",
       "</style>\n",
       "<small>shape: (1, 9)</small><table border=\"1\" class=\"dataframe\"><thead><tr><th>test_date</th><th>test_datetime</th><th>test_timestamp</th><th>test_tsutc</th><th>test_int</th><th>test_float</th><th>test_bool</th><th>test_arrayint</th><th>test_arraystr</th></tr><tr><td>date</td><td>datetime[μs]</td><td>datetime[μs]</td><td>datetime[μs]</td><td>i64</td><td>i64</td><td>bool</td><td>list[i64]</td><td>list[str]</td></tr></thead><tbody><tr><td>2024-08-26</td><td>2024-08-26 06:44:58</td><td>2024-08-26 06:44:58</td><td>2024-08-26 06:44:58</td><td>1</td><td>1</td><td>false</td><td>[1, 2, 3]</td><td>[&quot;one&quot;, &quot;two&quot;, &quot;three&quot;]</td></tr></tbody></table></div>"
      ],
      "text/plain": [
       "shape: (1, 9)\n",
       "┌───────────┬───────────┬───────────┬───────────┬───┬───────────┬───────────┬───────────┬──────────┐\n",
       "│ test_date ┆ test_date ┆ test_time ┆ test_tsut ┆ … ┆ test_floa ┆ test_bool ┆ test_arra ┆ test_arr │\n",
       "│ ---       ┆ time      ┆ stamp     ┆ c         ┆   ┆ t         ┆ ---       ┆ yint      ┆ aystr    │\n",
       "│ date      ┆ ---       ┆ ---       ┆ ---       ┆   ┆ ---       ┆ bool      ┆ ---       ┆ ---      │\n",
       "│           ┆ datetime[ ┆ datetime[ ┆ datetime[ ┆   ┆ i64       ┆           ┆ list[i64] ┆ list[str │\n",
       "│           ┆ μs]       ┆ μs]       ┆ μs]       ┆   ┆           ┆           ┆           ┆ ]        │\n",
       "╞═══════════╪═══════════╪═══════════╪═══════════╪═══╪═══════════╪═══════════╪═══════════╪══════════╡\n",
       "│ 2024-08-2 ┆ 2024-08-2 ┆ 2024-08-2 ┆ 2024-08-2 ┆ … ┆ 1         ┆ false     ┆ [1, 2, 3] ┆ [\"one\",  │\n",
       "│ 6         ┆ 6         ┆ 6         ┆ 6         ┆   ┆           ┆           ┆           ┆ \"two\",   │\n",
       "│           ┆ 06:44:58  ┆ 06:44:58  ┆ 06:44:58  ┆   ┆           ┆           ┆           ┆ \"three\"] │\n",
       "└───────────┴───────────┴───────────┴───────────┴───┴───────────┴───────────┴───────────┴──────────┘"
      ]
     },
     "execution_count": 7,
     "metadata": {},
     "output_type": "execute_result"
    }
   ],
   "source": [
    "# Previously obtained object df, in addition to DataFrame itself, contains additional useful information\n",
    "print(df.columns)     # List of columns\n",
    "print(df.types)       # List of original data types\n",
    "print(df.time_read)   # Time taken by server to send data\n",
    "print(df.bytes_read)  # Number of bytes transmitted by server (data is sent by server, and it's difficult to determine how exactly it calculates this)\n",
    "df.data               # DataFrame itself"
   ]
  },
  {
   "cell_type": "markdown",
   "metadata": {},
   "source": [
    "### A temp_query method for Automatically Creating a Temporary Table from query"
   ]
  },
  {
   "cell_type": "code",
   "execution_count": 8,
   "metadata": {},
   "outputs": [
    {
     "name": "stderr",
     "output_type": "stream",
     "text": [
      "INFO:root:\n",
      "---------------------------------------\n",
      "| Get names and data types from query |\n",
      "---------------------------------------\n",
      "INFO:root:\n",
      "----------------------------------------------------------\n",
      "| Generate DDL for temporary table temp_141ac3cf966d8116 |\n",
      "----------------------------------------------------------\n",
      "INFO:root:\n",
      "--------------------------------------------------\n",
      "| Temporary table temp_141ac3cf966d8116 created. |\n",
      "--------------------------------------------------\n"
     ]
    },
    {
     "name": "stdout",
     "output_type": "stream",
     "text": [
      "shape: (1, 9)\n",
      "┌───────────┬───────────┬───────────┬───────────┬───┬───────────┬───────────┬───────────┬──────────┐\n",
      "│ test_date ┆ test_date ┆ test_time ┆ test_tsut ┆ … ┆ test_floa ┆ test_bool ┆ test_arra ┆ test_arr │\n",
      "│ ---       ┆ time      ┆ stamp     ┆ c         ┆   ┆ t         ┆ ---       ┆ yint      ┆ aystr    │\n",
      "│ date      ┆ ---       ┆ ---       ┆ ---       ┆   ┆ ---       ┆ bool      ┆ ---       ┆ ---      │\n",
      "│           ┆ datetime[ ┆ datetime[ ┆ datetime[ ┆   ┆ i64       ┆           ┆ list[i64] ┆ list[str │\n",
      "│           ┆ μs]       ┆ μs]       ┆ μs]       ┆   ┆           ┆           ┆           ┆ ]        │\n",
      "╞═══════════╪═══════════╪═══════════╪═══════════╪═══╪═══════════╪═══════════╪═══════════╪══════════╡\n",
      "│ 2024-08-2 ┆ 2024-08-2 ┆ 2024-08-2 ┆ 2024-08-2 ┆ … ┆ 1         ┆ false     ┆ [1, 2, 3] ┆ [\"one\",  │\n",
      "│ 6         ┆ 6         ┆ 6         ┆ 6         ┆   ┆           ┆           ┆           ┆ \"two\",   │\n",
      "│           ┆ 06:45:15  ┆ 06:45:15  ┆ 06:45:15  ┆   ┆           ┆           ┆           ┆ \"three\"] │\n",
      "└───────────┴───────────┴───────────┴───────────┴───┴───────────┴───────────┴───────────┴──────────┘\n"
     ]
    }
   ],
   "source": [
    "# As an example, we will use the previous query\n",
    "\n",
    "temp_table: str = sess.temp_query(query)  # auto creation of a temporary table with data from the query and returning its name\n",
    "\n",
    "temp_data = sess.read_frame(f\"select * from {temp_table}\").data  # accessing to previously created temporary table to retrieve DataFrame\n",
    "\n",
    "print(temp_data)"
   ]
  },
  {
   "cell_type": "markdown",
   "metadata": {},
   "source": [
    "### A send_multiquery method for Executing Multiquery to Database\n",
    "\n",
    "#### This method is the primary reason for the creation of this class. A string containing multiple queries is passed as a parameter, and after executing all steps, the method will return the result of the last query as a DataFrame"
   ]
  },
  {
   "cell_type": "code",
   "execution_count": 9,
   "metadata": {},
   "outputs": [
    {
     "name": "stderr",
     "output_type": "stream",
     "text": [
      "INFO:root:\n",
      "-------------------\n",
      "| Part 1 started. |\n",
      "-------------------\n",
      "INFO:root:\n",
      "-------------------\n",
      "| Part 1 success. |\n",
      "-------------------\n",
      "INFO:root:\n",
      "-------------------\n",
      "| Part 2 started. |\n",
      "-------------------\n",
      "INFO:root:\n",
      "-------------------\n",
      "| Part 2 success. |\n",
      "-------------------\n",
      "INFO:root:\n",
      "-------------------\n",
      "| Part 3 started. |\n",
      "-------------------\n",
      "INFO:root:\n",
      "-----------------------------\n",
      "| Part 3 success. All done. |\n",
      "-----------------------------\n"
     ]
    },
    {
     "data": {
      "text/html": [
       "<div><style>\n",
       ".dataframe > thead > tr,\n",
       ".dataframe > tbody > tr {\n",
       "  text-align: right;\n",
       "  white-space: pre-wrap;\n",
       "}\n",
       "</style>\n",
       "<small>shape: (1, 9)</small><table border=\"1\" class=\"dataframe\"><thead><tr><th>test_date</th><th>test_datetime</th><th>test_timestamp</th><th>test_tsutc</th><th>test_int</th><th>test_float</th><th>test_bool</th><th>test_arrayint</th><th>test_arraystr</th></tr><tr><td>date</td><td>datetime[μs]</td><td>datetime[μs]</td><td>datetime[μs]</td><td>i64</td><td>i64</td><td>bool</td><td>list[i64]</td><td>list[str]</td></tr></thead><tbody><tr><td>2024-08-26</td><td>2024-08-26 06:45:19</td><td>2024-08-26 06:45:19</td><td>2024-08-26 06:45:19</td><td>1</td><td>1</td><td>false</td><td>[1, 2, 3]</td><td>[&quot;one&quot;, &quot;two&quot;, &quot;three&quot;]</td></tr></tbody></table></div>"
      ],
      "text/plain": [
       "shape: (1, 9)\n",
       "┌───────────┬───────────┬───────────┬───────────┬───┬───────────┬───────────┬───────────┬──────────┐\n",
       "│ test_date ┆ test_date ┆ test_time ┆ test_tsut ┆ … ┆ test_floa ┆ test_bool ┆ test_arra ┆ test_arr │\n",
       "│ ---       ┆ time      ┆ stamp     ┆ c         ┆   ┆ t         ┆ ---       ┆ yint      ┆ aystr    │\n",
       "│ date      ┆ ---       ┆ ---       ┆ ---       ┆   ┆ ---       ┆ bool      ┆ ---       ┆ ---      │\n",
       "│           ┆ datetime[ ┆ datetime[ ┆ datetime[ ┆   ┆ i64       ┆           ┆ list[i64] ┆ list[str │\n",
       "│           ┆ μs]       ┆ μs]       ┆ μs]       ┆   ┆           ┆           ┆           ┆ ]        │\n",
       "╞═══════════╪═══════════╪═══════════╪═══════════╪═══╪═══════════╪═══════════╪═══════════╪══════════╡\n",
       "│ 2024-08-2 ┆ 2024-08-2 ┆ 2024-08-2 ┆ 2024-08-2 ┆ … ┆ 1         ┆ false     ┆ [1, 2, 3] ┆ [\"one\",  │\n",
       "│ 6         ┆ 6         ┆ 6         ┆ 6         ┆   ┆           ┆           ┆           ┆ \"two\",   │\n",
       "│           ┆ 06:45:19  ┆ 06:45:19  ┆ 06:45:19  ┆   ┆           ┆           ┆           ┆ \"three\"] │\n",
       "└───────────┴───────────┴───────────┴───────────┴───┴───────────┴───────────┴───────────┴──────────┘"
      ]
     },
     "execution_count": 9,
     "metadata": {},
     "output_type": "execute_result"
    }
   ],
   "source": [
    "# As an example, we will create a multiquery that includes creation of a temporary table based on query and return resulting DataFrame\n",
    "multiquery: str = f\"\"\"\n",
    "select 1; -- this to verify that query will not return a result from this action\n",
    "CREATE TEMPORARY TABLE IF NOT EXISTS test_temp_table\n",
    "(\n",
    "test_date Date,\n",
    "test_datetime DateTime,\n",
    "test_timestamp DateTime('Europe/Moscow'),\n",
    "test_tsutc DateTime('UTC'),\n",
    "test_int UInt8,\n",
    "test_float Float64,\n",
    "test_bool Bool,\n",
    "test_arrayint Array(UInt8),\n",
    "test_arraystr Array(String)\n",
    ")\n",
    "ENGINE = MergeTree\n",
    "ORDER BY test_date\n",
    "AS\n",
    "{query};\n",
    "select * from test_temp_table;\n",
    "\"\"\"\n",
    "# print(multiquery.rstrip().rstrip(\";\").split(\";\"))\n",
    "multiframe = sess.send_multiquery(multiquery).data\n",
    "\n",
    "multiframe"
   ]
  },
  {
   "cell_type": "markdown",
   "metadata": {},
   "source": [
    "### A insert_table method for Writing Data from DataFrame to Table"
   ]
  },
  {
   "cell_type": "code",
   "execution_count": 10,
   "metadata": {},
   "outputs": [
    {
     "name": "stderr",
     "output_type": "stream",
     "text": [
      "INFO:root:\n",
      "--------------------------------------------\n",
      "| Sending chunk with 1—1 rows from 1 rows. |\n",
      "--------------------------------------------\n",
      "INFO:root:\n",
      "-------------------------\n",
      "| Insert chunk success. |\n",
      "-------------------------\n",
      "INFO:root:\n",
      "-----------------------------\n",
      "| Insert operation success. |\n",
      "-----------------------------\n",
      "INFO:root:\n",
      "-----------------\n",
      "| Command send. |\n",
      "-----------------\n"
     ]
    },
    {
     "name": "stdout",
     "output_type": "stream",
     "text": [
      "shape: (1, 9)\n",
      "┌───────────┬───────────┬───────────┬───────────┬───┬───────────┬───────────┬───────────┬──────────┐\n",
      "│ test_date ┆ test_date ┆ test_time ┆ test_tsut ┆ … ┆ test_floa ┆ test_bool ┆ test_arra ┆ test_arr │\n",
      "│ ---       ┆ time      ┆ stamp     ┆ c         ┆   ┆ t         ┆ ---       ┆ yint      ┆ aystr    │\n",
      "│ date      ┆ ---       ┆ ---       ┆ ---       ┆   ┆ ---       ┆ bool      ┆ ---       ┆ ---      │\n",
      "│           ┆ datetime[ ┆ datetime[ ┆ datetime[ ┆   ┆ i64       ┆           ┆ list[i64] ┆ list[str │\n",
      "│           ┆ μs]       ┆ μs]       ┆ μs]       ┆   ┆           ┆           ┆           ┆ ]        │\n",
      "╞═══════════╪═══════════╪═══════════╪═══════════╪═══╪═══════════╪═══════════╪═══════════╪══════════╡\n",
      "│ 2024-08-2 ┆ 2024-08-2 ┆ 2024-08-2 ┆ 2024-08-2 ┆ … ┆ 1         ┆ false     ┆ [1, 2, 3] ┆ [\"one\",  │\n",
      "│ 6         ┆ 5         ┆ 5         ┆ 5         ┆   ┆           ┆           ┆           ┆ \"two\",   │\n",
      "│           ┆ 20:45:19  ┆ 17:45:19  ┆ 20:45:19  ┆   ┆           ┆           ┆           ┆ \"three\"] │\n",
      "└───────────┴───────────┴───────────┴───────────┴───┴───────────┴───────────┴───────────┴──────────┘\n"
     ]
    }
   ],
   "source": [
    "# This method works with any supported type of DataFrame.\n",
    "# Method takes two mandatory arguments: table - the name of the target table, and data_frame - DataFrame containing data in one of supported formats.\n",
    "# There is also one optional argument use_columns - a boolean, default is True.\n",
    "# When set to True, order and names of columns from DataFrame will be passed to table. Note that frames in Python formats (nested list) and numpy do not contain column names.\n",
    "# When writing data from frame, rows will be formed, and size of each packet for sending does not exceed sess.chunk_size, as specified in class attribute.\n",
    "# When compression is enabled, each packet will be compressed in gzip format after formation and sent to server in a more compact size.\n",
    "\n",
    "# As an example, we will create a table in the database and write data from multiframe into it\n",
    "table: str = \"default.test_table\"\n",
    "ddl: str = f\"\"\"CREATE TABLE IF NOT EXISTS {table}\n",
    "(\n",
    "test_date Date,\n",
    "test_datetime DateTime,\n",
    "test_timestamp DateTime('Europe/Moscow'),\n",
    "test_tsutc DateTime('UTC'),\n",
    "test_int UInt8,\n",
    "test_float Float64,\n",
    "test_bool Bool,\n",
    "test_arrayint Array(UInt8),\n",
    "test_arraystr Array(String)\n",
    ")\n",
    "ENGINE = MergeTree\n",
    "ORDER BY test_date\"\"\"\n",
    "\n",
    "sess.read_frame(ddl)  # create table\n",
    "\n",
    "sess.insert_table(table=table, data_frame=multiframe,)  # insert data to table\n",
    "\n",
    "print(sess.read_frame(f\"select * from {table}\").data)  # read table data to DataFrame\n",
    "\n",
    "sess.execute(f\"drop table {table}\")  # drop table from server"
   ]
  }
 ],
 "metadata": {
  "kernelspec": {
   "display_name": "Python 3",
   "language": "python",
   "name": "python3"
  },
  "language_info": {
   "codemirror_mode": {
    "name": "ipython",
    "version": 3
   },
   "file_extension": ".py",
   "mimetype": "text/x-python",
   "name": "python",
   "nbconvert_exporter": "python",
   "pygments_lexer": "ipython3",
   "version": "3.10.11"
  }
 },
 "nbformat": 4,
 "nbformat_minor": 2
}
