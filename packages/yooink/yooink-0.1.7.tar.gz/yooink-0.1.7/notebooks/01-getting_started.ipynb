{
 "cells": [
  {
   "cell_type": "markdown",
   "id": "b7a93d63536a5fd1",
   "metadata": {},
   "source": [
    "# Step 1: Getting started using the yOOInk package\n",
    "\n",
    "In this demo, we'll walk through how to use yooink to access OOI data via machine-to-machine protocol (m2m). Read more [here](https://oceanobservatories.org/m2m/)! \n",
    "\n",
    "## API access\n",
    "\n",
    "To get OOI API access, you'll need a username and token.\n",
    "\n",
    "1. Create a user account on ooinet.oceanobservatories.org (you can also use an existing CILogin or Google account.\n",
    "2. Log in\n",
    "3. Navigate to the drop down menu screen in the top-right corner menu\n",
    "4. Click on the “User Profile” element of the drop down\n",
    "5. Scroll to the bottom to see your API Username and API Token\n",
    "\n",
    "## API token security\n",
    "\n",
    "You'll notice that down below you need to provide an API key and token. \n",
    "Those definitely shouldn't be hard coded into a file that lives on a public \n",
    "(or really even private) repository. An easy way to handle that is to \n",
    "store your API key and token as local environment variables and then use the\n",
    " os library to access the contents of the environment variable.\n",
    " \n",
    "To save that environment variable using macOS or Linux terminal, use:\n",
    "\n",
    "`export OOI_USER=abc123` \n",
    "\n",
    "On Windows, you'd use:\n",
    "\n",
    "`setx OOI_TOKEN \"abc123\"`\n",
    "\n",
    "You can access those environment variables in Python using:\n",
    "\n",
    "```python\n",
    "import os\n",
    "\n",
    "api_username = os.getenv('OOI_USER')\n",
    "```\n",
    "\n",
    "**Other options**\n",
    "\n",
    "- Save environment variables more permanently on your local computer. We won't go into detail here but you can find lots of simple instructions if you do a quick google search.\n",
    "- Hard-code those values right into the script. Just be careful not to upload!\n",
    "\n"
   ]
  },
  {
   "cell_type": "code",
   "id": "9d22ac1310c6993c",
   "metadata": {
    "ExecuteTime": {
     "end_time": "2024-09-28T23:17:38.873248Z",
     "start_time": "2024-09-28T23:17:37.453906Z"
    }
   },
   "source": [
    "from yooink import APIClient, RequestManager\n",
    "import os"
   ],
   "outputs": [],
   "execution_count": 1
  },
  {
   "cell_type": "code",
   "id": "3ad18a2e688f3fd8",
   "metadata": {
    "ExecuteTime": {
     "end_time": "2024-09-28T23:17:40.282712Z",
     "start_time": "2024-09-28T23:17:40.278770Z"
    }
   },
   "source": [
    "# Initialize the API client with your username and token. Here we use \n",
    "# environment variables but you can also hard-code the values in directly - \n",
    "# just make sure not to push to an online repository!\n",
    "username = os.getenv('OOI_USER')\n",
    "token = os.getenv('OOI_TOKEN')"
   ],
   "outputs": [],
   "execution_count": 2
  },
  {
   "cell_type": "code",
   "id": "8dccfbac0b4ab43f",
   "metadata": {
    "ExecuteTime": {
     "end_time": "2024-09-28T23:17:41.341995Z",
     "start_time": "2024-09-28T23:17:41.337078Z"
    }
   },
   "source": [
    "# Set up the API Client and the request manager\n",
    "api_client = APIClient(username, token)\n",
    "request_manager = RequestManager(api_client)\n"
   ],
   "outputs": [],
   "execution_count": 3
  },
  {
   "cell_type": "code",
   "id": "b5ce4787-0623-4116-8af5-d0d7758c4372",
   "metadata": {
    "ExecuteTime": {
     "end_time": "2024-09-28T23:17:44.082318Z",
     "start_time": "2024-09-28T23:17:43.467082Z"
    }
   },
   "source": [
    "# List the sites\n",
    "sites = request_manager.list_sites()\n",
    "first_five = ','.join(sites[0:5])\n",
    "\n",
    "print('There are a total of ' + \n",
    "      str(len(sites)) + ' sites in the network.\\n\\n' + \n",
    "      'The first five sites are ' + first_five)"
   ],
   "outputs": [
    {
     "name": "stdout",
     "output_type": "stream",
     "text": [
      "There are a total of 79 sites in the network.\n",
      "\n",
      "The first five sites are CE01ISSM,CE01ISSP,CE02SHBP,CE02SHSM,CE02SHSP\n"
     ]
    }
   ],
   "execution_count": 4
  },
  {
   "cell_type": "code",
   "id": "cab7be02-567a-4d9a-b3d1-7081ac386cfc",
   "metadata": {
    "ExecuteTime": {
     "end_time": "2024-09-28T23:17:49.065831Z",
     "start_time": "2024-09-28T23:17:48.944591Z"
    }
   },
   "source": [
    "# List nodes at a specific site\n",
    "site = \"CE02SHSM\"\n",
    "nodes = request_manager.list_nodes(site)\n",
    "print(nodes)"
   ],
   "outputs": [
    {
     "name": "stdout",
     "output_type": "stream",
     "text": [
      "['RID26', 'RID27', 'SBD11', 'SBD12']\n"
     ]
    }
   ],
   "execution_count": 5
  },
  {
   "cell_type": "code",
   "id": "0fe7bf69-ebc4-432e-9fa9-abd85d52a684",
   "metadata": {
    "ExecuteTime": {
     "end_time": "2024-09-28T23:17:49.602436Z",
     "start_time": "2024-09-28T23:17:49.431385Z"
    }
   },
   "source": [
    "# List sensors at a specific site and node\n",
    "node = \"SBD11\"\n",
    "sensors = request_manager.list_sensors(site, node)\n",
    "print(sensors)"
   ],
   "outputs": [
    {
     "name": "stdout",
     "output_type": "stream",
     "text": [
      "['01-MOPAK0000', '02-HYDGN0000', '04-VELPTA000', '06-METBKA000', '06-METBKA001']\n"
     ]
    }
   ],
   "execution_count": 6
  },
  {
   "cell_type": "code",
   "id": "75bf4599-6224-4138-a046-1d915ea65412",
   "metadata": {
    "ExecuteTime": {
     "end_time": "2024-09-28T23:17:50.756318Z",
     "start_time": "2024-09-28T23:17:50.636241Z"
    }
   },
   "source": [
    "# List methods for a specific data\n",
    "sensor = \"06-METBKA000\"\n",
    "methods = request_manager.list_methods(site, node, sensor)\n",
    "print(methods)"
   ],
   "outputs": [
    {
     "name": "stdout",
     "output_type": "stream",
     "text": [
      "['recovered_host', 'telemetered']\n"
     ]
    }
   ],
   "execution_count": 7
  },
  {
   "cell_type": "code",
   "id": "6c33a0bc-964b-494f-8aaa-9b3a7fc3b638",
   "metadata": {
    "ExecuteTime": {
     "end_time": "2024-09-28T23:22:51.774835Z",
     "start_time": "2024-09-28T23:22:50.946862Z"
    }
   },
   "source": [
    "# Get metadata for a specific data (printing just \n",
    "# a subset because there's a lot of metadata)\n",
    "metadata = request_manager.get_metadata(site, node, sensor)\n",
    "print(metadata['parameters'][1])"
   ],
   "outputs": [
    {
     "name": "stdout",
     "output_type": "stream",
     "text": [
      "{'pdId': 'PD7', 'particleKey': 'time', 'type': 'DOUBLE', 'shape': 'SCALAR', 'units': 'seconds since 1900-01-01', 'fillValue': '-9999999', 'stream': 'metbk_a_dcl_instrument', 'unsigned': False}\n"
     ]
    }
   ],
   "execution_count": 10
  },
  {
   "cell_type": "code",
   "id": "7b0933d9-f5da-45e5-8d1e-5c7bfe4348eb",
   "metadata": {
    "ExecuteTime": {
     "end_time": "2024-09-22T23:02:37.086025Z",
     "start_time": "2024-09-22T23:02:36.973828Z"
    }
   },
   "source": [
    "# List available streams for a specific method and data\n",
    "method = \"telemetered\"\n",
    "streams = request_manager.list_streams(site, node, sensor, method)\n",
    "print(streams)"
   ],
   "outputs": [
    {
     "name": "stdout",
     "output_type": "stream",
     "text": [
      "['metbk_a_dcl_instrument', 'metbk_hourly', 'metbk_hourly']\n"
     ]
    }
   ],
   "execution_count": 9
  },
  {
   "cell_type": "code",
   "id": "0fca3a94-2106-419f-b36e-47d07c57bab9",
   "metadata": {
    "ExecuteTime": {
     "end_time": "2024-09-28T23:31:29.112875Z",
     "start_time": "2024-09-28T23:31:28.650288Z"
    }
   },
   "source": [
    "# List all the deployment numbers for the site/node/sensor\n",
    "deploy_list = request_manager.list_deployments(site, node, sensor)\n",
    "deploy_list"
   ],
   "outputs": [
    {
     "data": {
      "text/plain": [
       "[1, 2, 3, 4, 5, 6, 7, 8, 9, 10, 11, 12, 13, 14, 15, 16, 17, 18]"
      ]
     },
     "execution_count": 15,
     "metadata": {},
     "output_type": "execute_result"
    }
   ],
   "execution_count": 15
  },
  {
   "metadata": {
    "ExecuteTime": {
     "end_time": "2024-09-28T23:31:33.651696Z",
     "start_time": "2024-09-28T23:31:33.380441Z"
    }
   },
   "cell_type": "code",
   "source": [
    "# Get the start and end dates of a specific deployment for the site/node/sensor\n",
    "deploy_dates = request_manager.get_deployment_dates(site, node, sensor, \n",
    "                                                    str(deploy_list[0]))\n",
    "deploy_dates"
   ],
   "id": "a5006f2d0db48ceb",
   "outputs": [
    {
     "data": {
      "text/plain": [
       "{'start': '2015-04-02T20:15:00.000Z', 'stop': '2015-09-22T07:48:00.000Z'}"
      ]
     },
     "execution_count": 16,
     "metadata": {},
     "output_type": "execute_result"
    }
   ],
   "execution_count": 16
  },
  {
   "metadata": {
    "ExecuteTime": {
     "end_time": "2024-10-14T16:26:32.506549Z",
     "start_time": "2024-10-14T16:26:32.490202Z"
    }
   },
   "cell_type": "code",
   "source": [
    "sensor_info = request_manager.get_sensor_information(site, node, sensor, 1)[0]\n",
    "sensor_info.keys()"
   ],
   "id": "720d509d7d2ae56d",
   "outputs": [
    {
     "ename": "NameError",
     "evalue": "name 'request_manager' is not defined",
     "output_type": "error",
     "traceback": [
      "\u001B[0;31m---------------------------------------------------------------------------\u001B[0m",
      "\u001B[0;31mNameError\u001B[0m                                 Traceback (most recent call last)",
      "Cell \u001B[0;32mIn[4], line 1\u001B[0m\n\u001B[0;32m----> 1\u001B[0m sensor_info \u001B[38;5;241m=\u001B[39m \u001B[43mrequest_manager\u001B[49m\u001B[38;5;241m.\u001B[39mget_sensor_information(site, node, sensor, \u001B[38;5;241m1\u001B[39m)[\u001B[38;5;241m0\u001B[39m]\n\u001B[1;32m      2\u001B[0m sensor_info\u001B[38;5;241m.\u001B[39mkeys()\n",
      "\u001B[0;31mNameError\u001B[0m: name 'request_manager' is not defined"
     ]
    }
   ],
   "execution_count": 4
  },
  {
   "metadata": {
    "ExecuteTime": {
     "end_time": "2024-10-14T16:26:41.816915Z",
     "start_time": "2024-10-14T16:26:41.803135Z"
    }
   },
   "cell_type": "code",
   "source": "sensor_info['location']",
   "id": "57e8dfe6e1d5b639",
   "outputs": [
    {
     "ename": "NameError",
     "evalue": "name 'sensor_info' is not defined",
     "output_type": "error",
     "traceback": [
      "\u001B[0;31m---------------------------------------------------------------------------\u001B[0m",
      "\u001B[0;31mNameError\u001B[0m                                 Traceback (most recent call last)",
      "Cell \u001B[0;32mIn[5], line 1\u001B[0m\n\u001B[0;32m----> 1\u001B[0m \u001B[43msensor_info\u001B[49m[\u001B[38;5;124m'\u001B[39m\u001B[38;5;124mlocation\u001B[39m\u001B[38;5;124m'\u001B[39m]\n",
      "\u001B[0;31mNameError\u001B[0m: name 'sensor_info' is not defined"
     ]
    }
   ],
   "execution_count": 5
  },
  {
   "metadata": {
    "ExecuteTime": {
     "end_time": "2024-09-28T23:37:44.223384Z",
     "start_time": "2024-09-28T23:37:44.219671Z"
    }
   },
   "cell_type": "code",
   "source": "sensor_info['waterDepth']",
   "id": "aac5251a716fd0a8",
   "outputs": [
    {
     "data": {
      "text/plain": [
       "80.0"
      ]
     },
     "execution_count": 35,
     "metadata": {},
     "output_type": "execute_result"
    }
   ],
   "execution_count": 35
  },
  {
   "metadata": {
    "ExecuteTime": {
     "end_time": "2024-09-28T23:46:53.324434Z",
     "start_time": "2024-09-28T23:46:53.322244Z"
    }
   },
   "cell_type": "code",
   "source": "",
   "id": "9be0a2932770f8be",
   "outputs": [],
   "execution_count": 37
  },
  {
   "metadata": {},
   "cell_type": "code",
   "outputs": [],
   "execution_count": null,
   "source": "",
   "id": "7cfce91b51a7362e"
  }
 ],
 "metadata": {
  "kernelspec": {
   "display_name": "Python 3 (ipykernel)",
   "language": "python",
   "name": "python3"
  },
  "language_info": {
   "codemirror_mode": {
    "name": "ipython",
    "version": 3
   },
   "file_extension": ".py",
   "mimetype": "text/x-python",
   "name": "python",
   "nbconvert_exporter": "python",
   "pygments_lexer": "ipython3",
   "version": "3.11.6"
  }
 },
 "nbformat": 4,
 "nbformat_minor": 5
}
