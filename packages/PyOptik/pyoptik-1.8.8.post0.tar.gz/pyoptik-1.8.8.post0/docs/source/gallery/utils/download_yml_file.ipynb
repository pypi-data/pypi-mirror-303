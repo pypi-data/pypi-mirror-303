{
  "cells": [
    {
      "cell_type": "markdown",
      "metadata": {},
      "source": [
        "\n# Example: Download a YAML file\n\nThis example demonstrates how to download a YAML file from a URL using the\n`download_yml_file` function from the `PyOptik.utils` module.\n"
      ]
    },
    {
      "cell_type": "code",
      "execution_count": null,
      "metadata": {
        "collapsed": false
      },
      "outputs": [],
      "source": [
        "from PyOptik.utils import download_yml_file\nfrom PyOptik.directories import sellmeier_data_path\nfrom PyOptik import MaterialBank\n\n# Define the URL of the YAML file and the destination\nurl = 'https://refractiveindex.info/database/data-nk/main/H2O/Daimon-19.0C.yml'\nfilename = 'example_download'\n\n# Call the function to download the file\ndownload_yml_file(filename=filename, url=url, location=sellmeier_data_path)\n\nm = MaterialBank.get('example_download')\n\nm.plot()"
      ]
    }
  ],
  "metadata": {
    "kernelspec": {
      "display_name": "Python 3",
      "language": "python",
      "name": "python3"
    },
    "language_info": {
      "codemirror_mode": {
        "name": "ipython",
        "version": 3
      },
      "file_extension": ".py",
      "mimetype": "text/x-python",
      "name": "python",
      "nbconvert_exporter": "python",
      "pygments_lexer": "ipython3",
      "version": "3.11.0"
    }
  },
  "nbformat": 4,
  "nbformat_minor": 0
}