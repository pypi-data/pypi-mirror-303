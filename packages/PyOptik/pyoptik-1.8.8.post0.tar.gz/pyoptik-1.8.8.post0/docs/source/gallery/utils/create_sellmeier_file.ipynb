{
  "cells": [
    {
      "cell_type": "markdown",
      "metadata": {},
      "source": [
        "\n# Example: Create a Custom Sellmeier YAML File\n\nThis example demonstrates how to create a custom Sellmeier YAML file using the\n`create_sellmeier_file` function from the `PyOptik.utils` module.\n"
      ]
    },
    {
      "cell_type": "code",
      "execution_count": null,
      "metadata": {
        "collapsed": false
      },
      "outputs": [],
      "source": [
        "from PyOptik.directories import sellmeier_data_path\nfrom PyOptik import SellmeierMaterial\nfrom PyOptik import MaterialBank\n\n# Define the file properties\nfilename = 'example_sellmeier'\ncoefficients = [1.86e-06, 1.31e-08, -1.37e-11, 4.34e-07, 6.27e-1, 0.17]\nformula_type = 1\n\n# Call the function to create the file\nMaterialBank.create_sellmeier_file(\n    filename=filename,\n    coefficients=coefficients,\n    formula_type=formula_type,\n    wavelength_range=(0.2, 2.0),\n    reference=\"Sample Reference\",\n    comments=\"This is a sample Sellmeier file created for demonstration purposes. \"\n)\n\nprint(f\"Sellmeier YAML file {filename}.yml has been created in {sellmeier_data_path}\")\n\nm = MaterialBank.get(filename)\n\nm.plot()"
      ]
    }
  ],
  "metadata": {
    "kernelspec": {
      "display_name": "Python 3",
      "language": "python",
      "name": "python3"
    },
    "language_info": {
      "codemirror_mode": {
        "name": "ipython",
        "version": 3
      },
      "file_extension": ".py",
      "mimetype": "text/x-python",
      "name": "python",
      "nbconvert_exporter": "python",
      "pygments_lexer": "ipython3",
      "version": "3.11.0"
    }
  },
  "nbformat": 4,
  "nbformat_minor": 0
}