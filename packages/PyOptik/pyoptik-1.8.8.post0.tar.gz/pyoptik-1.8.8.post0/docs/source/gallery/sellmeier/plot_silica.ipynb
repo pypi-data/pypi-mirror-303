{
  "cells": [
    {
      "cell_type": "markdown",
      "metadata": {},
      "source": [
        "\n# Plot the Refractive Index of Optical Material: Silica\n\nThis module demonstrates the usage of the PyOptik library to calculate and plot the refractive index of the optical material Silica glass over a specified range of wavelengths.\n"
      ]
    },
    {
      "cell_type": "code",
      "execution_count": null,
      "metadata": {
        "collapsed": false
      },
      "outputs": [],
      "source": [
        "import numpy\nfrom PyOptik import MaterialBank\n\n# Initialize the material with the Sellmeier model\nmaterial = MaterialBank.fused_silica\n\n# Calculate refractive index at specific wavelengths\nRI = material.compute_refractive_index(wavelength=[1310e-9, 1550e-9])\n\n# Display calculated refractive indices at sample wavelengths\nmaterial.plot(\n    wavelength=numpy.linspace(500e-9, 1500e-9, 300)\n)"
      ]
    }
  ],
  "metadata": {
    "kernelspec": {
      "display_name": "Python 3",
      "language": "python",
      "name": "python3"
    },
    "language_info": {
      "codemirror_mode": {
        "name": "ipython",
        "version": 3
      },
      "file_extension": ".py",
      "mimetype": "text/x-python",
      "name": "python",
      "nbconvert_exporter": "python",
      "pygments_lexer": "ipython3",
      "version": "3.11.0"
    }
  },
  "nbformat": 4,
  "nbformat_minor": 0
}