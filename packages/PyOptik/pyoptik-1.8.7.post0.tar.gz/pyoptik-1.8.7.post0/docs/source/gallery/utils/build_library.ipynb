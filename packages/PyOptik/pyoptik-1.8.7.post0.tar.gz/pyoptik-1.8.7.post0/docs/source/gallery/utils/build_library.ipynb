{
  "cells": [
    {
      "cell_type": "markdown",
      "metadata": {},
      "source": [
        "\n# Building database and Printing Materials\n\nThis example demonstrates how to build a material library using the `build_library` function\nfrom the PyOptik package and how to print out the available materials using the `MaterialBank` class.\n\nWe will first build the `others` material library, removing any previously downloaded files,\nand then print out all the available materials in the `MaterialBank`.\n\nThe available libraries are:\n- 'classics'\n- 'glasses'\n- 'metals'\n- 'organics'\n- 'others'\n- 'all' (to download all libraries)\n"
      ]
    },
    {
      "cell_type": "markdown",
      "metadata": {},
      "source": [
        "Import necessary modules\n\n"
      ]
    },
    {
      "cell_type": "code",
      "execution_count": null,
      "metadata": {
        "collapsed": false
      },
      "outputs": [],
      "source": [
        "from PyOptik import MaterialBank\n\n# Build the 'others' material library and remove previously downloaded files\nMaterialBank.build_library('glasses', remove_previous=True)\n\n# Print all the available materials (Sellmeier and Tabulated)\nMaterialBank.print_available()"
      ]
    }
  ],
  "metadata": {
    "kernelspec": {
      "display_name": "Python 3",
      "language": "python",
      "name": "python3"
    },
    "language_info": {
      "codemirror_mode": {
        "name": "ipython",
        "version": 3
      },
      "file_extension": ".py",
      "mimetype": "text/x-python",
      "name": "python",
      "nbconvert_exporter": "python",
      "pygments_lexer": "ipython3",
      "version": "3.11.0"
    }
  },
  "nbformat": 4,
  "nbformat_minor": 0
}