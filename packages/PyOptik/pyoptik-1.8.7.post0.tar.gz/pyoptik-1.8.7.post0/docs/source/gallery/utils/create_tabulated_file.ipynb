{
  "cells": [
    {
      "cell_type": "markdown",
      "metadata": {},
      "source": [
        "\n# Example: Create a Custom Tabulated Data YAML File\n\nThis example demonstrates how to create a custom YAML file containing tabulated\n`nk` data using the `create_tabulated_file` function from the `PyOptik.utils` module.\n"
      ]
    },
    {
      "cell_type": "code",
      "execution_count": null,
      "metadata": {
        "collapsed": false
      },
      "outputs": [],
      "source": [
        "from PyOptik.directories import tabulated_data_path\nfrom PyOptik import MaterialBank\n\n# Define the tabulated data (wavelength in micrometers, n, k)\ntabulated_data = [\n    (0.1879, 0.94, 1.337),\n    (0.1916, 0.95, 1.388),\n    (0.1953, 0.97, 1.440),\n    (0.1993, 0.98, 1.493),\n    (0.2033, 0.99, 1.550),\n]\n\n# Define the file properties\nfilename = 'example_tabulated'\nreference = \"Example Reference for Tabulated Data\"\ncomments = \"This file contains sample tabulated data for demonstration purposes. \"\n\n# Call the function to create the file\nMaterialBank.create_tabulated_file(\n    filename=filename,\n    data=tabulated_data,\n    reference=reference,\n    comments=comments\n)\n\nprint(f\"Tabulated YAML file {filename}.yml has been created in {tabulated_data_path}\")\n\nm = MaterialBank.get(filename)\n\nm.plot()"
      ]
    }
  ],
  "metadata": {
    "kernelspec": {
      "display_name": "Python 3",
      "language": "python",
      "name": "python3"
    },
    "language_info": {
      "codemirror_mode": {
        "name": "ipython",
        "version": 3
      },
      "file_extension": ".py",
      "mimetype": "text/x-python",
      "name": "python",
      "nbconvert_exporter": "python",
      "pygments_lexer": "ipython3",
      "version": "3.11.0"
    }
  },
  "nbformat": 4,
  "nbformat_minor": 0
}