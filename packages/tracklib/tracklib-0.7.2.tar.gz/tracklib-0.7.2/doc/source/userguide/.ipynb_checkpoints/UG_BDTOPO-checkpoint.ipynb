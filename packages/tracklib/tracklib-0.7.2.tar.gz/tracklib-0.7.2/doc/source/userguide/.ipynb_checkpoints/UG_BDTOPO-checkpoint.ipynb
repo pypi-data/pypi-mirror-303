{
 "cells": [
  {
   "cell_type": "markdown",
   "id": "a4b8330d-9b91-436f-a771-80f16299a61e",
   "metadata": {},
   "source": [
    "# French map agency web service import\n",
    "\n",
    "If you want road network data from France, an alternative way to load network data is to use french map agence web service (WFS). "
   ]
  },
  {
   "cell_type": "markdown",
   "id": "0e3cbd5c-42de-494a-a758-255adb95dee6",
   "metadata": {},
   "source": [
    "## Let's start by defining our environment\n",
    "\n",
    "This task is only useful for the online notebook"
   ]
  },
  {
   "cell_type": "code",
   "execution_count": 2,
   "id": "a017b509-be06-4139-beb6-506bda982706",
   "metadata": {},
   "outputs": [],
   "source": [
    "import os\n",
    "import sys\n",
    "\n",
    "# Import de tracklib\n",
    "module_path = os.path.abspath(os.path.join('../../..'))\n",
    "if module_path not in sys.path:\n",
    "    sys.path.append(module_path)"
   ]
  },
  {
   "cell_type": "code",
   "execution_count": 3,
   "id": "624f5b44-bce3-47d6-bf52-e3edf7156481",
   "metadata": {
    "editable": true,
    "slideshow": {
     "slide_type": ""
    },
    "tags": []
   },
   "outputs": [],
   "source": [
    "import matplotlib.pyplot as plt\n",
    "\n",
    "# Import tracklib library\n",
    "import tracklib as tkl"
   ]
  },
  {
   "cell_type": "code",
   "execution_count": 7,
   "id": "07d80393-6c54-48cd-99cc-7cbcf7cc0f8a",
   "metadata": {
    "editable": true,
    "slideshow": {
     "slide_type": ""
    },
    "tags": [
     "nbsphinx-thumbnail"
    ]
   },
   "outputs": [
    {
     "name": "stdout",
     "output_type": "stream",
     "text": [
      "None <class 'NoneType'>\n",
      "PAGE 1/1\n"
     ]
    },
    {
     "name": "stderr",
     "output_type": "stream",
     "text": [
      "\u001b[38;2;0;255;0m100%\u001b[39m \u001b[38;2;0;255;0m(252 of 252)\u001b[39m |######################| Elapsed Time: 0:00:00 Time:  0:00:000000\n"
     ]
    },
    {
     "name": "stdout",
     "output_type": "stream",
     "text": [
      "nb edges= 252\n",
      "nb nodes= 197\n"
     ]
    },
    {
     "data": {
      "image/png": "[encoded data removed]",
      "text/plain": [
       "<Figure size 432x288 with 1 Axes>"
      ]
     },
     "metadata": {
      "needs_background": "light"
     },
     "output_type": "display_data"
    }
   ],
   "source": [
    "xmin = 6.74168\n",
    "xmax = 6.82568\n",
    "ymin = 45.3485\n",
    "ymax = 45.4029\n",
    "emprise = tkl.Bbox(tkl.GeoCoords(xmin, ymin), tkl.GeoCoords(xmax, ymax))\n",
    "\n",
    "proj = \"EPSG:4326\"\n",
    "\n",
    "tolerance = 0.0001\n",
    "\n",
    "network = tkl.NetworkReader.requestFromIgnGeoportail(emprise, proj, margin=0.020,\n",
    "               tolerance=tolerance, spatialIndex=False)\n",
    "\n",
    "network.plot('k-', '', 'g-', 'r-', 0.5, plt)\n",
    "print ('nb edges=', len(network.EDGES))\n",
    "print ('nb nodes=', len(network.NODES))"
   ]
  },
  {
   "cell_type": "markdown",
   "id": "e05866f3-3015-42cd-8733-eea2aea57d37",
   "metadata": {},
   "source": [
    "## Proxy\n",
    "\n",
    "If you are behind a proxy\n",
    "\n",
    "Si vous êtes derrière un proxy, il vous faut spécifier le paramètre *nomproxy* afin que la fonction qui appelle le service WFS de la BDTOPO en tienne compte.\n",
    "\n",
    "```python\n",
    "tkl.NetworkReader.requestFromIgnGeoportail(...., nomproxy='ENSG')\n",
    "```"
   ]
  }
 ],
 "metadata": {
  "kernelspec": {
   "display_name": "Python 3 (ipykernel)",
   "language": "python",
   "name": "python3"
  },
  "language_info": {
   "codemirror_mode": {
    "name": "ipython",
    "version": 3
   },
   "file_extension": ".py",
   "mimetype": "text/x-python",
   "name": "python",
   "nbconvert_exporter": "python",
   "pygments_lexer": "ipython3",
   "version": "3.10.12"
  }
 },
 "nbformat": 4,
 "nbformat_minor": 5
}
