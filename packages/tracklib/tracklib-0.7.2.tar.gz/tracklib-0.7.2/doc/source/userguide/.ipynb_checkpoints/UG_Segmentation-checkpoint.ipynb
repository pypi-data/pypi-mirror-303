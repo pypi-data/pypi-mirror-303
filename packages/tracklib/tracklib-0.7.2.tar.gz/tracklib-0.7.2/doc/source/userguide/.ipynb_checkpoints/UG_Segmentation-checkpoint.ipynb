{
 "cells": [
  {
   "cell_type": "markdown",
   "id": "16ea37f9",
   "metadata": {},
   "source": [
    "# Segmentation of a GPS track\n",
    "\n",
    "This section presents the problem of segmenting a GPS track based on discrete-value criteria or spatiotemporal criteria or a combination of both. The segmentation for a track consists to partition it into a number of pieces of *track*. The idea of segmentation is to obtain tracks where characteristics inside each ones are uniform in some sens.\n",
    "\n",
    "In track library, segmentation takes place (cf. figure 1) in two stages. Once the indicators have been calculated, the first step is to create a new analytical feature, named \"seg\" for example, which value is: 0 if change of division, 1 otherwise by calling *segmentation* algorithm. The second step consists to split the track using \"seg\" analytical feature. A collection of tracks are created; all tracks are defined for all observations between the different values of 1 of \"seg\" AF from the original track.\n",
    "\n",
    "<figure style='text-align:center;padding:1.5em'>\n",
    "<img src=\"segmentation_process3.png\"  width=\"650\" />\n",
    "<figcaption><br/>Figure 1 : process to segmenting track</figcaption>\n",
    "</figure>\n",
    "\n",
    "\n",
    "We have had a brief preview of this treatment in the quickstart use case. Indeed, in the GPS track corresponding to an athletics training, we segment the trajectory depending on the shifting the speed of his running. In this tutorial, we add a second analytical feature, the direction of the edge."
   ]
  },
  {
   "cell_type": "markdown",
   "id": "69278f6c",
   "metadata": {},
   "source": [
    "## Let's start by defining our environment\n",
    "\n",
    "This task is only useful for the online notebook"
   ]
  },
  {
   "cell_type": "code",
   "execution_count": 1,
   "id": "2ad3b117",
   "metadata": {},
   "outputs": [],
   "source": [
    "import matplotlib.pyplot as plt\n",
    "\n",
    "import numpy as np\n",
    "import os\n",
    "import sys\n",
    "\n",
    "# Import de tracklib\n",
    "module_path = os.path.abspath(os.path.join('../../..'))\n",
    "if module_path not in sys.path:\n",
    "    sys.path.append(module_path)\n",
    "    \n",
    "import tracklib as trk"
   ]
  },
  {
   "cell_type": "markdown",
   "id": "1a0698cc",
   "metadata": {},
   "source": [
    "## Loading GPS track data\n",
    "\n",
    "Data represents a runner's track on an athletics track (identifier N°903959)."
   ]
  },
  {
   "cell_type": "code",
   "execution_count": 2,
   "id": "3a5b9a96",
   "metadata": {},
   "outputs": [
    {
     "name": "stdout",
     "output_type": "stream",
     "text": [
      "---- ----------------------------------------\n",
      "Track file format for CSV, WKT and GPX files:\n",
      "---------------------------------------------\n",
      "Name:                              UNDEFINED\n",
      "Ext:                               GPX\n",
      "\n",
      "SRID:                              GEO\n",
      "\n",
      "Read all fields:                   False\n",
      "Selection track:                   None\n",
      "\n",
      "CSV format: \n",
      "---------------------------------------------\n",
      "id_E:                              -1\n",
      "id_N:                              -1\n",
      "id_U:                              -1\n",
      "id_T:                              -1\n",
      "Seperator:                        [,]\n",
      "Header:                            0\n",
      "Double-quote:                      False\n",
      "Comment character:                 #\n",
      "No data value:                     -999999\n",
      "Initial date:                      -1\n",
      "Number of seconds per unit of time:-1\n",
      "\n",
      "GPX format:   \n",
      "---------------------------------------------\n",
      "Type of point (wpt, rtept, trk):  [trk]\n",
      "\n",
      "WKT format: \n",
      "---------------------------------------------\n",
      "id_wkt:                            -1\n",
      "id_user:                           -1\n",
      "id_track:                          -1\n",
      "Seperator:                        [,]\n",
      "Header:                            0\n",
      "Double-quote:                      False\n",
      "---------------------------------------------\n",
      "\n",
      "----------------------------------------\n",
      "Track file format for CSV, WKT and GPX files:\n",
      "---------------------------------------------\n",
      "Name:                              UNDEFINED\n",
      "Ext:                               GPX\n",
      "\n",
      "SRID:                              GEO\n",
      "\n",
      "Read all fields:                   False\n",
      "Selection track:                   None\n",
      "\n",
      "CSV format: \n",
      "---------------------------------------------\n",
      "id_E:                              -1\n",
      "id_N:                              -1\n",
      "id_U:                              -1\n",
      "id_T:                              -1\n",
      "Seperator:                        [,]\n",
      "Header:                            0\n",
      "Double-quote:                      False\n",
      "Comment character:                 #\n",
      "No data value:                     -999999\n",
      "Initial date:                      -1\n",
      "Number of seconds per unit of time:-1\n",
      "\n",
      "GPX format:   \n",
      "---------------------------------------------\n",
      "Type of point (wpt, rtept, trk):  [trk]\n",
      "\n",
      "WKT format: \n",
      "---------------------------------------------\n",
      "id_wkt:                            -1\n",
      "id_user:                           -1\n",
      "id_track:                          -1\n",
      "Seperator:                        [,]\n",
      "Header:                            0\n",
      "Double-quote:                      False\n",
      "---------------------------------------------\n",
      "\n",
      "<class 'tracklib.io.track_format.TrackFormat'>\n"
     ]
    },
    {
     "ename": "AttributeError",
     "evalue": "'TrackFormat' object has no attribute 'upper'",
     "output_type": "error",
     "traceback": [
      "\u001b[0;31m---------------------------------------------------------------------------\u001b[0m",
      "\u001b[0;31mAttributeError\u001b[0m                            Traceback (most recent call last)",
      "Cell \u001b[0;32mIn[2], line 2\u001b[0m\n\u001b[1;32m      1\u001b[0m trk\u001b[38;5;241m.\u001b[39mObsTime\u001b[38;5;241m.\u001b[39msetReadFormat(\u001b[38;5;124m\"\u001b[39m\u001b[38;5;124m4Y-2M-2DT2h:2m:2sZ\u001b[39m\u001b[38;5;124m\"\u001b[39m)\n\u001b[0;32m----> 2\u001b[0m tracks \u001b[38;5;241m=\u001b[39m \u001b[43mtrk\u001b[49m\u001b[38;5;241;43m.\u001b[39;49m\u001b[43mTrackReader\u001b[49m\u001b[38;5;241;43m.\u001b[39;49m\u001b[43mreadFromGpx\u001b[49m\u001b[43m(\u001b[49m\u001b[38;5;124;43m'\u001b[39;49m\u001b[38;5;124;43m../../../data/gpx/activity_5807084803.gpx\u001b[39;49m\u001b[38;5;124;43m'\u001b[39;49m\u001b[43m,\u001b[49m\u001b[43m \u001b[49m\u001b[43mtrk\u001b[49m\u001b[38;5;241;43m.\u001b[39;49m\u001b[43mTrackFormat\u001b[49m\u001b[43m(\u001b[49m\u001b[43m{\u001b[49m\u001b[38;5;124;43m'\u001b[39;49m\u001b[38;5;124;43mext\u001b[39;49m\u001b[38;5;124;43m'\u001b[39;49m\u001b[43m:\u001b[49m\u001b[43m \u001b[49m\u001b[38;5;124;43m'\u001b[39;49m\u001b[38;5;124;43mGPX\u001b[39;49m\u001b[38;5;124;43m'\u001b[39;49m\u001b[43m}\u001b[49m\u001b[43m)\u001b[49m\u001b[43m)\u001b[49m\n\u001b[1;32m      3\u001b[0m trace \u001b[38;5;241m=\u001b[39m tracks\u001b[38;5;241m.\u001b[39mgetTrack(\u001b[38;5;241m0\u001b[39m)\n\u001b[1;32m      5\u001b[0m \u001b[38;5;66;03m# Transformation GEO coordinates to ENU\u001b[39;00m\n",
      "File \u001b[0;32m~/tracklib/tracklib/tracklib/io/track_reader.py:658\u001b[0m, in \u001b[0;36mTrackReader.readFromGpx\u001b[0;34m(path, srid, type, read_all, verbose)\u001b[0m\n\u001b[1;32m    649\u001b[0m \u001b[38;5;129m@staticmethod\u001b[39m\n\u001b[1;32m    650\u001b[0m \u001b[38;5;28;01mdef\u001b[39;00m \u001b[38;5;21mreadFromGpx\u001b[39m(path:\u001b[38;5;28mstr\u001b[39m,\n\u001b[1;32m    651\u001b[0m         srid: Literal[\u001b[38;5;124m\"\u001b[39m\u001b[38;5;124mGEO\u001b[39m\u001b[38;5;124m\"\u001b[39m, \u001b[38;5;124m\"\u001b[39m\u001b[38;5;124mENU\u001b[39m\u001b[38;5;124m\"\u001b[39m] \u001b[38;5;241m=\u001b[39m\u001b[38;5;124m\"\u001b[39m\u001b[38;5;124mGEO\u001b[39m\u001b[38;5;124m\"\u001b[39m, \n\u001b[1;32m    652\u001b[0m         \u001b[38;5;28mtype\u001b[39m: Literal[\u001b[38;5;124m\"\u001b[39m\u001b[38;5;124mtrk\u001b[39m\u001b[38;5;124m\"\u001b[39m, \u001b[38;5;124m\"\u001b[39m\u001b[38;5;124mrte\u001b[39m\u001b[38;5;124m\"\u001b[39m]\u001b[38;5;241m=\u001b[39m\u001b[38;5;124m\"\u001b[39m\u001b[38;5;124mtrk\u001b[39m\u001b[38;5;124m\"\u001b[39m,\n\u001b[1;32m    653\u001b[0m         read_all\u001b[38;5;241m=\u001b[39m\u001b[38;5;28;01mFalse\u001b[39;00m, verbose\u001b[38;5;241m=\u001b[39m\u001b[38;5;28;01mFalse\u001b[39;00m) \u001b[38;5;241m-\u001b[39m\u001b[38;5;241m>\u001b[39m TrackCollection:\n\u001b[1;32m    654\u001b[0m     track_format \u001b[38;5;241m=\u001b[39m TrackFormat({\u001b[38;5;124m'\u001b[39m\u001b[38;5;124mext\u001b[39m\u001b[38;5;124m'\u001b[39m: \u001b[38;5;124m'\u001b[39m\u001b[38;5;124mGPX\u001b[39m\u001b[38;5;124m'\u001b[39m,\n\u001b[1;32m    655\u001b[0m                                 \u001b[38;5;124m'\u001b[39m\u001b[38;5;124mtype\u001b[39m\u001b[38;5;124m'\u001b[39m: \u001b[38;5;28mtype\u001b[39m,\n\u001b[1;32m    656\u001b[0m                                 \u001b[38;5;124m'\u001b[39m\u001b[38;5;124msrid\u001b[39m\u001b[38;5;124m'\u001b[39m: srid,\n\u001b[1;32m    657\u001b[0m                                 \u001b[38;5;124m'\u001b[39m\u001b[38;5;124mread_all\u001b[39m\u001b[38;5;124m'\u001b[39m: read_all})\n\u001b[0;32m--> 658\u001b[0m     \u001b[38;5;28;01mreturn\u001b[39;00m \u001b[43mTrackReader\u001b[49m\u001b[38;5;241;43m.\u001b[39;49m\u001b[43mreadFromFile\u001b[49m\u001b[43m(\u001b[49m\u001b[43mpath\u001b[49m\u001b[43m,\u001b[49m\u001b[43m \u001b[49m\u001b[43mtrack_format\u001b[49m\u001b[43m,\u001b[49m\u001b[43m \u001b[49m\u001b[43mverbose\u001b[49m\u001b[43m)\u001b[49m\n",
      "File \u001b[0;32m~/tracklib/tracklib/tracklib/io/track_reader.py:163\u001b[0m, in \u001b[0;36mTrackReader.readFromFile\u001b[0;34m(path, track_format, verbose)\u001b[0m\n\u001b[1;32m    161\u001b[0m \u001b[38;5;28;01melif\u001b[39;00m fmt\u001b[38;5;241m.\u001b[39mext \u001b[38;5;241m==\u001b[39m \u001b[38;5;124m\"\u001b[39m\u001b[38;5;124mGPX\u001b[39m\u001b[38;5;124m\"\u001b[39m:\n\u001b[1;32m    162\u001b[0m     \u001b[38;5;28mprint\u001b[39m (\u001b[38;5;124m'\u001b[39m\u001b[38;5;124m----\u001b[39m\u001b[38;5;124m'\u001b[39m, fmt\u001b[38;5;241m.\u001b[39msrid)\n\u001b[0;32m--> 163\u001b[0m     \u001b[38;5;28;01mreturn\u001b[39;00m \u001b[43mTrackReader\u001b[49m\u001b[38;5;241;43m.\u001b[39;49m\u001b[43m__readFromGpx\u001b[49m\u001b[43m(\u001b[49m\u001b[43mpath\u001b[49m\u001b[43m,\u001b[49m\u001b[43m \u001b[49m\u001b[43mfmt\u001b[49m\u001b[43m,\u001b[49m\u001b[43m \u001b[49m\u001b[43mverbose\u001b[49m\u001b[43m)\u001b[49m\n\u001b[1;32m    164\u001b[0m \u001b[38;5;28;01melif\u001b[39;00m fmt\u001b[38;5;241m.\u001b[39mext \u001b[38;5;241m==\u001b[39m \u001b[38;5;124m\"\u001b[39m\u001b[38;5;124mWKT\u001b[39m\u001b[38;5;124m\"\u001b[39m:\n\u001b[1;32m    165\u001b[0m     \u001b[38;5;28;01mreturn\u001b[39;00m TrackReader\u001b[38;5;241m.\u001b[39m__readFromWkt(path, fmt, verbose)\n",
      "File \u001b[0;32m~/tracklib/tracklib/tracklib/io/track_reader.py:503\u001b[0m, in \u001b[0;36mTrackReader.__readFromGpx\u001b[0;34m(path, fmt, verbose)\u001b[0m\n\u001b[1;32m    501\u001b[0m     \u001b[38;5;28mprint\u001b[39m (fmt\u001b[38;5;241m.\u001b[39msrid)\n\u001b[1;32m    502\u001b[0m     \u001b[38;5;28mprint\u001b[39m (\u001b[38;5;28mtype\u001b[39m(fmt\u001b[38;5;241m.\u001b[39msrid))\n\u001b[0;32m--> 503\u001b[0m     pos \u001b[38;5;241m=\u001b[39m \u001b[43mmakeCoords\u001b[49m\u001b[43m(\u001b[49m\u001b[38;5;28;43mfloat\u001b[39;49m\u001b[43m(\u001b[49m\u001b[43msplits\u001b[49m\u001b[43m[\u001b[49m\u001b[38;5;241;43m3\u001b[39;49m\u001b[43m]\u001b[49m\u001b[43m)\u001b[49m\u001b[43m,\u001b[49m\u001b[43m \u001b[49m\u001b[38;5;28;43mfloat\u001b[39;49m\u001b[43m(\u001b[49m\u001b[43msplits\u001b[49m\u001b[43m[\u001b[49m\u001b[38;5;241;43m1\u001b[39;49m\u001b[43m]\u001b[49m\u001b[43m)\u001b[49m\u001b[43m,\u001b[49m\u001b[43m \u001b[49m\u001b[38;5;241;43m0\u001b[39;49m\u001b[43m,\u001b[49m\u001b[43m \u001b[49m\u001b[43mfmt\u001b[49m\u001b[38;5;241;43m.\u001b[39;49m\u001b[43msrid\u001b[49m\u001b[43m)\u001b[49m\n\u001b[1;32m    504\u001b[0m \u001b[38;5;28;01mif\u001b[39;00m (\u001b[38;5;124m'\u001b[39m\u001b[38;5;124m</\u001b[39m\u001b[38;5;124m'\u001b[39m\u001b[38;5;241m+\u001b[39mfmt\u001b[38;5;241m.\u001b[39mtype\u001b[38;5;241m+\u001b[39m\u001b[38;5;124m'\u001b[39m\u001b[38;5;124mpt>\u001b[39m\u001b[38;5;124m'\u001b[39m \u001b[38;5;129;01min\u001b[39;00m line):\n\u001b[1;32m    505\u001b[0m     new_point \u001b[38;5;241m=\u001b[39m \u001b[38;5;28;01mFalse\u001b[39;00m\n",
      "File \u001b[0;32m~/tracklib/tracklib/tracklib/core/obs_coords.py:718\u001b[0m, in \u001b[0;36mmakeCoords\u001b[0;34m(x, y, z, srid)\u001b[0m\n\u001b[1;32m    708\u001b[0m \u001b[38;5;28;01mdef\u001b[39;00m \u001b[38;5;21mmakeCoords\u001b[39m(x: \u001b[38;5;28mfloat\u001b[39m, y: \u001b[38;5;28mfloat\u001b[39m, z: \u001b[38;5;28mfloat\u001b[39m, srid: \u001b[38;5;28mstr\u001b[39m) \u001b[38;5;241m-\u001b[39m\u001b[38;5;241m>\u001b[39m Union[ENUCoords, ECEFCoords, GeoCoords]:   \n\u001b[1;32m    709\u001b[0m \u001b[38;5;250m    \u001b[39m\u001b[38;5;124;03m\"\"\"Function to form coords object from (x,y,z) data\u001b[39;00m\n\u001b[1;32m    710\u001b[0m \n\u001b[1;32m    711\u001b[0m \u001b[38;5;124;03m    :param x: 1st coordinate (X, lon or E)\u001b[39;00m\n\u001b[0;32m   (...)\u001b[0m\n\u001b[1;32m    716\u001b[0m \u001b[38;5;124;03m    :return: Coords object in the proper srid\u001b[39;00m\n\u001b[1;32m    717\u001b[0m \u001b[38;5;124;03m    \"\"\"\u001b[39;00m\n\u001b[0;32m--> 718\u001b[0m     \u001b[38;5;28;01mif\u001b[39;00m \u001b[43msrid\u001b[49m\u001b[38;5;241;43m.\u001b[39;49m\u001b[43mupper\u001b[49m() \u001b[38;5;129;01min\u001b[39;00m [\u001b[38;5;124m\"\u001b[39m\u001b[38;5;124mENUCOORDS\u001b[39m\u001b[38;5;124m\"\u001b[39m, \u001b[38;5;124m\"\u001b[39m\u001b[38;5;124mENU\u001b[39m\u001b[38;5;124m\"\u001b[39m]:\n\u001b[1;32m    719\u001b[0m         \u001b[38;5;28;01mreturn\u001b[39;00m ENUCoords(x, y, z)\n\u001b[1;32m    720\u001b[0m     \u001b[38;5;28;01mif\u001b[39;00m srid\u001b[38;5;241m.\u001b[39mupper() \u001b[38;5;129;01min\u001b[39;00m [\u001b[38;5;124m\"\u001b[39m\u001b[38;5;124mGEOCOORDS\u001b[39m\u001b[38;5;124m\"\u001b[39m, \u001b[38;5;124m\"\u001b[39m\u001b[38;5;124mGEO\u001b[39m\u001b[38;5;124m\"\u001b[39m]:\n",
      "\u001b[0;31mAttributeError\u001b[0m: 'TrackFormat' object has no attribute 'upper'"
     ]
    }
   ],
   "source": [
    "trk.ObsTime.setReadFormat(\"4Y-2M-2DT2h:2m:2sZ\")\n",
    "param = trk.TrackFormat({'ext': 'GPX'})\n",
    "tracks = trk.TrackReader.readFromGpx('../../../data/gpx/activity_5807084803.gpx', param)\n",
    "trace = tracks.getTrack(0)\n",
    "\n",
    "# Transformation GEO coordinates to ENU\n",
    "trace.toENUCoords()\n",
    "\n",
    "trace.summary()\n",
    "\n",
    "trace.rotate(-np.pi/4)\n",
    "\n",
    "plt.figure(figsize=(3, 4))\n",
    "plt.scatter(trace.getX(), trace.getY(), marker='o', c='#C0C0C0', s=2)\n",
    "plt.xlim([-100, 10])\n",
    "plt.ylim([-100, 100])\n",
    "plt.show()"
   ]
  },
  {
   "cell_type": "markdown",
   "id": "d7172c4e",
   "metadata": {},
   "source": [
    "\n",
    "## First basic method, with table index\n",
    "\n",
    "Tout simplement, vous avez la liste des index des observations qui représentent les limites des différents fragments de la trace."
   ]
  },
  {
   "cell_type": "code",
   "execution_count": null,
   "id": "187662b6",
   "metadata": {},
   "outputs": [],
   "source": [
    "idxFragments = [50, 100, 150, 189]\n",
    "collection = trk.split(trace, idxFragments)\n",
    "\n",
    "plt.figure(figsize=(3, 4))\n",
    "COLORS = ['r-','g-','b-','y-','m-','c-']\n",
    "for i in range(len(collection)):\n",
    "    collection[i].plot(COLORS[i%6], append=True)\n",
    "plt.xlim([-100, 10])\n",
    "plt.ylim([-100, 100])\n",
    "plt.show()"
   ]
  },
  {
   "cell_type": "markdown",
   "id": "3c34fb33",
   "metadata": {},
   "source": [
    "## Segmenting under any of these AF or any combination of these AF\n",
    "\n",
    "\n",
    "### Step 1: create criteria as Analytical Feature\n",
    "\n",
    "Vous n'avez pas les bornes pour la segmenter mais vous avez une méthode pour les calculer. Autrement dit, vous avez un critère permettant \n",
    "de découper la trace. Comme par exemple, la trace du quickstart qui a été découpée suivant les changements de vitesses. \n",
    "\n",
    "Pour cela, il faut tout d'abord créer des points de rupture, ils seront définis par un AF qui aura un ensemble fini de valeurs. \n",
    "Une coupure sera effective à chaque seuil passé en paramètre.\n",
    "\n",
    "Vous pouvez même combiner plusieurs AF pour découper la trace. Par défaut l'opérateur de comparaison est AND mais on peut le changer en OU.\n",
    "Dans ce cas, l'ensemble des AF sont définis dans un tableau ainsi que leurs seuils.\n",
    "\n",
    "A l'issu de la création des marqueurs, la trace est toujours conservée, mais une nouvelle AF est ajoutée. \n",
    "Elle a comme valeurs 0 sauf pour les ruptures, ce sera 1.\n",
    "\n",
    "\n",
    "\n",
    "\n",
    "\n",
    "\n"
   ]
  },
  {
   "cell_type": "code",
   "execution_count": null,
   "id": "9bcc8f1e",
   "metadata": {},
   "outputs": [],
   "source": [
    "trace.addAnalyticalFeature(trk.speed)\n",
    "trace.operate(trk.Operator.DIFFERENTIATOR, \"speed\", \"dv\")\n",
    "trace.operate(trk.Operator.RECTIFIER, \"dv\", \"absdv\")\n",
    "\n",
    "trace.addAnalyticalFeature(trk.heading)\n",
    "trace.operate(trk.Operator.RECTIFIER, \"heading\", \"absheading\")\n",
    "print ('')"
   ]
  },
  {
   "cell_type": "code",
   "execution_count": null,
   "id": "a1fd5691",
   "metadata": {},
   "outputs": [],
   "source": [
    "trk.segmentation(trace, [\"absdv\"], \"decoup1\", [1.5], trk.MODE_COMPARAISON_AND)\n",
    "trk.segmentation(trace, [\"absheading\"], \"decoup2\", [0.1], trk.MODE_COMPARAISON_AND)\n",
    "trk.segmentation(trace, [\"absdv\", \"absheading\"], \"decoup3\", [1.5, 0.1], trk.MODE_COMPARAISON_AND)"
   ]
  },
  {
   "cell_type": "markdown",
   "id": "8e3fc7f0",
   "metadata": {},
   "source": [
    "### Step 2: split under any of these AF or any combination of these AF\n",
    "\n",
    "Il reste à découper la trace suivant le marker créé précédemment. Pour cela, il faut appeler la même fonction **split** mais en spécifiant cette fois-ci\n",
    "non pas une liste des index, mais le ou les AF\n",
    "\n",
    "\n",
    "Splits track according to af name (considered as a marker) \n",
    "\n",
    "\n",
    "Return: No track if no segmentation, otherwise a TrackCollection object"
   ]
  },
  {
   "cell_type": "code",
   "execution_count": null,
   "id": "b6e0e81d",
   "metadata": {},
   "outputs": [],
   "source": [
    "TRACES1 = trk.split(trace, \"decoup1\", limit=40)\n",
    "TRACES2 = trk.split(trace, \"decoup2\", limit=40)\n",
    "TRACES3 = trk.split(trace, \"decoup3\", limit=40)"
   ]
  },
  {
   "cell_type": "code",
   "execution_count": null,
   "id": "710a47b7",
   "metadata": {
    "tags": [
     "nbsphinx-thumbnail"
    ]
   },
   "outputs": [],
   "source": [
    "COLORS = ['r','g','b','y','m','c']\n",
    "\n",
    "plt.figure(figsize=(9, 9))\n",
    "plt.subplots_adjust(top=1.3, wspace=0.4, hspace=0.2)\n",
    "\n",
    "# Figure 1\n",
    "ax1 = plt.subplot2grid((2, 2), (0, 0))\n",
    "ax1.scatter(trace.getX(), trace.getY(), marker='o', c='#000000', s=2)\n",
    "ax1.set_title(\"A runner's track on an athletics track\")\n",
    "\n",
    "# Figure 2\n",
    "ax2 = plt.subplot2grid((2, 2), (0, 1))\n",
    "ax2.scatter(trace.getX(), trace.getY(), marker='o', c='#000000', s=2)\n",
    "for i in range(len(TRACES1)):\n",
    "    track = TRACES1[i]\n",
    "    ax2.plot(track.getX(), track.getY(), color=COLORS[i%6], linestyle='-', linewidth=2)\n",
    "ax2.set_xlim([-100, 10])\n",
    "ax2.set_ylim([-100, 100])\n",
    "ax2.set_title(\"Segmentation based on changes in his running speed\")\n",
    "\n",
    "# Figure 3\n",
    "ax3 = plt.subplot2grid((2, 2), (1, 0))\n",
    "ax3.scatter(trace.getX(), trace.getY(), marker='o', c='#000000', s=2)\n",
    "for i in range(len(TRACES2)):\n",
    "    track = TRACES2[i]\n",
    "    ax3.plot(track.getX(), track.getY(), color=COLORS[i%6], linestyle='-', linewidth=3)\n",
    "ax3.set_xlim([-100, 10])\n",
    "ax3.set_ylim([-100, 100])\n",
    "ax3.set_title(\"Segmentation based on its heading\")\n",
    "\n",
    "# Figure 4\n",
    "ax4 = plt.subplot2grid((2, 2), (1, 1))\n",
    "ax4.scatter(trace.getX(), trace.getY(), marker='o', c='#000000', s=2)\n",
    "for i in range(len(TRACES3)):\n",
    "    track = TRACES3[i]\n",
    "    ax4.plot(track.getX(), track.getY(), color=COLORS[i%6], linestyle='-', linewidth=4)\n",
    "ax4.set_xlim([-100, 10])\n",
    "ax4.set_ylim([-100, 100])\n",
    "ax4.set_title(\"Segmentation based on its heading AND on changes in his running speed\")"
   ]
  }
 ],
 "metadata": {
  "celltoolbar": "Tags",
  "kernelspec": {
   "display_name": "Python 3 (ipykernel)",
   "language": "python",
   "name": "python3"
  },
  "language_info": {
   "codemirror_mode": {
    "name": "ipython",
    "version": 3
   },
   "file_extension": ".py",
   "mimetype": "text/x-python",
   "name": "python",
   "nbconvert_exporter": "python",
   "pygments_lexer": "ipython3",
   "version": "3.10.12"
  }
 },
 "nbformat": 4,
 "nbformat_minor": 5
}
