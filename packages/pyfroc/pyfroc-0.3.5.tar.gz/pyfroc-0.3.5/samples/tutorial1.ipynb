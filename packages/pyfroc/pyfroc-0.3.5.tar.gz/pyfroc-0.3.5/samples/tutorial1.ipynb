{
 "cells": [
  {
   "cell_type": "markdown",
   "metadata": {},
   "source": [
    "# Tutorial for pyfroc\n",
    "\n",
    "This tutorial demonstrates a walkthrough of AFROC analysis using the pyfroc framework.\n",
    "\n",
    "## Installation of pyfroc"
   ]
  },
  {
   "cell_type": "code",
   "execution_count": null,
   "metadata": {},
   "outputs": [],
   "source": [
    "%%sh\n",
    "pip install pyfroc"
   ]
  },
  {
   "cell_type": "markdown",
   "metadata": {},
   "source": [
    "Check if the pyfroc command is installed correctly"
   ]
  },
  {
   "cell_type": "code",
   "execution_count": null,
   "metadata": {},
   "outputs": [],
   "source": [
    "%%sh\n",
    "pyfroc -h"
   ]
  },
  {
   "cell_type": "markdown",
   "metadata": {},
   "source": [
    "## Load sample data of pyfroc"
   ]
  },
  {
   "cell_type": "code",
   "execution_count": null,
   "metadata": {},
   "outputs": [],
   "source": [
    "%%sh\n",
    "pyfroc sample --dicom --experiment --target-dir \"./sample_data\""
   ]
  },
  {
   "cell_type": "markdown",
   "metadata": {},
   "source": [
    "The sample files will be saved to `./sample_data` directory.\n",
    "\n",
    "- `./sample_data/dicom` dicrectory containing dicom files of 3 cases from the [LIDC-IDRI study](https://www.cancerimagingarchive.net/collection/lidc-idri/)\n",
    "- `./sample_data/experiment` directory containing lesion reference .nrrd files and response .nrrd files (2 rater and 2 modality)"
   ]
  },
  {
   "cell_type": "code",
   "execution_count": null,
   "metadata": {},
   "outputs": [],
   "source": [
    "%%sh\n",
    "ls -l ./sample_data"
   ]
  },
  {
   "cell_type": "markdown",
   "metadata": {},
   "source": [
    "## Evaluate the responses and generate a .xlsx file for AFROC analysis"
   ]
  },
  {
   "cell_type": "code",
   "execution_count": null,
   "metadata": {},
   "outputs": [],
   "source": [
    "%%sh\n",
    "pyfroc evaluate --eval-dir \"./sample_data/experiment\" --write-img --dicom-dir \"./sample_data/dicom\"\n"
   ]
  },
  {
   "cell_type": "markdown",
   "metadata": {},
   "source": [
    "Now, you can find something below.\n",
    "\n",
    "- `./sample_data/experiment/lesion_response_images` directory containing images pairing the responses and reference lesion\n",
    "- `./sample_data/rjafroc_input.xlsx` file for AFROC analysis using RJafroc library\n",
    "\n",
    "## Run a R script\n",
    "\n",
    "Run a R script for AFROC and statistical analysis using RJafroc.\n",
    "\n",
    "Here, we use a sample R script `afroc_analysis.R`. You can find the sciprt at https://github.com/akchan/pyfroc/samples/afroc_analysis.R."
   ]
  },
  {
   "cell_type": "code",
   "execution_count": null,
   "metadata": {},
   "outputs": [],
   "source": [
    "%%sh\n",
    "Rscript ./afroc_analysis.R"
   ]
  },
  {
   "cell_type": "markdown",
   "metadata": {},
   "source": [
    "Finally, you can find the AFROC curve plot as the `wAFROC_averaged.pdf` file and the `wAFROC_each_reader.pdf` file."
   ]
  },
  {
   "cell_type": "markdown",
   "metadata": {},
   "source": []
  }
 ],
 "metadata": {
  "kernelspec": {
   "display_name": "hatch_env",
   "language": "python",
   "name": "python3"
  },
  "language_info": {
   "codemirror_mode": {
    "name": "ipython",
    "version": 3
   },
   "file_extension": ".py",
   "mimetype": "text/x-python",
   "name": "python",
   "nbconvert_exporter": "python",
   "pygments_lexer": "ipython3",
   "version": "3.11.8"
  }
 },
 "nbformat": 4,
 "nbformat_minor": 2
}
