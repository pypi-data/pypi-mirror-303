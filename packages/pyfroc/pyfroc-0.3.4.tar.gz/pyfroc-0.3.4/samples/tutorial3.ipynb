{
 "cells": [
  {
   "cell_type": "markdown",
   "metadata": {},
   "source": [
    " # Tutorial for modifying behavior in pyfroc\n",
    "\n",
    "pyfroc has CLI options to modify its behavior. In some cases, these are not enough in your environment. Here are example scenarios.\n",
    "\n",
    "- The responses are recorded in another file format instead of .nrrd.\n",
    "- You want to use lesions not approximated as a sphere but in exact 3D volume.\n",
    "\n",
    "## Base classes to change pyfroc's behavior\n",
    "\n",
    "- BaseLoader: loading a reference lesion or response\n",
    "- BaseLesion and BaseResponse: the representation of reference lesion and response\n",
    "- BaseRater: Devide each reasponse into true or false positive\n",
    "- BaseWriter: Write a file for further analysis (e.g. xlsx file for RJafroc)\n",
    "\n",
    "## Make a CsvLoader\n",
    "\n",
    "In this tutorial, we will define a CsvLoader to read CSV files in which responses are recorded.\n",
    "\n",
    "To make your own behavior, define a class inheriting BaseLoader and define "
   ]
  },
  {
   "cell_type": "code",
   "execution_count": null,
   "metadata": {},
   "outputs": [],
   "source": [
    "import csv\n",
    "import glob\n",
    "import os\n",
    "from typing import Sequence\n",
    "\n",
    "from pyfroc.coords import ScannerCoordinates\n",
    "from pyfroc.loaders import BaseLoader\n",
    "from pyfroc.signals import Response\n",
    "\n",
    "\n",
    "class CsvLoader(BaseLoader):\n",
    "    # Concrete implementation of the abstract method of BaseLoader\n",
    "    def read_responses(self, case_dir_path: str) -> Sequence[Response]:\n",
    "        series_responses: list[Response] = []\n",
    "\n",
    "        for csv_path in CsvLoader.list_csv_path(case_dir_path):\n",
    "            series_responses.extend(CsvLoader.read_csv(csv_path))\n",
    "\n",
    "        return series_responses\n",
    "\n",
    "    # Definitions of utility methods\n",
    "    #\n",
    "    @staticmethod\n",
    "    def list_csv_path(dir_path: str) -> Sequence[str]:\n",
    "        return glob.glob(os.path.join(dir_path, \"*.csv\"))\n",
    "\n",
    "    @staticmethod\n",
    "    def read_csv(csv_path: str) -> Sequence[Response]:\n",
    "        ret: Sequence[Response] = []\n",
    "        \n",
    "        with open(csv_path, \"r\") as f:            \n",
    "            csv_reader = csv.DictReader(f)\n",
    "            \n",
    "            for row in csv_reader:\n",
    "                x = float(row[\"x\"])\n",
    "                y = float(row[\"y\"])\n",
    "                z = float(row[\"z\"])\n",
    "                coords = ScannerCoordinates(x, y, z)\n",
    "                \n",
    "                confidence = float(row[\"confidence\"])\n",
    "                r = float(row[\"r\"])\n",
    "                name = row[\"name\"]\n",
    "\n",
    "                response = Response(coords, confidence, r, name)\n",
    "\n",
    "                ret.append(response)\n",
    "            \n",
    "        return ret"
   ]
  },
  {
   "cell_type": "markdown",
   "metadata": {},
   "source": [
    "Then, pass an instance of the defined loader class."
   ]
  },
  {
   "cell_type": "code",
   "execution_count": null,
   "metadata": {},
   "outputs": [],
   "source": [
    "from pyfroc.raters import WithinLesionRater\n",
    "from pyfroc.writers import RJAFROCWriter, ResponseLesionImagesWriter\n",
    "\n",
    "experiment_dir_path = \"experiment\"\n",
    "xlsx_path = \"rjafroc.xlsx\"\n",
    "\n",
    "loader = CsvLoader(experiment_dir_path)\n",
    "loader.validate_dirs()\n",
    "\n",
    "rater = WithinLesionRater(loader)\n",
    "\n",
    "RJAFROCWriter.write(xlsx_path, rater)\n",
    "\n",
    "# If you want to output the images of the responses in the lesions\n",
    "dicom_dir_path = \"dicom\"\n",
    "ResponseLesionImagesWriter.write(rater, dicom_dir_path, experiment_dir_path)\n"
   ]
  }
 ],
 "metadata": {
  "language_info": {
   "name": "python"
  }
 },
 "nbformat": 4,
 "nbformat_minor": 2
}
