{
 "cells": [
  {
   "cell_type": "markdown",
   "metadata": {},
   "source": [
    "# Tutorial for pyfroc\n",
    "\n",
    "This tutorial demonstrates a typical process of AFROC analysis using pyfroc framework and your DICOM images.\n",
    "\n",
    "## 1. Install pyfroc"
   ]
  },
  {
   "cell_type": "code",
   "execution_count": null,
   "metadata": {},
   "outputs": [],
   "source": [
    "%%sh\n",
    "pip install pyfroc"
   ]
  },
  {
   "cell_type": "markdown",
   "metadata": {},
   "source": [
    "Check if the pyfroc command is installed correctly"
   ]
  },
  {
   "cell_type": "code",
   "execution_count": null,
   "metadata": {},
   "outputs": [],
   "source": [
    "%%sh\n",
    "pyfroc -h"
   ]
  },
  {
   "cell_type": "markdown",
   "metadata": {},
   "source": [
    "## 2. Prepare a working directory"
   ]
  },
  {
   "cell_type": "code",
   "execution_count": null,
   "metadata": {},
   "outputs": [],
   "source": [
    "%%sh\n",
    "mkdir ./sample_experiment\n",
    "cd ./sample_experiment"
   ]
  },
  {
   "cell_type": "markdown",
   "metadata": {},
   "source": [
    "## 3. Preapre DICOM images\n",
    "\n",
    "Prepare your DICOM images on which the reference lesions and responses will be recorded.\n",
    "\n",
    "All DICOM images should be stored in one directory. Here, we use `dicom` directory."
   ]
  },
  {
   "cell_type": "code",
   "execution_count": null,
   "metadata": {},
   "outputs": [],
   "source": [
    "%%sh\n",
    "mkdir ./dicom\n",
    "cp -r ./your_dicom_data_dir ./dicom"
   ]
  },
  {
   "cell_type": "markdown",
   "metadata": {},
   "source": [
    "## 4. Prepare directories for this experiment\n",
    "\n",
    "Run pyfroc command below.\n",
    "\n",
    "This command generates directories in which the .nrrd file of reference lesions and responses will be stored."
   ]
  },
  {
   "cell_type": "code",
   "execution_count": 1,
   "metadata": {},
   "outputs": [
    {
     "name": "stdout",
     "output_type": "stream",
     "text": [
      "usage: Usage: pyfroc [subcommand] [options] prepare [-h] --dicom-dir DICOM_DIR\n",
      "                                                    [--target-dir TARGET_DIR]\n",
      "                                                    [--num-of-raters NUM_OF_RATERS]\n",
      "                                                    [--num-of-modalities NUM_OF_MODALITIES]\n",
      "\n",
      "options:\n",
      "  -h, --help            show this help message and exit\n",
      "  --dicom-dir DICOM_DIR\n",
      "                        Path to the root directory of DICOM files used in the\n",
      "                        experiment.\n",
      "  --target-dir TARGET_DIR\n",
      "                        Path to the target directory where the prepared files\n",
      "                        will be stored. The responses of the raters and the\n",
      "                        reference files should be stored in this directory.\n",
      "                        The default is ./experiment.\n",
      "  --num-of-raters NUM_OF_RATERS\n",
      "                        Number of raters in the experiment. Default is 3.\n",
      "  --num-of-modalities NUM_OF_MODALITIES\n",
      "                        Number of modalities (or treatments) in the\n",
      "                        experiment. Default is 2.\n"
     ]
    }
   ],
   "source": [
    "%%sh\n",
    "pyfroc prepare --dicom-dir ./dicom --output-dir ./experiment --num-of-raters 2 --num-of-modalities 2"
   ]
  },
  {
   "cell_type": "markdown",
   "metadata": {},
   "source": [
    "The generated directories look like below.\n",
    "\n",
    "```\n",
    "experiment\n",
    "    ├── reference\n",
    "    │   ├── LIDC-IDRI-0001           <- Patient name\n",
    "    │   │   └── 20000101_CT         <- Study date and modality\n",
    "    │   │       └── SE3000566       <- Series number (save .nrrd file here)\n",
    "    └── responses\n",
    "        ├── rater01                   <- Rater name\n",
    "        │   ├── LIDC-IDRI-0001       <- Patient name\n",
    "        │   │   ├── 20000101_CT0    <- Study date and modality ID\n",
    "        │   │   │   └── SE3000566  <- Series number (save .nrrd file here)\n",
    "        │   │   └── 20000101_CT1    <- Study date and modality ID\n",
    "        │   │       └── SE3000566   <- Series number (save .nrrd file here)\n",
    "```"
   ]
  },
  {
   "cell_type": "markdown",
   "metadata": {},
   "source": [
    "## 5. Prepare reference lesions\n",
    "\n",
    "The built-in loader of pyfroc can read .nrrd files. Here, we use `3D Slicer` to make .nrrd files of the reference lesions. See [3D Slicer image computing platform | 3D Slicer](https://www.slicer.org/) to install 3D Slicer.\n",
    "\n",
    "After launching 3D Slicer, drag and drop your dicom images from your file exploer to the 3D Slicer window to import.\n",
    "\n",
    "Then, open the case image and select the segmentation tool.\n",
    "\n",
    "![img1](./img/tutorial2_1.png)\n",
    "\n",
    "Annotate one lesion for one segmentation. The lesion is approximated as a minimal sphere enclosing the annotated mask. So you can annotate the lesion only on the largest cross-sectional image. You don't have to annotate entire the lesion.\n",
    "\n",
    "The confidence level is ignored for the reference lesions. It is used for responses.\n",
    "\n",
    "![img2](./img/tutorial2_2.png)\n",
    "\n",
    "Save the segmentations of the reference lesions as a .nrrd file. The file should be in the corresponding `reference` directory prepared before.\n",
    "\n",
    "![img3](./img/tutorial2_3.png)\n",
    "\n",
    "If you have more series or patients, repeat the process above.\n",
    "\n",
    "(*) Remember the \"close scene\" before starting the next patient's process to prevent contaminating the patients' coordinate systems.\n",
    "\n",
    "Finally, you have directories and files like below.\n",
    "\n",
    "![img4](./img/tutorial2_4.png)\n",
    "\n",
    "## 6. Conduct an image reading experiment for each rater\n",
    "\n",
    "Make .nrrd files of the responses of each rater in the same way of above.\n",
    "\n",
    "Remember the .nrrd files should be save the corresponding `responses` directory.\n",
    "\n",
    "## 7.Evaluate the responses and generate a .xlsx file for AFROC analysis"
   ]
  },
  {
   "cell_type": "code",
   "execution_count": null,
   "metadata": {},
   "outputs": [],
   "source": [
    "%%sh\n",
    "pyfroc evaluate --eval-dir \"./sample_experiment/experiment\" --write-img --dicom-dir \"./sample_experiment/dicom\"\n"
   ]
  },
  {
   "cell_type": "markdown",
   "metadata": {},
   "source": [
    "Now, you can find something below.\n",
    "\n",
    "- `./sample_experiment/experiment/lesion_response_images` directory containing images pairing the responses and reference lesion\n",
    "- `./sample_experiment/rjafroc_input.xlsx` file for AFROC analysis using RJafroc library\n",
    "\n",
    "## Run a R script\n",
    "\n",
    "Run a R script for AFROC and statistical analysis using RJafroc.\n",
    "\n",
    "Here, we use a sample R script `afroc_analysis.R`. You can find the sciprt at https://github.com/akchan/pyfroc/samples/afroc_analysis.R."
   ]
  },
  {
   "cell_type": "code",
   "execution_count": null,
   "metadata": {},
   "outputs": [],
   "source": [
    "%%sh\n",
    "Rscript ./afroc_analysis.R"
   ]
  },
  {
   "cell_type": "markdown",
   "metadata": {},
   "source": [
    "Finally, you can find the AFROC curve plot as the `wAFROC_averaged.pdf` file and the `wAFROC_each_reader.pdf` file."
   ]
  },
  {
   "cell_type": "markdown",
   "metadata": {},
   "source": []
  }
 ],
 "metadata": {
  "kernelspec": {
   "display_name": "hatch_env",
   "language": "python",
   "name": "python3"
  },
  "language_info": {
   "codemirror_mode": {
    "name": "ipython",
    "version": 3
   },
   "file_extension": ".py",
   "mimetype": "text/x-python",
   "name": "python",
   "nbconvert_exporter": "python",
   "pygments_lexer": "ipython3",
   "version": "3.11.8"
  }
 },
 "nbformat": 4,
 "nbformat_minor": 2
}
