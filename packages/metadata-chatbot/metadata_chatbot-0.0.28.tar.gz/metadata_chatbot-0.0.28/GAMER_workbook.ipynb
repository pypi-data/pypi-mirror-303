{
 "cells": [
  {
   "cell_type": "markdown",
   "metadata": {},
   "source": [
    "# GAMER: Generative Analysis of Metadata Retrieval"
   ]
  },
  {
   "cell_type": "markdown",
   "metadata": {},
   "source": [
    "This model uses a multi agent framework on Langraph to retrieve and summarize metadata information based on a user's natural language query. \n",
    "\n",
    "This workflow consists of 6 agents, or nodes, where a decision is made and there is new context provided to either the model or the user. Here are some decisions incorporated into the framework:\n",
    "1. To best answer the query, does the entire database need to be queried, or the vector index?\n",
    "- Input: `x (query)`\n",
    "- Decides best data to query against\n",
    "- Output: `entire_database, vector_embeddings`\n",
    "2. If querying against the vector embeddings, does the index need to be filtered further with metdata tags, to improve optimization of retrieval?\n",
    "- Input: `x (query)`\n",
    "- Decides whether database can be further filtered by applying a MongoDB query\n",
    "- Output: `MongoDB query, None`\n",
    "3. Are the documents retrieved during retrieval relevant to the question?\n",
    "- Input: `x (query)`\n",
    "- Decides whether document should be kept or tossed during summarization\n",
    "- Output: `yes, no`\n"
   ]
  },
  {
   "cell_type": "markdown",
   "metadata": {},
   "source": [
    "![Graph workflow](C:\\Users\\sreya.kumar\\Documents\\GitHub\\metadata-chatbot\\graph_workflow.png)"
   ]
  },
  {
   "cell_type": "markdown",
   "metadata": {},
   "source": [
    "## Calling the model"
   ]
  },
  {
   "cell_type": "markdown",
   "metadata": {},
   "source": [
    "### Synchronous calling"
   ]
  },
  {
   "cell_type": "code",
   "execution_count": 9,
   "metadata": {},
   "outputs": [
    {
     "name": "stdout",
     "output_type": "stream",
     "text": [
      "The injections used in SmartSPIM_675387_2023-05-23_23-05-56 are:\n",
      "\n",
      "1. AAVrg-Syn-H2B-tdTomato virus with titer 51000000000000 gc/mL and prep lot number 221111-23.\n",
      "\n",
      "2. AAVrg-Syn-H2B-Turquoise virus with titer 48000000000000 gc/mL and prep lot number 221111-22.\n",
      "\n",
      "The injection coordinates were:\n",
      "AP: 1.2 mm\n",
      "ML: 1.4 mm \n",
      "Depth: 0.8 mm\n",
      "Reference: Bregma\n",
      "Injection volume: 50 nL\n",
      "Targeted structure: Isocortex\n",
      "Hemisphere: Right\n"
     ]
    }
   ],
   "source": [
    "from metadata_chatbot.agents.gamer import GAMER\n",
    "query = \"What are the injections used in SmartSPIM_675387_2023-05-23_23-05-56\"\n",
    "\n",
    "model = GAMER()\n",
    "result = model.invoke(query)\n",
    "print(result)"
   ]
  },
  {
   "cell_type": "markdown",
   "metadata": {},
   "source": [
    "### Asynchronous calling"
   ]
  },
  {
   "cell_type": "code",
   "execution_count": 6,
   "metadata": {},
   "outputs": [
    {
     "name": "stdout",
     "output_type": "stream",
     "text": [
      "Based on the provided context, here is a summary of the timeline of events for subject 675387:\n",
      "\n",
      "1. On 2023-03-31, a surgery was performed by Mathew Summers under IACUC protocol 2109. The animal's weight before and after the surgery was 15.6g and 15.8g respectively.\n",
      "\n",
      "2. On 2023-04-28, another surgery was performed by experimenter 30509. This surgery involved a perfusion procedure (dx.doi.org/10.17504/protocols.io.bg5vjy66) which generated specimen 675387. \n",
      "\n",
      "3. Between 2023-04-21 and 2023-04-24, a SHIELD OFF fixation procedure was performed on specimen 675387 by experimenter DT using SHIELD Epoxy and SHIELD Buffer reagents from LiveCanvas Technologies.\n",
      "\n",
      "4. Between 2023-04-24 and 2023-04-25, a SHIELD ON fixation procedure was performed on the same specimen by DT using SHIELD ON reagent.\n",
      "\n",
      "5. On 2023-04-30 and 2023-05-01, a 24h Delipidation procedure was carried out using Delipidation Buffer from LiveCanvas.\n",
      "\n",
      "6. From 2023-05-01 to 2023-05-03, an Active Delipidation procedure was performed using Conduction Buffer.\n",
      "\n",
      "7. Between 2023-05-03 and 2023-05-04, the specimen underwent 50% refractive index matching using EasyIndex reagent.\n",
      "\n",
      "8. From 2023-05-04 to 2023-05-05, 100% refractive index matching was done using EasyIndex.\n",
      "\n",
      "9. The SHIELD OFF, passive delipidation, active delipidation, and refractive index matching steps were repeated between 2023-05-08 and 2023-05-20 as noted in the procedure notes.\n"
     ]
    }
   ],
   "source": [
    "from metadata_chatbot.agents.gamer import GAMER\n",
    "llm = GAMER()\n",
    "query = \"Can you give me a timeline of events for subject 675387?\"\n",
    "\n",
    "result = await llm.ainvoke(query)\n",
    "print(result)"
   ]
  }
 ],
 "metadata": {
  "kernelspec": {
   "display_name": ".venv",
   "language": "python",
   "name": "python3"
  },
  "language_info": {
   "codemirror_mode": {
    "name": "ipython",
    "version": 3
   },
   "file_extension": ".py",
   "mimetype": "text/x-python",
   "name": "python",
   "nbconvert_exporter": "python",
   "pygments_lexer": "ipython3",
   "version": "3.9.13"
  }
 },
 "nbformat": 4,
 "nbformat_minor": 2
}
