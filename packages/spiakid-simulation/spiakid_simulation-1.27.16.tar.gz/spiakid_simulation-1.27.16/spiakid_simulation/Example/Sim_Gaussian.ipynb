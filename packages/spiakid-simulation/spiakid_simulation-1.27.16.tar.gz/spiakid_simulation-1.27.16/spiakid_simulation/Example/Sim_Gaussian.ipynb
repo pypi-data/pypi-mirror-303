{
 "cells": [
  {
   "attachments": {},
   "cell_type": "markdown",
   "metadata": {},
   "source": [
    "Gaussian simulation\n",
    "===================\n",
    "\n",
    "The goal of this simulation is to use a gaussian PSF (Point Source Function) so all the star will be only a point.\n",
    "\n",
    "Careful: if you look at the input file, you can see that the processor number is equal to 5. If your computer/servor can't use all those processors, change it !"
   ]
  },
  {
   "attachments": {},
   "cell_type": "markdown",
   "metadata": {},
   "source": [
    "First, let's import the packages we need:"
   ]
  },
  {
   "cell_type": "code",
   "execution_count": null,
   "metadata": {},
   "outputs": [],
   "source": [
    "import numpy as np\n",
    "import matplotlib.pyplot as plt\n",
    "import spiakid_simulation.PhotonSimulator as PS"
   ]
  },
  {
   "attachments": {},
   "cell_type": "markdown",
   "metadata": {},
   "source": [
    "Then, let's run the simulator:"
   ]
  },
  {
   "cell_type": "code",
   "execution_count": null,
   "metadata": {},
   "outputs": [],
   "source": [
    "sim = PS.PhotonSimulator('Template_Gaussian.yaml')"
   ]
  },
  {
   "attachments": {},
   "cell_type": "markdown",
   "metadata": {},
   "source": [
    "Now, all the results are available, let's look all the photon we created (the color is the photon's wavelength indicated in µm):"
   ]
  },
  {
   "cell_type": "code",
   "execution_count": null,
   "metadata": {},
   "outputs": [],
   "source": [
    "x = []\n",
    "y = []\n",
    "lbd = []\n",
    "for i in range(len(sim.photon_dict)):\n",
    "    x.append(sim.photon_dict[i][0])\n",
    "    y.append(sim.photon_dict[i][1])\n",
    "    lbd.append(sim.photon_dict[i][2])\n",
    "plt.scatter(x,y,c=lbd)\n",
    "plt.colorbar()\n",
    "pos = [sim.star_pos[0][1],sim.star_pos[0][2]]\n",
    "plt.title('Photon of a star at '+str(pos))"
   ]
  },
  {
   "attachments": {},
   "cell_type": "markdown",
   "metadata": {},
   "source": [
    "We can see that the photons are not on the same point, let's see what does the psf look like:"
   ]
  },
  {
   "cell_type": "code",
   "execution_count": null,
   "metadata": {},
   "outputs": [],
   "source": [
    "plt.imshow(sim.psf_visu[:,:,00],origin='lower')\n",
    "plt.colorbar()\n",
    "plt.title('PSF at 0.4µm')"
   ]
  },
  {
   "attachments": {},
   "cell_type": "markdown",
   "metadata": {},
   "source": [
    "According to what we see, it seems weird to have this photon distribution with a PSF looking like that, but the simulator works with **interpolation**, so let's take a look closer to what we have:"
   ]
  },
  {
   "cell_type": "code",
   "execution_count": null,
   "metadata": {},
   "outputs": [],
   "source": [
    "x = np.linspace(0,9,10)\n",
    "y = np.linspace(0,9,10)\n",
    "X,Y = np.meshgrid(x,y)\n",
    "fig = plt.figure()\n",
    "ax = plt.axes(projection='3d')\n",
    "ax.plot_wireframe(X, Y, sim.psf_visu[:,:,00], color='black')\n",
    "plt.title('3D PSF vizualisation')"
   ]
  },
  {
   "attachments": {},
   "cell_type": "markdown",
   "metadata": {},
   "source": [
    "We see that we have a non null probability to have photons on the pixel around the position of the star. So if we look at the photons that arrived on the detector we will have:"
   ]
  },
  {
   "cell_type": "code",
   "execution_count": null,
   "metadata": {},
   "outputs": [],
   "source": [
    "a = np.zeros([10,10])\n",
    "for i in range(len(a)):\n",
    "    for j in range(len(a)):\n",
    "        a[i,j] = len(sim.wavelength[i,j])\n",
    "\n",
    "plt.imshow(a.T, origin='lower')\n",
    "plt.title('Number of photon on the detector')\n",
    "plt.colorbar()"
   ]
  },
  {
   "attachments": {},
   "cell_type": "markdown",
   "metadata": {},
   "source": [
    "If we want to have photons on a smaller surface, you have to increase the pixel number in the Yaml. But be carefull about their size."
   ]
  }
 ],
 "metadata": {
  "kernelspec": {
   "display_name": "sim_env",
   "language": "python",
   "name": "python3"
  },
  "language_info": {
   "codemirror_mode": {
    "name": "ipython",
    "version": 3
   },
   "file_extension": ".py",
   "mimetype": "text/x-python",
   "name": "python",
   "nbconvert_exporter": "python",
   "pygments_lexer": "ipython3",
   "version": "3.10.12"
  },
  "orig_nbformat": 4,
  "vscode": {
   "interpreter": {
    "hash": "8670868e01929712f50dd97a406782e899e5f5ce47feda352077786530c2f839"
   }
  }
 },
 "nbformat": 4,
 "nbformat_minor": 2
}
