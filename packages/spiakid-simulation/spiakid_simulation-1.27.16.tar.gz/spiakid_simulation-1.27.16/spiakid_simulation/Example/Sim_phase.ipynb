{
 "cells": [
  {
   "attachments": {},
   "cell_type": "markdown",
   "metadata": {},
   "source": [
    "Complete simulation\n",
    "===================\n",
    "\n",
    "The goal of this simulation is to use the totality of the simulator, from the creation of the stars to the noisy phase signal.\n",
    "\n",
    "Careful: if you look at the input file, you can see that the processor number is equal to 5. If your computer/servor can't use all those processors, change it !"
   ]
  },
  {
   "attachments": {},
   "cell_type": "markdown",
   "metadata": {},
   "source": [
    "First, let's import the packages we need:"
   ]
  },
  {
   "cell_type": "code",
   "execution_count": null,
   "metadata": {},
   "outputs": [],
   "source": [
    "import numpy as np\n",
    "import matplotlib.pyplot as plt\n",
    "import spiakid_simulation.PhotonSimulator as PS"
   ]
  },
  {
   "attachments": {},
   "cell_type": "markdown",
   "metadata": {},
   "source": [
    "Then, let's run the simulator:"
   ]
  },
  {
   "cell_type": "code",
   "execution_count": null,
   "metadata": {},
   "outputs": [],
   "source": [
    "sim = PS.PhotonSimulator('Template_phase.yaml')"
   ]
  },
  {
   "attachments": {},
   "cell_type": "markdown",
   "metadata": {},
   "source": [
    "Now, all the results are available, let's look all the photon we created (the color is the photon's wavelength indicated in µm):"
   ]
  },
  {
   "cell_type": "code",
   "execution_count": null,
   "metadata": {},
   "outputs": [],
   "source": [
    "x = []\n",
    "y = []\n",
    "lbd = []\n",
    "for i in range(len(sim.photon_dict)):\n",
    "    x.append(sim.photon_dict[i][0])\n",
    "    y.append(sim.photon_dict[i][1])\n",
    "    lbd.append(sim.photon_dict[i][2])\n",
    "plt.scatter(x,y,c=lbd)\n",
    "plt.colorbar()\n",
    "plt.xlim([0,10])\n",
    "plt.ylim([0,10])\n",
    "plt.title('Distribution of all photon')"
   ]
  },
  {
   "attachments": {},
   "cell_type": "markdown",
   "metadata": {},
   "source": [
    "Now, let's look at the number of photon arrived on the detector:"
   ]
  },
  {
   "cell_type": "code",
   "execution_count": null,
   "metadata": {},
   "outputs": [],
   "source": [
    "a = np.zeros([10,10])\n",
    "for i in range(len(a)):\n",
    "    for j in range(len(a)):\n",
    "        a[i,j] = len(sim.wavelength[i,j])\n",
    "\n",
    "\n",
    "plt.imshow(a.T, origin='lower')\n",
    "plt.colorbar()\n",
    "plt.title('Detector result')\n",
    "plt.xlabel('x')\n",
    "plt.ylabel('y')"
   ]
  },
  {
   "attachments": {},
   "cell_type": "markdown",
   "metadata": {},
   "source": [
    "Now let's look at the result of the simulation: the phase signal. In the code below, enter the pixel location where most of the photons arrived (look at the figure above)"
   ]
  },
  {
   "cell_type": "code",
   "execution_count": null,
   "metadata": {},
   "outputs": [],
   "source": [
    "x = \n",
    "y = "
   ]
  },
  {
   "cell_type": "code",
   "execution_count": null,
   "metadata": {},
   "outputs": [],
   "source": [
    "plt.plot(sim.phase[x,y][0],sim.phase[x,y][1])\n",
    "plt.title('Phase signal')\n",
    "plt.xlabel('Time')\n",
    "plt.ylabel('Phase')"
   ]
  },
  {
   "attachments": {},
   "cell_type": "markdown",
   "metadata": {},
   "source": [
    "And now, let's see what this signal looks like when we apply th efilter on it:"
   ]
  },
  {
   "cell_type": "code",
   "execution_count": null,
   "metadata": {},
   "outputs": [],
   "source": [
    "plt.plot(sim.fil_phase[x,y][0],sim.fil_phase[x,y][1])\n",
    "plt.title('Pixel [3,2]')\n",
    "plt.xlabel('Time')\n",
    "plt.ylabel('Filtered Phase')"
   ]
  }
 ],
 "metadata": {
  "kernelspec": {
   "display_name": "test_sim",
   "language": "python",
   "name": "python3"
  },
  "language_info": {
   "codemirror_mode": {
    "name": "ipython",
    "version": 3
   },
   "file_extension": ".py",
   "mimetype": "text/x-python",
   "name": "python",
   "nbconvert_exporter": "python",
   "pygments_lexer": "ipython3",
   "version": "3.10.12"
  },
  "orig_nbformat": 4,
  "vscode": {
   "interpreter": {
    "hash": "dfb37601284865693e222cd633375a890560064f9bd2e85521c3342b21ec05f3"
   }
  }
 },
 "nbformat": 4,
 "nbformat_minor": 2
}
