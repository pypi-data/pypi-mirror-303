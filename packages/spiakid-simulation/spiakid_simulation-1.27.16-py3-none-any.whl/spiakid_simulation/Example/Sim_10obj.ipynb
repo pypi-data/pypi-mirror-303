{
 "cells": [
  {
   "attachments": {},
   "cell_type": "markdown",
   "metadata": {},
   "source": [
    "10 objects simulation\n",
    "=====================\n",
    "\n",
    "This Notebook's goal is to create a sky simulation where there is 10 stars. The Yaml file is named \"Template_10obj.yaml\".\n",
    "\n",
    "Careful: if you look at the input file, you can see that the processor number is equal to 5. If your computer/servor can't use all those processors, change it !"
   ]
  },
  {
   "attachments": {},
   "cell_type": "markdown",
   "metadata": {},
   "source": [
    "First, let's import the packages we need:"
   ]
  },
  {
   "cell_type": "code",
   "execution_count": null,
   "metadata": {},
   "outputs": [],
   "source": [
    "import numpy as np\n",
    "import matplotlib.pyplot as plt\n",
    "import spiakid_simulation.PhotonSimulator as PS"
   ]
  },
  {
   "attachments": {},
   "cell_type": "markdown",
   "metadata": {},
   "source": [
    "Then, let's run the simulator:"
   ]
  },
  {
   "cell_type": "code",
   "execution_count": null,
   "metadata": {},
   "outputs": [],
   "source": [
    "sim = PS.PhotonSimulator('Template_10obj.yaml')"
   ]
  },
  {
   "attachments": {},
   "cell_type": "markdown",
   "metadata": {},
   "source": [
    "Now, all the results are available, let's look all the photon we created (the color is the photon's wavelength indicated in µm):"
   ]
  },
  {
   "cell_type": "code",
   "execution_count": null,
   "metadata": {},
   "outputs": [],
   "source": [
    "x = []\n",
    "y = []\n",
    "lbd = []\n",
    "for i in range(len(sim.photon_dict)):\n",
    "    x.append(sim.photon_dict[i][0])\n",
    "    y.append(sim.photon_dict[i][1])\n",
    "    lbd.append(sim.photon_dict[i][2])\n",
    "plt.scatter(x,y,c=lbd)\n",
    "plt.colorbar()\n",
    "plt.title('Distribution of all photon')"
   ]
  },
  {
   "attachments": {},
   "cell_type": "markdown",
   "metadata": {},
   "source": [
    "We can see that all the photons are not centered on points, let's look the photons of one particular star:"
   ]
  },
  {
   "cell_type": "code",
   "execution_count": null,
   "metadata": {},
   "outputs": [],
   "source": [
    "x_psf = []\n",
    "y_psf = []\n",
    "lbd_psf = []\n",
    "st = 0\n",
    "for i in range(len(sim.photon_dict_on_PSF[st])):\n",
    "    x_psf.append(sim.photon_dict_on_PSF[st][i][0])\n",
    "    y_psf.append(sim.photon_dict_on_PSF[st][i][1])\n",
    "    lbd_psf.append(sim.photon_dict_on_PSF[st][i][2])\n",
    "plt.scatter(x_psf,y_psf,c=lbd_psf)\n",
    "plt.colorbar()\n",
    "plt.title('Photon distribution on PSF for star '+str(st))"
   ]
  },
  {
   "attachments": {},
   "cell_type": "markdown",
   "metadata": {},
   "source": [
    "The photons are distributed around the center, meaning that the PSF (Point Source Function) is not a point. Let's look at it: "
   ]
  },
  {
   "cell_type": "code",
   "execution_count": null,
   "metadata": {},
   "outputs": [],
   "source": [
    "plt.imshow(sim.psf_visu[:,:,0],origin='lower')\n",
    "plt.colorbar()\n",
    "plt.title('PSF at 0.4µm')"
   ]
  },
  {
   "attachments": {},
   "cell_type": "markdown",
   "metadata": {},
   "source": [
    "Now, let's look at how many photons arrived on the detector:"
   ]
  },
  {
   "cell_type": "code",
   "execution_count": null,
   "metadata": {},
   "outputs": [],
   "source": [
    "a = np.zeros([50,50])\n",
    "for i in range(len(a)):\n",
    "    for j in range(len(a)):\n",
    "        a[i,j] = len(sim.wavelength[i,j])\n",
    "plt.imshow(a.T, origin='lower',cmap='gray_r')\n",
    "plt.title('Detector result')\n",
    "plt.colorbar()"
   ]
  }
 ],
 "metadata": {
  "kernelspec": {
   "display_name": "sim_env",
   "language": "python",
   "name": "python3"
  },
  "language_info": {
   "codemirror_mode": {
    "name": "ipython",
    "version": 3
   },
   "file_extension": ".py",
   "mimetype": "text/x-python",
   "name": "python",
   "nbconvert_exporter": "python",
   "pygments_lexer": "ipython3",
   "version": "3.10.12"
  },
  "orig_nbformat": 4,
  "vscode": {
   "interpreter": {
    "hash": "8670868e01929712f50dd97a406782e899e5f5ce47feda352077786530c2f839"
   }
  }
 },
 "nbformat": 4,
 "nbformat_minor": 2
}
