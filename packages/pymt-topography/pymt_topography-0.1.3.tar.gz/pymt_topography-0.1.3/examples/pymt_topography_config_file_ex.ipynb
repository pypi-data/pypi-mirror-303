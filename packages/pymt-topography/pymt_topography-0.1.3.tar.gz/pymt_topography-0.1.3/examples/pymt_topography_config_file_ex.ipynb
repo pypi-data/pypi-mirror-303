{
 "cells": [
  {
   "cell_type": "markdown",
   "id": "returning-fairy",
   "metadata": {},
   "source": [
    "# Using *pymt_topography*: with a configuration file"
   ]
  },
  {
   "cell_type": "markdown",
   "id": "psychological-snapshot",
   "metadata": {},
   "source": [
    "Start by importing the Topography class from `pymt`."
   ]
  },
  {
   "cell_type": "code",
   "execution_count": 1,
   "id": "hollywood-excuse",
   "metadata": {},
   "outputs": [],
   "source": [
    "from pymt.models import Topography"
   ]
  },
  {
   "cell_type": "markdown",
   "id": "developed-appliance",
   "metadata": {},
   "source": [
    "Create an instance of Topography and initialize it with our configuration file.\n",
    "(This may take a moment as data are fetched from the internet.)"
   ]
  },
  {
   "cell_type": "code",
   "execution_count": 2,
   "id": "intense-timber",
   "metadata": {},
   "outputs": [],
   "source": [
    "m = Topography()\n",
    "m.initialize(\"bmi-topography.yaml\")"
   ]
  },
  {
   "cell_type": "markdown",
   "id": "chief-flash",
   "metadata": {},
   "source": [
    "Note that the configurtation information has been read from the configuration file into the component as parameters."
   ]
  },
  {
   "cell_type": "code",
   "execution_count": 3,
   "id": "medical-matter",
   "metadata": {},
   "outputs": [
    {
     "name": "stdout",
     "output_type": "stream",
     "text": [
      "('dem_type', 'SRTMGL3')\n",
      "('south', 36.738884)\n",
      "('north', 38.091337)\n",
      "('west', -120.168457)\n",
      "('east', -118.465576)\n",
      "('output_format', 'GTiff')\n",
      "('cache_dir', '~/.bmi_topography')\n"
     ]
    }
   ],
   "source": [
    "for param in m.parameters:\n",
    "    print(param)"
   ]
  },
  {
   "cell_type": "markdown",
   "id": "liberal-sentence",
   "metadata": {},
   "source": [
    "Also note that the data have been downloaded to the cache directory:"
   ]
  },
  {
   "cell_type": "code",
   "execution_count": 4,
   "id": "talented-title",
   "metadata": {},
   "outputs": [
    {
     "name": "stdout",
     "output_type": "stream",
     "text": [
      "SRTMGL3_36.738884_-120.168457_38.091337_-118.465576.tif\r\n"
     ]
    }
   ],
   "source": [
    "!ls ~/.bmi_topography"
   ]
  },
  {
   "cell_type": "markdown",
   "id": "million-parade",
   "metadata": {},
   "source": [
    "What variables can be accessed from this component?"
   ]
  },
  {
   "cell_type": "code",
   "execution_count": 5,
   "id": "fuzzy-knitting",
   "metadata": {},
   "outputs": [
    {
     "name": "stdout",
     "output_type": "stream",
     "text": [
      "land_surface__elevation\n"
     ]
    }
   ],
   "source": [
    "for var in m.output_var_names:\n",
    "    print(var)"
   ]
  },
  {
   "cell_type": "markdown",
   "id": "positive-wireless",
   "metadata": {},
   "source": [
    "What is the highest elevation in the dataset?"
   ]
  },
  {
   "cell_type": "code",
   "execution_count": 6,
   "id": "present-brunswick",
   "metadata": {},
   "outputs": [
    {
     "data": {
      "text/plain": [
       "4291"
      ]
     },
     "execution_count": 6,
     "metadata": {},
     "output_type": "execute_result"
    }
   ],
   "source": [
    "import numpy\n",
    "\n",
    "numpy.max(m.var[\"land_surface__elevation\"].data)"
   ]
  },
  {
   "cell_type": "markdown",
   "id": "monetary-motion",
   "metadata": {},
   "source": [
    "What are the units of this elevation value?"
   ]
  },
  {
   "cell_type": "code",
   "execution_count": 7,
   "id": "interracial-illinois",
   "metadata": {},
   "outputs": [
    {
     "data": {
      "text/plain": [
       "'meters'"
      ]
     },
     "execution_count": 7,
     "metadata": {},
     "output_type": "execute_result"
    }
   ],
   "source": [
    "m.var[\"land_surface__elevation\"].units"
   ]
  },
  {
   "cell_type": "markdown",
   "id": "starting-imaging",
   "metadata": {},
   "source": [
    "Finish by finalizing the component."
   ]
  },
  {
   "cell_type": "code",
   "execution_count": 8,
   "id": "taken-kernel",
   "metadata": {},
   "outputs": [],
   "source": [
    "m.finalize()"
   ]
  }
 ],
 "metadata": {
  "kernelspec": {
   "display_name": "Python 3",
   "language": "python",
   "name": "python3"
  },
  "language_info": {
   "codemirror_mode": {
    "name": "ipython",
    "version": 3
   },
   "file_extension": ".py",
   "mimetype": "text/x-python",
   "name": "python",
   "nbconvert_exporter": "python",
   "pygments_lexer": "ipython3",
   "version": "3.9.1"
  }
 },
 "nbformat": 4,
 "nbformat_minor": 5
}
