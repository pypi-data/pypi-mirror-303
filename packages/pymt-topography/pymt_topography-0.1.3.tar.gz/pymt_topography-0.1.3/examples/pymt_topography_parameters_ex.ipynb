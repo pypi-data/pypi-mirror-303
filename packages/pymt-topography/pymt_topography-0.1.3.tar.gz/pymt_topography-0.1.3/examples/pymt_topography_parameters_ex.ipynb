{
 "cells": [
  {
   "cell_type": "markdown",
   "id": "returning-fairy",
   "metadata": {},
   "source": [
    "# Using *pymt_topography*: with parameters"
   ]
  },
  {
   "cell_type": "markdown",
   "id": "third-clear",
   "metadata": {},
   "source": [
    "Start by importing the Topography class from `pymt` and creating an instance."
   ]
  },
  {
   "cell_type": "code",
   "execution_count": 1,
   "id": "hollywood-excuse",
   "metadata": {},
   "outputs": [],
   "source": [
    "from pymt.models import Topography\n",
    "m = Topography()"
   ]
  },
  {
   "cell_type": "markdown",
   "id": "latin-penny",
   "metadata": {},
   "source": [
    "Next, use the *setup* method to assign values to the parameters needed by Topography."
   ]
  },
  {
   "cell_type": "code",
   "execution_count": 2,
   "id": "auburn-spectrum",
   "metadata": {},
   "outputs": [],
   "source": [
    "args = m.setup(\n",
    "    \"datadir-0\",\n",
    "    dem_type=\"SRTMGL3\",\n",
    "    south=39.75,\n",
    "    north=40.25,\n",
    "    west=-105.25,\n",
    "    east=-104.75,\n",
    "    output_format=\"GTiff\",\n",
    "    cache_dir=\".\",\n",
    ")"
   ]
  },
  {
   "cell_type": "markdown",
   "id": "voluntary-sudan",
   "metadata": {},
   "source": [
    "These coordinates represent an area around Boulder, Colorado."
   ]
  },
  {
   "cell_type": "markdown",
   "id": "informative-correlation",
   "metadata": {},
   "source": [
    "Pass the results from *setup* into the *initialize* method.\n",
    "(This step may take a moment as data are fetched from the internet.)"
   ]
  },
  {
   "cell_type": "code",
   "execution_count": 3,
   "id": "intense-timber",
   "metadata": {},
   "outputs": [],
   "source": [
    "m.initialize(*args)"
   ]
  },
  {
   "cell_type": "markdown",
   "id": "based-implement",
   "metadata": {},
   "source": [
    "Note that the parameters have been correctly assigned in the component:"
   ]
  },
  {
   "cell_type": "code",
   "execution_count": 4,
   "id": "medical-matter",
   "metadata": {},
   "outputs": [
    {
     "name": "stdout",
     "output_type": "stream",
     "text": [
      "('dem_type', 'SRTMGL3')\n",
      "('south', 39.75)\n",
      "('north', 40.25)\n",
      "('west', -105.25)\n",
      "('east', -104.75)\n",
      "('output_format', 'GTiff')\n",
      "('cache_dir', '.')\n"
     ]
    }
   ],
   "source": [
    "for param in m.parameters:\n",
    "    print(param)"
   ]
  },
  {
   "cell_type": "markdown",
   "id": "earlier-steps",
   "metadata": {},
   "source": [
    "As in the previous example, get the elevation values."
   ]
  },
  {
   "cell_type": "code",
   "execution_count": 5,
   "id": "diverse-luxembourg",
   "metadata": {},
   "outputs": [],
   "source": [
    "elevation = m.var[\"land_surface__elevation\"]\n",
    "elevation_values = elevation.data"
   ]
  },
  {
   "cell_type": "markdown",
   "id": "contrary-uncle",
   "metadata": {},
   "source": [
    "To make this example a little more interesting, let's visualize these elevations."
   ]
  },
  {
   "cell_type": "markdown",
   "id": "moving-wyoming",
   "metadata": {},
   "source": [
    "The *pymt_topography* component contains not only data values, but also the grid on which they're located.\n",
    "Start by getting the identifier for the grid used for the elevation data."
   ]
  },
  {
   "cell_type": "code",
   "execution_count": 6,
   "id": "interracial-illinois",
   "metadata": {},
   "outputs": [],
   "source": [
    "gid = m.var_grid(\"land_surface__elevation\")"
   ]
  },
  {
   "cell_type": "markdown",
   "id": "spatial-reach",
   "metadata": {},
   "source": [
    "Using the grid identifier, we can get the grid dimensions, origin, and node spacing."
   ]
  },
  {
   "cell_type": "code",
   "execution_count": 7,
   "id": "aerial-aaron",
   "metadata": {},
   "outputs": [
    {
     "name": "stdout",
     "output_type": "stream",
     "text": [
      "shape: [600 600]\n",
      "origin: [  39.75083333 -105.25      ]\n",
      "spacing: [ 0.00083333  0.00083333]\n"
     ]
    }
   ],
   "source": [
    "shape = m.grid_shape(gid)\n",
    "origin = m.grid_origin(gid)\n",
    "spacing = m.grid_spacing(gid)\n",
    "print(\"shape:\", shape)\n",
    "print(\"origin:\", origin)\n",
    "print(\"spacing:\", spacing)"
   ]
  },
  {
   "cell_type": "markdown",
   "id": "athletic-austin",
   "metadata": {},
   "source": [
    "From these values, we can construct latitude and longitude vectors."
   ]
  },
  {
   "cell_type": "code",
   "execution_count": 8,
   "id": "optional-shame",
   "metadata": {},
   "outputs": [],
   "source": [
    "import numpy as np\n",
    "\n",
    "lat = np.arange(shape[0])*spacing[0] + origin[0]\n",
    "lon = np.arange(shape[1])*spacing[1] + origin[1]"
   ]
  },
  {
   "cell_type": "markdown",
   "id": "exact-velvet",
   "metadata": {},
   "source": [
    "We're almost ready to make a plot.\n",
    "Note, however, that the default behavior of `pymt` components is to flatten data arrays."
   ]
  },
  {
   "cell_type": "code",
   "execution_count": 9,
   "id": "copyrighted-democrat",
   "metadata": {},
   "outputs": [
    {
     "data": {
      "text/plain": [
       "(360000,)"
      ]
     },
     "execution_count": 9,
     "metadata": {},
     "output_type": "execute_result"
    }
   ],
   "source": [
    "elevation_values.shape"
   ]
  },
  {
   "cell_type": "markdown",
   "id": "passing-chase",
   "metadata": {},
   "source": [
    "Make a new variable that restores the dimensionality of the data."
   ]
  },
  {
   "cell_type": "code",
   "execution_count": 10,
   "id": "unlimited-allen",
   "metadata": {},
   "outputs": [
    {
     "data": {
      "text/plain": [
       "(600, 600)"
      ]
     },
     "execution_count": 10,
     "metadata": {},
     "output_type": "execute_result"
    }
   ],
   "source": [
    "elevation_values_2D = elevation_values.reshape(shape)\n",
    "elevation_values_2D.shape"
   ]
  },
  {
   "cell_type": "markdown",
   "id": "engaged-correspondence",
   "metadata": {},
   "source": [
    "Make a simple filled contour plot of the data with a colorbar. "
   ]
  },
  {
   "cell_type": "code",
   "execution_count": 11,
   "id": "threaded-examination",
   "metadata": {},
   "outputs": [
    {
     "data": {
      "text/plain": [
       "<matplotlib.colorbar.Colorbar at 0x1a9cd5670>"
      ]
     },
     "execution_count": 11,
     "metadata": {},
     "output_type": "execute_result"
    },
    {
     "data": {
      "image/png": "[encoded data removed]",
      "text/plain": [
       "<Figure size 432x288 with 2 Axes>"
      ]
     },
     "metadata": {
      "needs_background": "light"
     },
     "output_type": "display_data"
    }
   ],
   "source": [
    "import matplotlib.pyplot as plt\n",
    "\n",
    "plt.contourf(lon, lat, elevation_values_2D, 15)\n",
    "plt.colorbar(label=\"Elevation (m)\")"
   ]
  },
  {
   "cell_type": "markdown",
   "id": "sophisticated-rescue",
   "metadata": {},
   "source": [
    "Complete the example by finalizing the component."
   ]
  },
  {
   "cell_type": "code",
   "execution_count": 12,
   "id": "taken-kernel",
   "metadata": {},
   "outputs": [],
   "source": [
    "m.finalize()"
   ]
  }
 ],
 "metadata": {
  "kernelspec": {
   "display_name": "Python 3",
   "language": "python",
   "name": "python3"
  },
  "language_info": {
   "codemirror_mode": {
    "name": "ipython",
    "version": 3
   },
   "file_extension": ".py",
   "mimetype": "text/x-python",
   "name": "python",
   "nbconvert_exporter": "python",
   "pygments_lexer": "ipython3",
   "version": "3.9.1"
  }
 },
 "nbformat": 4,
 "nbformat_minor": 5
}
